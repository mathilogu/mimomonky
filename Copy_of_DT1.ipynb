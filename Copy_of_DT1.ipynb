{
  "cells": [
    {
      "cell_type": "markdown",
      "metadata": {
        "id": "view-in-github",
        "colab_type": "text"
      },
      "source": [
        "<a href=\"https://colab.research.google.com/github/mimomonky/mimomonky/blob/main/Copy_of_DT1.ipynb\" target=\"_parent\"><img src=\"https://colab.research.google.com/assets/colab-badge.svg\" alt=\"Open In Colab\"/></a>"
      ]
    },
    {
      "cell_type": "markdown",
      "metadata": {
        "id": "vCnbFtLJeutN"
      },
      "source": [
        "# **STARTING**\n",
        "\n"
      ]
    },
    {
      "cell_type": "code",
      "execution_count": null,
      "metadata": {
        "colab": {
          "base_uri": "https://localhost:8080/"
        },
        "id": "0n5Z5I8k00uP",
        "outputId": "c19259aa-9bc2-4637-b1c9-d6b65261b978"
      },
      "outputs": [
        {
          "name": "stdout",
          "output_type": "stream",
          "text": [
            "Python 3.7.15\n"
          ]
        }
      ],
      "source": [
        "                                                                                          !python --version"
      ]
    },
    {
      "cell_type": "code",
      "execution_count": null,
      "metadata": {
        "colab": {
          "base_uri": "https://localhost:8080/"
        },
        "id": "wNtZ9WTj3fYv",
        "outputId": "10630799-a057-4c4a-dfea-5bd8babc238c"
      },
      "outputs": [
        {
          "name": "stdout",
          "output_type": "stream",
          "text": [
            "sample\n"
          ]
        }
      ],
      "source": [
        "print(\"sample\")"
      ]
    },
    {
      "cell_type": "code",
      "execution_count": null,
      "metadata": {
        "id": "nklEDEvy3iyT"
      },
      "outputs": [],
      "source": [
        "a=23"
      ]
    },
    {
      "cell_type": "code",
      "execution_count": null,
      "metadata": {
        "colab": {
          "base_uri": "https://localhost:8080/"
        },
        "id": "z4cJjWPL58c_",
        "outputId": "303bb24c-22ad-492c-d679-ce5569901644"
      },
      "outputs": [
        {
          "name": "stdout",
          "output_type": "stream",
          "text": [
            "23\n"
          ]
        }
      ],
      "source": [
        "print(a)"
      ]
    },
    {
      "cell_type": "code",
      "execution_count": null,
      "metadata": {
        "colab": {
          "base_uri": "https://localhost:8080/"
        },
        "id": "a6urHtuB6ESb",
        "outputId": "bb5331b7-b338-4a67-c1e8-1abe770c5140"
      },
      "outputs": [
        {
          "data": {
            "text/plain": [
              "23"
            ]
          },
          "execution_count": 5,
          "metadata": {},
          "output_type": "execute_result"
        }
      ],
      "source": [
        "a"
      ]
    },
    {
      "cell_type": "code",
      "execution_count": null,
      "metadata": {
        "id": "2PO2zHDR6KOg"
      },
      "outputs": [],
      "source": [
        "#variable name rule\n",
        "sample_data_one=34 #snake case\n",
        "sampleDataOne=34 #camel case\n",
        "SampleDataOne=34 #pascal case"
      ]
    },
    {
      "cell_type": "code",
      "execution_count": null,
      "metadata": {
        "id": "AD-BEuBX7Zsx"
      },
      "outputs": [],
      "source": [
        "#donts\n",
        "23a=45\n",
        "a-b\n",
        "a b\n"
      ]
    },
    {
      "cell_type": "code",
      "execution_count": null,
      "metadata": {
        "colab": {
          "base_uri": "https://localhost:8080/"
        },
        "id": "77MMYzZl8C8O",
        "outputId": "1c18e48e-a2f1-4b3e-8fa0-d93bfd914a4e"
      },
      "outputs": [
        {
          "name": "stdout",
          "output_type": "stream",
          "text": [
            "good\n",
            "goog \n"
          ]
        }
      ],
      "source": [
        "\"\"\"hi all\n",
        "hi\"\"\"\n",
        "print(\"\"\"good\n",
        "goog \"\"\")"
      ]
    },
    {
      "cell_type": "code",
      "execution_count": null,
      "metadata": {
        "colab": {
          "base_uri": "https://localhost:8080/"
        },
        "id": "V4OIRfZ99vod",
        "outputId": "1c59b58b-7fff-4a1b-a6b2-5edbfea1cb52"
      },
      "outputs": [
        {
          "name": "stdout",
          "output_type": "stream",
          "text": [
            "45 <class 'int'>\n"
          ]
        }
      ],
      "source": [
        "value=45\n",
        "print(value,type(value))"
      ]
    },
    {
      "cell_type": "code",
      "execution_count": null,
      "metadata": {
        "colab": {
          "base_uri": "https://localhost:8080/"
        },
        "id": "OvunVnnq-jH0",
        "outputId": "439b096d-9240-45dc-ed71-88486eb7101b"
      },
      "outputs": [
        {
          "name": "stdout",
          "output_type": "stream",
          "text": [
            "45.6 <class 'float'>\n"
          ]
        }
      ],
      "source": [
        "value=45.6\n",
        "print(value,type(value))"
      ]
    },
    {
      "cell_type": "code",
      "execution_count": null,
      "metadata": {
        "colab": {
          "base_uri": "https://localhost:8080/"
        },
        "id": "RHHfddFP-mIk",
        "outputId": "64b3f9a1-635b-4e7a-e271-3dfc093cc26a"
      },
      "outputs": [
        {
          "name": "stdout",
          "output_type": "stream",
          "text": [
            "super <class 'str'>\n"
          ]
        }
      ],
      "source": [
        "x=\"super\"\n",
        "print(x,type(value))"
      ]
    },
    {
      "cell_type": "code",
      "execution_count": null,
      "metadata": {
        "id": "107OJ-0Y_uXB"
      },
      "outputs": [],
      "source": []
    },
    {
      "cell_type": "code",
      "execution_count": null,
      "metadata": {
        "colab": {
          "base_uri": "https://localhost:8080/"
        },
        "id": "6IRI-v7W_Vds",
        "outputId": "74f6e0da-64de-4594-c71c-e0c7d4c0365d"
      },
      "outputs": [
        {
          "name": "stdout",
          "output_type": "stream",
          "text": [
            "(3+45j)\n"
          ]
        },
        {
          "data": {
            "text/plain": [
              "((3+45j), complex)"
            ]
          },
          "execution_count": 22,
          "metadata": {},
          "output_type": "execute_result"
        }
      ],
      "source": [
        "x=3+45j\n",
        "print(x)\n",
        "x,type(x)"
      ]
    },
    {
      "cell_type": "code",
      "execution_count": null,
      "metadata": {
        "id": "b2Dg2d01AhNB"
      },
      "outputs": [],
      "source": [
        "a=\"hi all, have a great day\"\n",
        "b=\"byee\""
      ]
    },
    {
      "cell_type": "code",
      "execution_count": null,
      "metadata": {
        "colab": {
          "base_uri": "https://localhost:8080/",
          "height": 36
        },
        "id": "X2bRQxuGAmiK",
        "outputId": "e70f9851-521f-429e-83da-d93e876d61c8"
      },
      "outputs": [
        {
          "data": {
            "application/vnd.google.colaboratory.intrinsic+json": {
              "type": "string"
            },
            "text/plain": [
              "'hi all, \\nhave a great day'"
            ]
          },
          "execution_count": 27,
          "metadata": {},
          "output_type": "execute_result"
        }
      ],
      "source": [
        "a"
      ]
    },
    {
      "cell_type": "code",
      "execution_count": null,
      "metadata": {
        "colab": {
          "base_uri": "https://localhost:8080/"
        },
        "id": "NnMChAiWAoZk",
        "outputId": "16627aa7-6d29-4a36-b259-7a97600c19c1"
      },
      "outputs": [
        {
          "name": "stdout",
          "output_type": "stream",
          "text": [
            " hi all, have a great day \n",
            " byee\n"
          ]
        }
      ],
      "source": [
        "print(\"\",a,\"\\n\",b)"
      ]
    },
    {
      "cell_type": "code",
      "execution_count": null,
      "metadata": {
        "colab": {
          "base_uri": "https://localhost:8080/",
          "height": 133
        },
        "id": "OeDsQ9lGBcZw",
        "outputId": "b0c5720c-fb87-41bf-812b-3ba3d70ba92f"
      },
      "outputs": [
        {
          "ename": "SyntaxError",
          "evalue": "ignored",
          "output_type": "error",
          "traceback": [
            "\u001b[0;36m  File \u001b[0;32m\"<ipython-input-36-3c5cf711d696>\"\u001b[0;36m, line \u001b[0;32m1\u001b[0m\n\u001b[0;31m    print(a\\nb)\u001b[0m\n\u001b[0m               ^\u001b[0m\n\u001b[0;31mSyntaxError\u001b[0m\u001b[0;31m:\u001b[0m unexpected character after line continuation character\n"
          ]
        }
      ],
      "source": [
        "print(a\\nb)"
      ]
    },
    {
      "cell_type": "code",
      "execution_count": null,
      "metadata": {
        "colab": {
          "base_uri": "https://localhost:8080/"
        },
        "id": "aZ3koHu0CGPX",
        "outputId": "23f5772c-0e9d-4a94-ad5a-a388af750401"
      },
      "outputs": [
        {
          "name": "stdout",
          "output_type": "stream",
          "text": [
            "(73+45j)\n"
          ]
        },
        {
          "data": {
            "text/plain": [
              "((3+45j), complex)"
            ]
          },
          "execution_count": 37,
          "metadata": {},
          "output_type": "execute_result"
        }
      ],
      "source": [
        "x=3+45j\n",
        "print(x+70)\n",
        "x,type(x)"
      ]
    },
    {
      "cell_type": "code",
      "execution_count": null,
      "metadata": {
        "colab": {
          "base_uri": "https://localhost:8080/"
        },
        "id": "xwEDcgEfCVzJ",
        "outputId": "7aad3422-d31f-4c3d-d8fb-913850f9130a"
      },
      "outputs": [
        {
          "name": "stdout",
          "output_type": "stream",
          "text": [
            "(12+180j)\n"
          ]
        },
        {
          "data": {
            "text/plain": [
              "((3+45j), complex)"
            ]
          },
          "execution_count": 38,
          "metadata": {},
          "output_type": "execute_result"
        }
      ],
      "source": [
        "x=3+45j\n",
        "print(x*4)\n",
        "x,type(x)"
      ]
    },
    {
      "cell_type": "code",
      "execution_count": null,
      "metadata": {
        "colab": {
          "base_uri": "https://localhost:8080/"
        },
        "id": "Ysbj2DqQCxyb",
        "outputId": "0ccaea76-a6f6-4b88-c975-93918ea8e875"
      },
      "outputs": [
        {
          "name": "stdout",
          "output_type": "stream",
          "text": [
            "(-180+12j)\n"
          ]
        },
        {
          "data": {
            "text/plain": [
              "((3+45j), complex)"
            ]
          },
          "execution_count": 39,
          "metadata": {},
          "output_type": "execute_result"
        }
      ],
      "source": [
        "x=3+45j\n",
        "print(x*4j)\n",
        "x,type(x)"
      ]
    },
    {
      "cell_type": "code",
      "execution_count": null,
      "metadata": {
        "id": "28zxSut3DOF8"
      },
      "outputs": [],
      "source": [
        "a=\"google pixel 6\""
      ]
    },
    {
      "cell_type": "code",
      "execution_count": null,
      "metadata": {
        "colab": {
          "base_uri": "https://localhost:8080/",
          "height": 36
        },
        "id": "MFutnZirD3Ik",
        "outputId": "e25ab7f2-a54f-4193-aa08-df45e2e990e8"
      },
      "outputs": [
        {
          "data": {
            "application/vnd.google.colaboratory.intrinsic+json": {
              "type": "string"
            },
            "text/plain": [
              "'g'"
            ]
          },
          "execution_count": 44,
          "metadata": {},
          "output_type": "execute_result"
        }
      ],
      "source": [
        "a[0]"
      ]
    },
    {
      "cell_type": "code",
      "execution_count": null,
      "metadata": {
        "colab": {
          "base_uri": "https://localhost:8080/"
        },
        "id": "HIxqfyVkECPP",
        "outputId": "a33df96c-14ee-4049-a88b-2e30dd86499b"
      },
      "outputs": [
        {
          "name": "stdout",
          "output_type": "stream",
          "text": [
            "g\n"
          ]
        }
      ],
      "source": [
        "print(a[0])"
      ]
    },
    {
      "cell_type": "code",
      "execution_count": null,
      "metadata": {
        "colab": {
          "base_uri": "https://localhost:8080/",
          "height": 36
        },
        "id": "9QEWwtHkEfI2",
        "outputId": "4e5cd540-4da7-46f3-ae4b-d09925a2b427"
      },
      "outputs": [
        {
          "data": {
            "application/vnd.google.colaboratory.intrinsic+json": {
              "type": "string"
            },
            "text/plain": [
              "'p'"
            ]
          },
          "execution_count": 45,
          "metadata": {},
          "output_type": "execute_result"
        }
      ],
      "source": [
        "a[7]"
      ]
    },
    {
      "cell_type": "code",
      "execution_count": null,
      "metadata": {
        "colab": {
          "base_uri": "https://localhost:8080/"
        },
        "id": "-Nxw-3LlEjty",
        "outputId": "a8c7328d-d8de-4bd4-d7dc-2160f3f7741c"
      },
      "outputs": [
        {
          "data": {
            "text/plain": [
              "14"
            ]
          },
          "execution_count": 46,
          "metadata": {},
          "output_type": "execute_result"
        }
      ],
      "source": [
        "len(a)"
      ]
    },
    {
      "cell_type": "code",
      "execution_count": null,
      "metadata": {
        "colab": {
          "base_uri": "https://localhost:8080/",
          "height": 36
        },
        "id": "UYzWAYnBEp_z",
        "outputId": "f94ae491-e917-4600-b060-134ecbabe55d"
      },
      "outputs": [
        {
          "data": {
            "application/vnd.google.colaboratory.intrinsic+json": {
              "type": "string"
            },
            "text/plain": [
              "'ogle pi'"
            ]
          },
          "execution_count": 47,
          "metadata": {},
          "output_type": "execute_result"
        }
      ],
      "source": [
        "a[2:9] #starts from 2 , till, lessthen 9"
      ]
    },
    {
      "cell_type": "code",
      "execution_count": null,
      "metadata": {
        "colab": {
          "base_uri": "https://localhost:8080/",
          "height": 36
        },
        "id": "WtusbhSOE7l5",
        "outputId": "16105a22-67b9-40d2-a8c0-4ca21b47ffcf"
      },
      "outputs": [
        {
          "data": {
            "application/vnd.google.colaboratory.intrinsic+json": {
              "type": "string"
            },
            "text/plain": [
              "'gle pixel '"
            ]
          },
          "execution_count": 48,
          "metadata": {},
          "output_type": "execute_result"
        }
      ],
      "source": [
        "a[3:13]"
      ]
    },
    {
      "cell_type": "code",
      "execution_count": null,
      "metadata": {
        "colab": {
          "base_uri": "https://localhost:8080/",
          "height": 36
        },
        "id": "zrW00jBjFDst",
        "outputId": "374089d9-3568-4ad9-edb2-62f0dd089cdf"
      },
      "outputs": [
        {
          "data": {
            "application/vnd.google.colaboratory.intrinsic+json": {
              "type": "string"
            },
            "text/plain": [
              "' pixel 6'"
            ]
          },
          "execution_count": 49,
          "metadata": {},
          "output_type": "execute_result"
        }
      ],
      "source": [
        "a[6:]"
      ]
    },
    {
      "cell_type": "code",
      "execution_count": null,
      "metadata": {
        "colab": {
          "base_uri": "https://localhost:8080/",
          "height": 36
        },
        "id": "OpbStEDFFPnN",
        "outputId": "95464370-7d44-40b6-a8b7-ed9dca101074"
      },
      "outputs": [
        {
          "data": {
            "application/vnd.google.colaboratory.intrinsic+json": {
              "type": "string"
            },
            "text/plain": [
              "'gle pixel 6'"
            ]
          },
          "execution_count": 50,
          "metadata": {},
          "output_type": "execute_result"
        }
      ],
      "source": [
        "a[3:200]"
      ]
    },
    {
      "cell_type": "code",
      "execution_count": null,
      "metadata": {
        "colab": {
          "base_uri": "https://localhost:8080/",
          "height": 36
        },
        "id": "Qxmmn4UtFfEw",
        "outputId": "4b4e7a9a-a2c4-41e8-9413-d0adbf00ebbf"
      },
      "outputs": [
        {
          "data": {
            "application/vnd.google.colaboratory.intrinsic+json": {
              "type": "string"
            },
            "text/plain": [
              "'g'"
            ]
          },
          "execution_count": 52,
          "metadata": {},
          "output_type": "execute_result"
        }
      ],
      "source": [
        "a[3:4]"
      ]
    },
    {
      "cell_type": "code",
      "execution_count": null,
      "metadata": {
        "colab": {
          "base_uri": "https://localhost:8080/",
          "height": 36
        },
        "id": "QmKCjBZIFvW5",
        "outputId": "0819f125-6ce8-4572-e2d1-4f43281c2b62"
      },
      "outputs": [
        {
          "data": {
            "application/vnd.google.colaboratory.intrinsic+json": {
              "type": "string"
            },
            "text/plain": [
              "''"
            ]
          },
          "execution_count": 53,
          "metadata": {},
          "output_type": "execute_result"
        }
      ],
      "source": [
        "a[8:2]"
      ]
    },
    {
      "cell_type": "code",
      "execution_count": null,
      "metadata": {
        "colab": {
          "base_uri": "https://localhost:8080/",
          "height": 36
        },
        "id": "5TZBtohbGul4",
        "outputId": "e0443367-7196-4072-faeb-a38dd52ad475"
      },
      "outputs": [
        {
          "data": {
            "application/vnd.google.colaboratory.intrinsic+json": {
              "type": "string"
            },
            "text/plain": [
              "'oogle pix'"
            ]
          },
          "execution_count": 56,
          "metadata": {},
          "output_type": "execute_result"
        }
      ],
      "source": [
        "a[1:10]"
      ]
    },
    {
      "cell_type": "code",
      "execution_count": null,
      "metadata": {
        "colab": {
          "base_uri": "https://localhost:8080/",
          "height": 36
        },
        "id": "7nVEnFrsGGuY",
        "outputId": "6fea366f-474f-448b-dc66-ceb80d5f65bc"
      },
      "outputs": [
        {
          "data": {
            "application/vnd.google.colaboratory.intrinsic+json": {
              "type": "string"
            },
            "text/plain": [
              "'ogepx'"
            ]
          },
          "execution_count": 55,
          "metadata": {},
          "output_type": "execute_result"
        }
      ],
      "source": [
        "a[1:10:2] #step seq"
      ]
    },
    {
      "cell_type": "code",
      "execution_count": null,
      "metadata": {
        "colab": {
          "base_uri": "https://localhost:8080/",
          "height": 36
        },
        "id": "5_Xoq64-HSCy",
        "outputId": "96e5f603-5cb0-41fb-9eb0-81a7783243e3"
      },
      "outputs": [
        {
          "data": {
            "application/vnd.google.colaboratory.intrinsic+json": {
              "type": "string"
            },
            "text/plain": [
              "'oogle pixel'"
            ]
          },
          "execution_count": 58,
          "metadata": {},
          "output_type": "execute_result"
        }
      ],
      "source": [
        "a[1:12]"
      ]
    },
    {
      "cell_type": "code",
      "execution_count": null,
      "metadata": {
        "colab": {
          "base_uri": "https://localhost:8080/",
          "height": 36
        },
        "id": "ZLwJV_kuGsvK",
        "outputId": "7cbbff2e-bc45-4b31-b711-0266a2c13eb8"
      },
      "outputs": [
        {
          "data": {
            "application/vnd.google.colaboratory.intrinsic+json": {
              "type": "string"
            },
            "text/plain": [
              "'oex'"
            ]
          },
          "execution_count": 57,
          "metadata": {},
          "output_type": "execute_result"
        }
      ],
      "source": [
        "a[1:12:4]"
      ]
    },
    {
      "cell_type": "code",
      "execution_count": null,
      "metadata": {
        "colab": {
          "base_uri": "https://localhost:8080/",
          "height": 36
        },
        "id": "jjhPLrI_Gsmv",
        "outputId": "e13e8cbf-c142-40ae-ff7e-924f2d045e77"
      },
      "outputs": [
        {
          "data": {
            "application/vnd.google.colaboratory.intrinsic+json": {
              "type": "string"
            },
            "text/plain": [
              "' lexip elgo'"
            ]
          },
          "execution_count": 59,
          "metadata": {},
          "output_type": "execute_result"
        }
      ],
      "source": [
        "a[12:1:-1]"
      ]
    },
    {
      "cell_type": "code",
      "execution_count": null,
      "metadata": {
        "colab": {
          "base_uri": "https://localhost:8080/",
          "height": 36
        },
        "id": "R_JrCJPsH9eo",
        "outputId": "a62b6908-6de0-478f-96fd-629195700818"
      },
      "outputs": [
        {
          "data": {
            "application/vnd.google.colaboratory.intrinsic+json": {
              "type": "string"
            },
            "text/plain": [
              "'lieo'"
            ]
          },
          "execution_count": 62,
          "metadata": {},
          "output_type": "execute_result"
        }
      ],
      "source": [
        "a[11:1:-3]"
      ]
    },
    {
      "cell_type": "code",
      "execution_count": null,
      "metadata": {
        "colab": {
          "base_uri": "https://localhost:8080/",
          "height": 36
        },
        "id": "2pmkMSQLJt4x",
        "outputId": "c577e9ec-09f5-4518-d3a0-d6fde55714f2"
      },
      "outputs": [
        {
          "data": {
            "application/vnd.google.colaboratory.intrinsic+json": {
              "type": "string"
            },
            "text/plain": [
              "' lexip elgoog'"
            ]
          },
          "execution_count": 63,
          "metadata": {},
          "output_type": "execute_result"
        }
      ],
      "source": [
        "a[12::-1]"
      ]
    },
    {
      "cell_type": "code",
      "execution_count": null,
      "metadata": {
        "colab": {
          "base_uri": "https://localhost:8080/",
          "height": 36
        },
        "id": "ZjOZ8zsLJ1L6",
        "outputId": "47913966-24f4-494a-c9a9-ecefe2e6e4b6"
      },
      "outputs": [
        {
          "data": {
            "application/vnd.google.colaboratory.intrinsic+json": {
              "type": "string"
            },
            "text/plain": [
              "'6 lexip elgoog'"
            ]
          },
          "execution_count": 70,
          "metadata": {},
          "output_type": "execute_result"
        }
      ],
      "source": [
        "a[::-1]"
      ]
    },
    {
      "cell_type": "code",
      "execution_count": null,
      "metadata": {
        "id": "QUQ7lD7SKcFW"
      },
      "outputs": [],
      "source": [
        "a=\"google pixel 6\""
      ]
    },
    {
      "cell_type": "code",
      "execution_count": null,
      "metadata": {
        "colab": {
          "base_uri": "https://localhost:8080/",
          "height": 36
        },
        "id": "LvBDKUuEK5ez",
        "outputId": "471b5e8a-edfe-4d8e-ebfc-32bd60aa6c6d"
      },
      "outputs": [
        {
          "data": {
            "application/vnd.google.colaboratory.intrinsic+json": {
              "type": "string"
            },
            "text/plain": [
              "'x'"
            ]
          },
          "execution_count": 71,
          "metadata": {},
          "output_type": "execute_result"
        }
      ],
      "source": [
        "a[-5]"
      ]
    },
    {
      "cell_type": "code",
      "execution_count": null,
      "metadata": {
        "colab": {
          "base_uri": "https://localhost:8080/",
          "height": 36
        },
        "id": "cligho5nLZ_0",
        "outputId": "378518c6-6f96-4901-ccc7-373130719f20"
      },
      "outputs": [
        {
          "data": {
            "application/vnd.google.colaboratory.intrinsic+json": {
              "type": "string"
            },
            "text/plain": [
              "'o'"
            ]
          },
          "execution_count": 72,
          "metadata": {},
          "output_type": "execute_result"
        }
      ],
      "source": [
        "a[-13]"
      ]
    },
    {
      "cell_type": "code",
      "execution_count": null,
      "metadata": {
        "colab": {
          "base_uri": "https://localhost:8080/",
          "height": 36
        },
        "id": "CgX4so4ULoAo",
        "outputId": "051e086c-63c4-4a5a-e4be-2f6fddd8d62b"
      },
      "outputs": [
        {
          "data": {
            "application/vnd.google.colaboratory.intrinsic+json": {
              "type": "string"
            },
            "text/plain": [
              "'oogle pix'"
            ]
          },
          "execution_count": 73,
          "metadata": {},
          "output_type": "execute_result"
        }
      ],
      "source": [
        "a[-13:-4]"
      ]
    },
    {
      "cell_type": "code",
      "execution_count": null,
      "metadata": {
        "colab": {
          "base_uri": "https://localhost:8080/",
          "height": 36
        },
        "id": "4nfBpeS9Lxfh",
        "outputId": "20074adc-a16b-42a5-eb42-0ba42deff710"
      },
      "outputs": [
        {
          "data": {
            "application/vnd.google.colaboratory.intrinsic+json": {
              "type": "string"
            },
            "text/plain": [
              "'oogle pix'"
            ]
          },
          "execution_count": 74,
          "metadata": {},
          "output_type": "execute_result"
        }
      ],
      "source": [
        "a[1:10]"
      ]
    },
    {
      "cell_type": "code",
      "execution_count": null,
      "metadata": {
        "id": "HCUeQA3fMqw7"
      },
      "outputs": [],
      "source": [
        "a[1:-1]\n",
        "a[-1::-1]\n",
        "a[3:-13]\n",
        "a[13:-13:-3]"
      ]
    },
    {
      "cell_type": "code",
      "execution_count": null,
      "metadata": {
        "colab": {
          "base_uri": "https://localhost:8080/"
        },
        "id": "nEABjEoM9-1l",
        "outputId": "410ed145-5aff-4db5-de17-5a45dcd1a652"
      },
      "outputs": [
        {
          "name": "stdout",
          "output_type": "stream",
          "text": [
            "895\n"
          ]
        }
      ],
      "source": [
        "x=input() #run time input , "
      ]
    },
    {
      "cell_type": "code",
      "execution_count": null,
      "metadata": {
        "colab": {
          "base_uri": "https://localhost:8080/"
        },
        "id": "W5Ylq2pP-hPq",
        "outputId": "86f7de9b-8c90-41e6-b225-6ddc0c6cfde1"
      },
      "outputs": [
        {
          "data": {
            "text/plain": [
              "('895', str)"
            ]
          },
          "execution_count": 8,
          "metadata": {},
          "output_type": "execute_result"
        }
      ],
      "source": [
        "x,type(x)"
      ]
    },
    {
      "cell_type": "code",
      "execution_count": null,
      "metadata": {
        "colab": {
          "base_uri": "https://localhost:8080/"
        },
        "id": "VqcaXU3E-vwz",
        "outputId": "f9fb3dff-f6c0-42aa-aee0-8010c7af9f50"
      },
      "outputs": [
        {
          "data": {
            "text/plain": [
              "902"
            ]
          },
          "execution_count": 10,
          "metadata": {},
          "output_type": "execute_result"
        }
      ],
      "source": [
        "int(x)+7"
      ]
    },
    {
      "cell_type": "code",
      "execution_count": null,
      "metadata": {
        "colab": {
          "base_uri": "https://localhost:8080/"
        },
        "id": "buOBo7u2--vG",
        "outputId": "a1401169-4eb3-4b74-f0be-ae4032305971"
      },
      "outputs": [
        {
          "data": {
            "text/plain": [
              "(895, int)"
            ]
          },
          "execution_count": 11,
          "metadata": {},
          "output_type": "execute_result"
        }
      ],
      "source": [
        "y=int(x)\n",
        "y,type(y)"
      ]
    },
    {
      "cell_type": "code",
      "execution_count": null,
      "metadata": {
        "colab": {
          "base_uri": "https://localhost:8080/"
        },
        "id": "8YGF1fH3AJDC",
        "outputId": "c73e0d55-cdf1-4412-d0af-dba6116d8ef3"
      },
      "outputs": [
        {
          "name": "stdout",
          "output_type": "stream",
          "text": [
            "enter value for x 45.8\n"
          ]
        }
      ],
      "source": [
        "x=input(\"enter value for x \")"
      ]
    },
    {
      "cell_type": "code",
      "execution_count": null,
      "metadata": {
        "colab": {
          "base_uri": "https://localhost:8080/"
        },
        "id": "6Veggv1mAX35",
        "outputId": "69cbab84-f146-436f-98a5-cb9da0e537f0"
      },
      "outputs": [
        {
          "data": {
            "text/plain": [
              "str"
            ]
          },
          "execution_count": 14,
          "metadata": {},
          "output_type": "execute_result"
        }
      ],
      "source": [
        "type(x)"
      ]
    },
    {
      "cell_type": "code",
      "execution_count": null,
      "metadata": {
        "colab": {
          "base_uri": "https://localhost:8080/"
        },
        "id": "EKtCPyUyAbP1",
        "outputId": "7e47691f-08a9-4274-bc49-318ed79d2596"
      },
      "outputs": [
        {
          "name": "stdout",
          "output_type": "stream",
          "text": [
            "x 545.5\n"
          ]
        }
      ],
      "source": [
        "x=float(input(\"x \"))"
      ]
    },
    {
      "cell_type": "code",
      "execution_count": null,
      "metadata": {
        "colab": {
          "base_uri": "https://localhost:8080/"
        },
        "id": "7pBwBrJbAq1d",
        "outputId": "f7f95495-5027-49ea-f2e3-4a78d5ba7edb"
      },
      "outputs": [
        {
          "data": {
            "text/plain": [
              "(545.5, float)"
            ]
          },
          "execution_count": 21,
          "metadata": {},
          "output_type": "execute_result"
        }
      ],
      "source": [
        "x,type(x)"
      ]
    },
    {
      "cell_type": "code",
      "execution_count": null,
      "metadata": {
        "colab": {
          "base_uri": "https://localhost:8080/"
        },
        "id": "v-2rFZLYBCZK",
        "outputId": "526e5dac-b5e9-41b3-b43a-1ef38a8e1352"
      },
      "outputs": [
        {
          "name": "stdout",
          "output_type": "stream",
          "text": [
            "give name ashok\n",
            "location pls chennai\n",
            "salary 78000\n"
          ]
        }
      ],
      "source": [
        "name=input(\"give name \")\n",
        "location = input(\"location pls \")\n",
        "salary=int(input(\"salary \"))"
      ]
    },
    {
      "cell_type": "code",
      "execution_count": null,
      "metadata": {
        "colab": {
          "base_uri": "https://localhost:8080/"
        },
        "id": "S-Ul_ZRQCI9x",
        "outputId": "e3125757-9e46-49d2-87f5-dd48a2c30508"
      },
      "outputs": [
        {
          "name": "stdout",
          "output_type": "stream",
          "text": [
            "hi I am ashok I am from chennaimy salary is 45000\n"
          ]
        }
      ],
      "source": [
        "print(\"hi I am \"+name+\" I am from \"+location+\"my salary is \"+str(salary))"
      ]
    },
    {
      "cell_type": "code",
      "execution_count": null,
      "metadata": {
        "id": "pFUO8av8DNah"
      },
      "outputs": [],
      "source": [
        "statement = \"Hi I am {} , I am from {}, My salary is {}\"\n",
        "#{} place holder for data stich"
      ]
    },
    {
      "cell_type": "code",
      "execution_count": null,
      "metadata": {
        "colab": {
          "base_uri": "https://localhost:8080/"
        },
        "id": "_uDToGxbDiOV",
        "outputId": "244b2c8c-34dc-4b04-c692-55898f2bc0f1"
      },
      "outputs": [
        {
          "name": "stdout",
          "output_type": "stream",
          "text": [
            "Hi I am ashok , I am from chennai, My salary is 78000\n"
          ]
        }
      ],
      "source": [
        "print(statement.format(name,location,salary))"
      ]
    },
    {
      "cell_type": "code",
      "execution_count": null,
      "metadata": {
        "colab": {
          "base_uri": "https://localhost:8080/"
        },
        "id": "wVVdKtW3GST_",
        "outputId": "940422e5-523d-467b-b9e4-f444871a472d"
      },
      "outputs": [
        {
          "name": "stdout",
          "output_type": "stream",
          "text": [
            "Hi I am chennai , I am from 78000, My salary is ashok\n"
          ]
        }
      ],
      "source": [
        "statement = \"Hi I am {} , I am from {}, My salary is {}\"\n",
        "print(statement.format(location,salary,name))"
      ]
    },
    {
      "cell_type": "code",
      "execution_count": null,
      "metadata": {
        "colab": {
          "base_uri": "https://localhost:8080/"
        },
        "id": "vzQ817zhHBzK",
        "outputId": "9e446009-d234-4824-edeb-c7f83a59eed7"
      },
      "outputs": [
        {
          "name": "stdout",
          "output_type": "stream",
          "text": [
            "Hi I am ashok , I am from chennai, My salary is 78000\n"
          ]
        }
      ],
      "source": [
        "statement = \"Hi I am {2} , I am from {0}, My salary is {1}\"\n",
        "print(statement.format(location,salary,name))"
      ]
    },
    {
      "cell_type": "code",
      "execution_count": null,
      "metadata": {
        "id": "zCH98RRGHROf"
      },
      "outputs": [],
      "source": [
        "import time"
      ]
    },
    {
      "cell_type": "code",
      "execution_count": null,
      "metadata": {
        "id": "2Txh-q2OHoT_"
      },
      "outputs": [],
      "source": [
        "s=time.time()"
      ]
    },
    {
      "cell_type": "code",
      "execution_count": null,
      "metadata": {
        "colab": {
          "base_uri": "https://localhost:8080/"
        },
        "id": "NNs3NTSUHrha",
        "outputId": "d1e9aee6-c40c-4827-d7bd-e299fb5010a1"
      },
      "outputs": [
        {
          "data": {
            "text/plain": [
              "1667103632.4317906"
            ]
          },
          "execution_count": 39,
          "metadata": {},
          "output_type": "execute_result"
        }
      ],
      "source": [
        "s"
      ]
    },
    {
      "cell_type": "code",
      "execution_count": null,
      "metadata": {
        "colab": {
          "base_uri": "https://localhost:8080/",
          "height": 36
        },
        "id": "dm6nDwh7IXFX",
        "outputId": "82fe9c5d-49ac-4542-d505-3c97facdb9fe"
      },
      "outputs": [
        {
          "data": {
            "application/vnd.google.colaboratory.intrinsic+json": {
              "type": "string"
            },
            "text/plain": [
              "'Sun Oct 30 04:20:32 2022'"
            ]
          },
          "execution_count": 40,
          "metadata": {},
          "output_type": "execute_result"
        }
      ],
      "source": [
        "localtime=time.ctime(s)\n",
        "localtime"
      ]
    },
    {
      "cell_type": "code",
      "execution_count": null,
      "metadata": {
        "colab": {
          "base_uri": "https://localhost:8080/",
          "height": 36
        },
        "id": "uJ1_7vIzImbh",
        "outputId": "df06d91a-1d80-4164-ecf3-6e45e65c5328"
      },
      "outputs": [
        {
          "data": {
            "application/vnd.google.colaboratory.intrinsic+json": {
              "type": "string"
            },
            "text/plain": [
              "'Sun Oct 30 04:31:52 2022'"
            ]
          },
          "execution_count": 43,
          "metadata": {},
          "output_type": "execute_result"
        }
      ],
      "source": [
        "s=60\n",
        "localtime=time.ctime()\n",
        "localtime"
      ]
    },
    {
      "cell_type": "code",
      "execution_count": null,
      "metadata": {
        "colab": {
          "base_uri": "https://localhost:8080/"
        },
        "id": "st3rCTtyNXdH",
        "outputId": "8106dfac-daa0-4710-ca47-084ba8d431f8"
      },
      "outputs": [
        {
          "name": "stdout",
          "output_type": "stream",
          "text": [
            "aaa\n",
            "65000\n",
            "icici\n",
            "4000\n",
            "Hi this is aaa,My  Current  Balance is 61000 and your bank name is icici,Your money has debited is 4000,Time is Sun Oct 30 04:48:14 2022\n"
          ]
        }
      ],
      "source": [
        "import time\n",
        "\n",
        "name=input()\n",
        "currentBalance=int(input())\n",
        "Bank=input()\n",
        "time_s=time.time()\n",
        "local_Time=time.ctime(time_s)\n",
        "Debited=int(input())\n",
        "currentBalance=currentBalance-Debited\n",
        "para=\"Hi this is {},My  Current  Balance is {} and your bank name is {},Your money has debited is {},Time is {}\"\n",
        "print(para.format(name,currentBalance,Bank,Debited,local_Time))\n"
      ]
    },
    {
      "cell_type": "code",
      "execution_count": null,
      "metadata": {
        "colab": {
          "base_uri": "https://localhost:8080/"
        },
        "id": "kTWxkxN5OGvr",
        "outputId": "887f37e5-e71e-4073-972a-775932773ecc"
      },
      "outputs": [
        {
          "name": "stdout",
          "output_type": "stream",
          "text": [
            "2022-10-30 10:20:46.610809+05:30\n"
          ]
        }
      ],
      "source": [
        "from datetime import datetime\n",
        "import pytz\n",
        "\n",
        "IST=pytz.timezone(\"Asia/Kolkata\")\n",
        "\n",
        "print(datetime.now(IST))"
      ]
    },
    {
      "cell_type": "code",
      "execution_count": null,
      "metadata": {
        "id": "1mvo36FkRRCs"
      },
      "outputs": [],
      "source": [
        "import time\n",
        "at_now = time.ctime()\n",
        "\n",
        "Name = input('Name ')\n",
        "Total_Amount = int(input(\"Total Amount \"))\n",
        "Withdrawn = int(input('With drawn '))\n",
        "Location = input('Branch Location ')\n",
        "Available_Balance =Total_Amount - Withdrawn\n",
        "at_now = time.ctime()\n",
        "\n",
        "Template = \"Hi {0}, You withdrawn {1} from ICICI, {4} branch at {3},available balance is {2} \"\n",
        "\n",
        "print(Template.format(Name,Withdrawn,Available_Balance,at_now,Location))\n"
      ]
    },
    {
      "cell_type": "code",
      "execution_count": null,
      "metadata": {
        "colab": {
          "base_uri": "https://localhost:8080/"
        },
        "id": "CSRTjPzvQf0a",
        "outputId": "2fce0fbc-fb3e-4e47-c4c4-eae13550aeea"
      },
      "outputs": [
        {
          "data": {
            "text/plain": [
              "['__add__',\n",
              " '__class__',\n",
              " '__contains__',\n",
              " '__delattr__',\n",
              " '__dir__',\n",
              " '__doc__',\n",
              " '__eq__',\n",
              " '__format__',\n",
              " '__ge__',\n",
              " '__getattribute__',\n",
              " '__getitem__',\n",
              " '__getnewargs__',\n",
              " '__gt__',\n",
              " '__hash__',\n",
              " '__init__',\n",
              " '__init_subclass__',\n",
              " '__iter__',\n",
              " '__le__',\n",
              " '__len__',\n",
              " '__lt__',\n",
              " '__mod__',\n",
              " '__mul__',\n",
              " '__ne__',\n",
              " '__new__',\n",
              " '__reduce__',\n",
              " '__reduce_ex__',\n",
              " '__repr__',\n",
              " '__rmod__',\n",
              " '__rmul__',\n",
              " '__setattr__',\n",
              " '__sizeof__',\n",
              " '__str__',\n",
              " '__subclasshook__',\n",
              " 'capitalize',\n",
              " 'casefold',\n",
              " 'center',\n",
              " 'count',\n",
              " 'encode',\n",
              " 'endswith',\n",
              " 'expandtabs',\n",
              " 'find',\n",
              " 'format',\n",
              " 'format_map',\n",
              " 'index',\n",
              " 'isalnum',\n",
              " 'isalpha',\n",
              " 'isascii',\n",
              " 'isdecimal',\n",
              " 'isdigit',\n",
              " 'isidentifier',\n",
              " 'islower',\n",
              " 'isnumeric',\n",
              " 'isprintable',\n",
              " 'isspace',\n",
              " 'istitle',\n",
              " 'isupper',\n",
              " 'join',\n",
              " 'ljust',\n",
              " 'lower',\n",
              " 'lstrip',\n",
              " 'maketrans',\n",
              " 'partition',\n",
              " 'replace',\n",
              " 'rfind',\n",
              " 'rindex',\n",
              " 'rjust',\n",
              " 'rpartition',\n",
              " 'rsplit',\n",
              " 'rstrip',\n",
              " 'split',\n",
              " 'splitlines',\n",
              " 'startswith',\n",
              " 'strip',\n",
              " 'swapcase',\n",
              " 'title',\n",
              " 'translate',\n",
              " 'upper',\n",
              " 'zfill']"
            ]
          },
          "execution_count": 48,
          "metadata": {},
          "output_type": "execute_result"
        }
      ],
      "source": [
        "dir(str)"
      ]
    },
    {
      "cell_type": "code",
      "execution_count": null,
      "metadata": {
        "colab": {
          "base_uri": "https://localhost:8080/"
        },
        "id": "e3OzojSQRWdu",
        "outputId": "f4fd80b2-a65e-48c3-842c-8a76cf75abb8"
      },
      "outputs": [
        {
          "data": {
            "text/plain": [
              "('Google pixel 6', 'Google Pixel 6')"
            ]
          },
          "execution_count": 50,
          "metadata": {},
          "output_type": "execute_result"
        }
      ],
      "source": [
        "a=\"google pixel 6\"\n",
        "a.capitalize(),a.title()"
      ]
    },
    {
      "cell_type": "markdown",
      "metadata": {
        "id": "6PKvmSUC3AGV"
      },
      "source": [
        "#NOV 05 2022"
      ]
    },
    {
      "cell_type": "markdown",
      "metadata": {
        "id": "C8rIFAp_3LKd"
      },
      "source": [
        "seq data type\n",
        "lots of data in a single variable\n",
        "tuples , list"
      ]
    },
    {
      "cell_type": "code",
      "execution_count": 11,
      "metadata": {
        "id": "rpc3ZDrA3mId"
      },
      "outputs": [],
      "source": [
        "#tuples - combination of more data\n",
        "# var_name = (23,\"a\",78.9)\n",
        "# unchangeable, ordered, duplicated \n",
        "# ()"
      ]
    },
    {
      "cell_type": "code",
      "execution_count": 2,
      "metadata": {
        "colab": {
          "base_uri": "https://localhost:8080/"
        },
        "id": "eOCRRMCO3EIq",
        "outputId": "c5caf0c7-805f-4ec1-a729-212bf5741388"
      },
      "outputs": [
        {
          "output_type": "stream",
          "name": "stdout",
          "text": [
            "('barath', 'gopinath', 'heamnath') <class 'tuple'>\n"
          ]
        }
      ],
      "source": [
        "name=(\"barath\",\"gopinath\",\"heamnath\")\n",
        "print(name,type(name))"
      ]
    },
    {
      "cell_type": "code",
      "execution_count": 3,
      "metadata": {
        "colab": {
          "base_uri": "https://localhost:8080/"
        },
        "id": "VkuaUc1M4xWQ",
        "outputId": "95b0d524-e31a-4d0c-93d1-b1638e4391cb"
      },
      "outputs": [
        {
          "output_type": "execute_result",
          "data": {
            "text/plain": [
              "('barath', 'gopinath')"
            ]
          },
          "metadata": {},
          "execution_count": 3
        }
      ],
      "source": [
        "name[0:2]"
      ]
    },
    {
      "cell_type": "code",
      "execution_count": 4,
      "metadata": {
        "colab": {
          "base_uri": "https://localhost:8080/",
          "height": 35
        },
        "id": "d4dibQSB5BYU",
        "outputId": "eb4c0bf6-d0f1-4253-e9ca-890edb3c4d42"
      },
      "outputs": [
        {
          "output_type": "execute_result",
          "data": {
            "text/plain": [
              "'a'"
            ],
            "application/vnd.google.colaboratory.intrinsic+json": {
              "type": "string"
            }
          },
          "metadata": {},
          "execution_count": 4
        }
      ],
      "source": [
        "name[0][3]"
      ]
    },
    {
      "cell_type": "code",
      "execution_count": 5,
      "metadata": {
        "colab": {
          "base_uri": "https://localhost:8080/"
        },
        "id": "gUCGGUl65N7S",
        "outputId": "ca6578e1-ce71-4920-947c-3583f9ef9bcb"
      },
      "outputs": [
        {
          "output_type": "execute_result",
          "data": {
            "text/plain": [
              "str"
            ]
          },
          "metadata": {},
          "execution_count": 5
        }
      ],
      "source": [
        "type(name[0])"
      ]
    },
    {
      "cell_type": "code",
      "execution_count": 6,
      "metadata": {
        "colab": {
          "base_uri": "https://localhost:8080/",
          "height": 165
        },
        "id": "-vLzJgxj6HVX",
        "outputId": "ce0130b5-835a-4dbd-855a-136023780b19"
      },
      "outputs": [
        {
          "output_type": "error",
          "ename": "TypeError",
          "evalue": "ignored",
          "traceback": [
            "\u001b[0;31m---------------------------------------------------------------------------\u001b[0m",
            "\u001b[0;31mTypeError\u001b[0m                                 Traceback (most recent call last)",
            "\u001b[0;32m<ipython-input-6-625a09a67536>\u001b[0m in \u001b[0;36m<module>\u001b[0;34m\u001b[0m\n\u001b[0;32m----> 1\u001b[0;31m \u001b[0mname\u001b[0m\u001b[0;34m[\u001b[0m\u001b[0;36m0\u001b[0m\u001b[0;34m]\u001b[0m\u001b[0;34m=\u001b[0m\u001b[0;34m\"hello\"\u001b[0m\u001b[0;34m\u001b[0m\u001b[0;34m\u001b[0m\u001b[0m\n\u001b[0m",
            "\u001b[0;31mTypeError\u001b[0m: 'tuple' object does not support item assignment"
          ]
        }
      ],
      "source": [
        "name[0]=\"hello\""
      ]
    },
    {
      "cell_type": "code",
      "execution_count": null,
      "metadata": {
        "id": "s5RY0izI7Faw"
      },
      "outputs": [],
      "source": [
        "name=(\"barath\",\"gopinath\",\"heamnath\",\"gopinath\",\"gopinath\",\"magesh\")"
      ]
    },
    {
      "cell_type": "code",
      "execution_count": null,
      "metadata": {
        "id": "oc-STtNt7Oo4"
      },
      "outputs": [],
      "source": [
        "name.count(\"gopinath\")"
      ]
    },
    {
      "cell_type": "code",
      "execution_count": null,
      "metadata": {
        "id": "VYeSWxzL7UgC"
      },
      "outputs": [],
      "source": [
        "len(name)"
      ]
    },
    {
      "cell_type": "code",
      "execution_count": null,
      "metadata": {
        "id": "Tyi9VcpC7b_o"
      },
      "outputs": [],
      "source": [
        "name.index(\"gopinath\")"
      ]
    },
    {
      "cell_type": "code",
      "execution_count": null,
      "metadata": {
        "id": "BtOXFiT67q-j"
      },
      "outputs": [],
      "source": [
        "name1=(\"abc\",78)"
      ]
    },
    {
      "cell_type": "code",
      "execution_count": null,
      "metadata": {
        "id": "GDieN04l7u2g"
      },
      "outputs": [],
      "source": [
        "name2=name+name1\n",
        "name2"
      ]
    },
    {
      "cell_type": "code",
      "execution_count": null,
      "metadata": {
        "id": "kUI4KCET8EjU"
      },
      "outputs": [],
      "source": [
        "name=name+name1\n",
        "name"
      ]
    },
    {
      "cell_type": "code",
      "execution_count": null,
      "metadata": {
        "id": "W04vff6u8HCK"
      },
      "outputs": [],
      "source": [
        "name"
      ]
    },
    {
      "cell_type": "code",
      "execution_count": null,
      "metadata": {
        "id": "s9zLqd2N82Uw"
      },
      "outputs": [],
      "source": [
        "#list\n",
        "#combination of more data\n",
        "# var_name = [23,\"a\",78.9]\n",
        "# changeable, ordered, duplicated \n",
        "# []"
      ]
    },
    {
      "cell_type": "code",
      "execution_count": null,
      "metadata": {
        "id": "KZP_HoRW9GRv"
      },
      "outputs": [],
      "source": [
        "name=[\"barath\",\"gopinath\",\"heamnath\",\"gopinath\",\"gopinath\",\"magesh\"]\n",
        "name,type(name)"
      ]
    },
    {
      "cell_type": "code",
      "execution_count": null,
      "metadata": {
        "id": "HHNtIAmV9P5o"
      },
      "outputs": [],
      "source": [
        "name[0]"
      ]
    },
    {
      "cell_type": "code",
      "execution_count": null,
      "metadata": {
        "id": "YjZUE3Ac9Y9A"
      },
      "outputs": [],
      "source": [
        "name.append(\"rajan\") #this ll add data at the end\n",
        "name"
      ]
    },
    {
      "cell_type": "code",
      "execution_count": null,
      "metadata": {
        "id": "lP6JyUx095oz"
      },
      "outputs": [],
      "source": [
        "name.insert(2,\"suresh\") #this ll add data in the index val\n",
        "name"
      ]
    },
    {
      "cell_type": "code",
      "execution_count": null,
      "metadata": {
        "id": "03iGQP-4-ql5"
      },
      "outputs": [],
      "source": [
        "name[4]=\"guru\"\n",
        "name"
      ]
    },
    {
      "cell_type": "code",
      "execution_count": null,
      "metadata": {
        "id": "0ZvFUlcD-6XJ"
      },
      "outputs": [],
      "source": [
        "name[3:6]"
      ]
    },
    {
      "cell_type": "code",
      "execution_count": null,
      "metadata": {
        "id": "U-ewzz9g_Bp9"
      },
      "outputs": [],
      "source": [
        "name[3:6]=[\"bagyasree\",\"aaj\",\"indumathi\",\"yusuf\",\"raju\"]\n",
        "name"
      ]
    },
    {
      "cell_type": "code",
      "execution_count": null,
      "metadata": {
        "id": "57QlGm26_WCJ"
      },
      "outputs": [],
      "source": [
        "name[4]=[1,2,3,4,\"hello\"]"
      ]
    },
    {
      "cell_type": "code",
      "execution_count": null,
      "metadata": {
        "id": "ZomeXyGg_88S"
      },
      "outputs": [],
      "source": [
        "name"
      ]
    },
    {
      "cell_type": "code",
      "execution_count": null,
      "metadata": {
        "id": "dyv3BTxhAIMF"
      },
      "outputs": [],
      "source": [
        "name[4],type(name[4])"
      ]
    },
    {
      "cell_type": "code",
      "execution_count": null,
      "metadata": {
        "id": "1CrAB6-mAYjF"
      },
      "outputs": [],
      "source": [
        "name[4][4][2]"
      ]
    },
    {
      "cell_type": "code",
      "execution_count": null,
      "metadata": {
        "id": "yw-b_vpiAx-Z"
      },
      "outputs": [],
      "source": [
        "name[3:6]=[\"bala\"]\n",
        "name"
      ]
    },
    {
      "cell_type": "code",
      "execution_count": null,
      "metadata": {
        "id": "KboP3yggBIWJ"
      },
      "outputs": [],
      "source": [
        "name[5]"
      ]
    },
    {
      "cell_type": "code",
      "execution_count": null,
      "metadata": {
        "id": "v6frmgaxB25o"
      },
      "outputs": [],
      "source": [
        "dir(list)"
      ]
    },
    {
      "cell_type": "code",
      "execution_count": null,
      "metadata": {
        "id": "acw1I_u0CEW4"
      },
      "outputs": [],
      "source": [
        "name"
      ]
    },
    {
      "cell_type": "code",
      "execution_count": null,
      "metadata": {
        "id": "51LPYt7NCJcy"
      },
      "outputs": [],
      "source": [
        "name.remove(\"gopinath\")\n",
        "name"
      ]
    },
    {
      "cell_type": "code",
      "execution_count": null,
      "metadata": {
        "id": "Agpf4HEqCSD5"
      },
      "outputs": [],
      "source": [
        "name.append(\"gopi\")"
      ]
    },
    {
      "cell_type": "code",
      "execution_count": null,
      "metadata": {
        "id": "Y35MQTCZCoVs"
      },
      "outputs": [],
      "source": [
        "name"
      ]
    },
    {
      "cell_type": "code",
      "execution_count": 13,
      "metadata": {
        "id": "MoFz-qlSCrpm",
        "colab": {
          "base_uri": "https://localhost:8080/",
          "height": 165
        },
        "outputId": "e6549bdd-181d-492e-b4c7-b7afb20dbe53"
      },
      "outputs": [
        {
          "output_type": "error",
          "ename": "AttributeError",
          "evalue": "ignored",
          "traceback": [
            "\u001b[0;31m---------------------------------------------------------------------------\u001b[0m",
            "\u001b[0;31mAttributeError\u001b[0m                            Traceback (most recent call last)",
            "\u001b[0;32m<ipython-input-13-f44c2ea0cebf>\u001b[0m in \u001b[0;36m<module>\u001b[0;34m\u001b[0m\n\u001b[0;32m----> 1\u001b[0;31m \u001b[0mname\u001b[0m\u001b[0;34m.\u001b[0m\u001b[0mremove\u001b[0m\u001b[0;34m(\u001b[0m\u001b[0;34m\"gopi\"\u001b[0m\u001b[0;34m)\u001b[0m\u001b[0;34m\u001b[0m\u001b[0;34m\u001b[0m\u001b[0m\n\u001b[0m",
            "\u001b[0;31mAttributeError\u001b[0m: 'tuple' object has no attribute 'remove'"
          ]
        }
      ],
      "source": [
        "name.remove(\"gopi\")"
      ]
    },
    {
      "cell_type": "code",
      "execution_count": null,
      "metadata": {
        "id": "YA2CC1dODskf"
      },
      "outputs": [],
      "source": [
        "del name[3]\n",
        "name"
      ]
    },
    {
      "cell_type": "code",
      "execution_count": null,
      "metadata": {
        "id": "dyqhD3S5D49M"
      },
      "outputs": [],
      "source": [
        "del name[5:]\n",
        "name"
      ]
    },
    {
      "cell_type": "code",
      "execution_count": null,
      "metadata": {
        "id": "kaRIe5OSEE0N"
      },
      "outputs": [],
      "source": [
        "name.pop(3)"
      ]
    },
    {
      "cell_type": "code",
      "execution_count": null,
      "metadata": {
        "id": "QSY6DkCUEJuh"
      },
      "outputs": [],
      "source": [
        "name"
      ]
    },
    {
      "cell_type": "code",
      "execution_count": null,
      "metadata": {
        "id": "H7Ks9hRFEM6A"
      },
      "outputs": [],
      "source": [
        "name.pop()"
      ]
    },
    {
      "cell_type": "code",
      "execution_count": null,
      "metadata": {
        "id": "Aa4fEgP6ERSf"
      },
      "outputs": [],
      "source": [
        "name"
      ]
    },
    {
      "cell_type": "code",
      "execution_count": null,
      "metadata": {
        "id": "_e4k5jyfEUV4"
      },
      "outputs": [],
      "source": [
        "name[3:6]=[\"bagyasree\",\"aaj\",\"indumathi\",\"yusuf\",\"raju\"]\n",
        "name"
      ]
    },
    {
      "cell_type": "code",
      "execution_count": null,
      "metadata": {
        "id": "bNQyIcfwEbjl"
      },
      "outputs": [],
      "source": [
        "name.pop((2:5))"
      ]
    },
    {
      "cell_type": "code",
      "execution_count": null,
      "metadata": {
        "id": "aWj-KT35E14r"
      },
      "outputs": [],
      "source": [
        "name.pop()\n"
      ]
    },
    {
      "cell_type": "code",
      "execution_count": null,
      "metadata": {
        "id": "cf53N7-WFAeT"
      },
      "outputs": [],
      "source": [
        "name"
      ]
    },
    {
      "cell_type": "code",
      "execution_count": null,
      "metadata": {
        "id": "-xgzwb4MFEIY"
      },
      "outputs": [],
      "source": [
        "len(name)"
      ]
    },
    {
      "cell_type": "code",
      "execution_count": null,
      "metadata": {
        "id": "EAOj0nP9FJIW"
      },
      "outputs": [],
      "source": [
        "dir(list)"
      ]
    },
    {
      "cell_type": "code",
      "execution_count": null,
      "metadata": {
        "id": "t7Ce7GAtFPew"
      },
      "outputs": [],
      "source": [
        "name.sort()\n",
        "name"
      ]
    },
    {
      "cell_type": "code",
      "execution_count": null,
      "metadata": {
        "id": "VUimwXRNFWb4"
      },
      "outputs": [],
      "source": [
        "name.sort(reverse=True)\n",
        "name"
      ]
    },
    {
      "cell_type": "code",
      "execution_count": null,
      "metadata": {
        "id": "tvHCJ5WgFkDg"
      },
      "outputs": [],
      "source": [
        "name.append(\"Yuvaraj\")\n",
        "name"
      ]
    },
    {
      "cell_type": "code",
      "execution_count": null,
      "metadata": {
        "id": "666x6J8WFqiw"
      },
      "outputs": [],
      "source": [
        "name.sort()\n",
        "name"
      ]
    },
    {
      "cell_type": "code",
      "execution_count": null,
      "metadata": {
        "id": "UlJa-TZdF2km"
      },
      "outputs": [],
      "source": [
        "x=name.copy()\n",
        "x"
      ]
    },
    {
      "cell_type": "code",
      "execution_count": null,
      "metadata": {
        "id": "u3TXKh9qGDVy"
      },
      "outputs": [],
      "source": [
        "loc=[\"chennai\",\"blr\"]\n",
        "loc"
      ]
    },
    {
      "cell_type": "code",
      "execution_count": null,
      "metadata": {
        "id": "JuvU-RFUGelQ"
      },
      "outputs": [],
      "source": [
        "name.extend(loc)\n",
        "name"
      ]
    },
    {
      "cell_type": "code",
      "execution_count": null,
      "metadata": {
        "id": "xAbmoP7aGyWc"
      },
      "outputs": [],
      "source": [
        "x=name+loc\n",
        "x"
      ]
    },
    {
      "cell_type": "code",
      "execution_count": 7,
      "metadata": {
        "id": "58FktulNG96E"
      },
      "outputs": [],
      "source": [
        "age=(23,24,34)\n",
        "y=name+age"
      ]
    },
    {
      "cell_type": "code",
      "execution_count": 8,
      "metadata": {
        "colab": {
          "base_uri": "https://localhost:8080/",
          "height": 183
        },
        "id": "mw4QrUuwHJDp",
        "outputId": "79eec4e7-cf7e-426a-9c67-b08a8ca4083b"
      },
      "outputs": [
        {
          "output_type": "error",
          "ename": "AttributeError",
          "evalue": "ignored",
          "traceback": [
            "\u001b[0;31m---------------------------------------------------------------------------\u001b[0m",
            "\u001b[0;31mAttributeError\u001b[0m                            Traceback (most recent call last)",
            "\u001b[0;32m<ipython-input-8-6a028c21ea3b>\u001b[0m in \u001b[0;36m<module>\u001b[0;34m\u001b[0m\n\u001b[0;32m----> 1\u001b[0;31m \u001b[0mname\u001b[0m\u001b[0;34m.\u001b[0m\u001b[0mextend\u001b[0m\u001b[0;34m(\u001b[0m\u001b[0mage\u001b[0m\u001b[0;34m)\u001b[0m\u001b[0;34m\u001b[0m\u001b[0;34m\u001b[0m\u001b[0m\n\u001b[0m\u001b[1;32m      2\u001b[0m \u001b[0mname\u001b[0m\u001b[0;34m\u001b[0m\u001b[0;34m\u001b[0m\u001b[0m\n",
            "\u001b[0;31mAttributeError\u001b[0m: 'tuple' object has no attribute 'extend'"
          ]
        }
      ],
      "source": [
        "name.extend(age)\n",
        "name\n"
      ]
    },
    {
      "cell_type": "code",
      "execution_count": null,
      "metadata": {
        "id": "Pj0ISR17Hv3S"
      },
      "outputs": [],
      "source": [
        "name.clear()\n",
        "name"
      ]
    },
    {
      "cell_type": "code",
      "execution_count": null,
      "metadata": {
        "id": "PFq4eY2TIQdo"
      },
      "outputs": [],
      "source": [
        "#dict\n",
        "#combination of more data\n",
        "# var_name = {key:val,key:val}\n",
        "# changeable, unordered, val duplicated , key duplicate not allowed\n",
        "# {}"
      ]
    },
    {
      "cell_type": "code",
      "execution_count": null,
      "metadata": {
        "id": "KhxirdBOJmNo"
      },
      "outputs": [],
      "source": [
        "emp={23:\"aaj\",24:\"bagyasree\",\"a\":\"guru\"}\n",
        "emp,type(emp)"
      ]
    },
    {
      "cell_type": "code",
      "execution_count": null,
      "metadata": {
        "id": "ONhtQ1jwKEmc"
      },
      "outputs": [],
      "source": [
        "emp[23]"
      ]
    },
    {
      "cell_type": "code",
      "execution_count": null,
      "metadata": {
        "id": "M9FLDVAfK-V0"
      },
      "outputs": [],
      "source": [
        "emp.get(24)"
      ]
    },
    {
      "cell_type": "code",
      "execution_count": null,
      "metadata": {
        "id": "HsXIvJmdLK03"
      },
      "outputs": [],
      "source": [
        "emp[27]=\"shyam\"\n",
        "emp"
      ]
    },
    {
      "cell_type": "code",
      "execution_count": null,
      "metadata": {
        "id": "oPg_iZAzLWgM"
      },
      "outputs": [],
      "source": [
        "emp[23]=\"gowri\"\n",
        "emp"
      ]
    },
    {
      "cell_type": "code",
      "execution_count": null,
      "metadata": {
        "id": "PgGu2tVNL8Pl"
      },
      "outputs": [],
      "source": [
        "emp.keys()"
      ]
    },
    {
      "cell_type": "code",
      "execution_count": null,
      "metadata": {
        "id": "weXiEbXVMIBz"
      },
      "outputs": [],
      "source": [
        "emp.values()"
      ]
    },
    {
      "cell_type": "code",
      "execution_count": null,
      "metadata": {
        "id": "uQAUFVPCMUvw"
      },
      "outputs": [],
      "source": [
        "emp.update({23.5:\"dev\"})\n",
        "emp"
      ]
    },
    {
      "cell_type": "code",
      "execution_count": null,
      "metadata": {
        "id": "ZI6RccORNfJR"
      },
      "outputs": [],
      "source": [
        "emp.update({24:\"deva\"})\n",
        "emp"
      ]
    },
    {
      "cell_type": "code",
      "execution_count": null,
      "metadata": {
        "id": "ef3a8p4DNmXl"
      },
      "outputs": [],
      "source": [
        "emp.update({3:\"devi\"})\n",
        "emp"
      ]
    },
    {
      "cell_type": "code",
      "execution_count": null,
      "metadata": {
        "id": "laVcToK9NqRr"
      },
      "outputs": [],
      "source": [
        "emp.pop(\"a\")"
      ]
    },
    {
      "cell_type": "code",
      "execution_count": null,
      "metadata": {
        "id": "YS_5TGIoN1jP"
      },
      "outputs": [],
      "source": [
        "emp"
      ]
    },
    {
      "cell_type": "code",
      "execution_count": null,
      "metadata": {
        "id": "Aqe9OrAMN6S5"
      },
      "outputs": [],
      "source": [
        "emp.popitem()"
      ]
    },
    {
      "cell_type": "code",
      "execution_count": null,
      "metadata": {
        "id": "nx3rwvVlOAiu"
      },
      "outputs": [],
      "source": [
        "emp"
      ]
    },
    {
      "cell_type": "code",
      "execution_count": null,
      "metadata": {
        "id": "Bh-ANozLOEcJ"
      },
      "outputs": [],
      "source": [
        "emp.popitem()"
      ]
    },
    {
      "cell_type": "code",
      "execution_count": null,
      "metadata": {
        "id": "VpyqSqo1OGEi"
      },
      "outputs": [],
      "source": [
        "emp"
      ]
    },
    {
      "cell_type": "code",
      "execution_count": null,
      "metadata": {
        "id": "OfWGM5pfOlaO"
      },
      "outputs": [],
      "source": [
        "del emp[24]"
      ]
    },
    {
      "cell_type": "code",
      "execution_count": null,
      "metadata": {
        "id": "83xK_M_LOxx1"
      },
      "outputs": [],
      "source": [
        "emp"
      ]
    },
    {
      "cell_type": "code",
      "execution_count": null,
      "metadata": {
        "id": "SfNu88_VO2cc"
      },
      "outputs": [],
      "source": [
        "del emp"
      ]
    },
    {
      "cell_type": "code",
      "execution_count": null,
      "metadata": {
        "id": "K9IuO5Q8O6OA"
      },
      "outputs": [],
      "source": [
        "emp"
      ]
    },
    {
      "cell_type": "code",
      "execution_count": null,
      "metadata": {
        "id": "jpCKwcTIPl9S"
      },
      "outputs": [],
      "source": [
        "del emp[3]"
      ]
    },
    {
      "cell_type": "code",
      "execution_count": null,
      "metadata": {
        "id": "N0ABGhzhPJP3"
      },
      "outputs": [],
      "source": [
        "emp={23:\"aaj\",24:\"bagyasree\",\"a\":\"guru\"}"
      ]
    },
    {
      "cell_type": "code",
      "execution_count": null,
      "metadata": {
        "id": "TV5j5FNjPxDZ"
      },
      "outputs": [],
      "source": [
        "del emp[23]"
      ]
    },
    {
      "cell_type": "code",
      "execution_count": null,
      "metadata": {
        "id": "NxLzfE6iP6jl"
      },
      "outputs": [],
      "source": [
        "emp"
      ]
    },
    {
      "cell_type": "code",
      "execution_count": null,
      "metadata": {
        "id": "kwekKpPlP8Lm"
      },
      "outputs": [],
      "source": [
        "emp[44]=[7,8,9,5]\n",
        "emp"
      ]
    },
    {
      "cell_type": "code",
      "execution_count": null,
      "metadata": {
        "id": "XTL18LHnQDTR"
      },
      "outputs": [],
      "source": [
        "type(emp[44][2])"
      ]
    },
    {
      "cell_type": "code",
      "execution_count": null,
      "metadata": {
        "id": "hrNDGuoqQfKz"
      },
      "outputs": [],
      "source": [
        "rs=int(input(\"Enter the amount: \"))\n",
        "Fst=rs//2000\n",
        "print(\"2000 *\",Fst) \n",
        "BL = rs%2000\n",
        "Snd = BL//500\n",
        "print('500  *',Snd)\n",
        "BL = BL%500\n",
        "Trd = BL//200\n",
        "print(\"200  *\",Trd)\n",
        "BL = BL%200\n",
        "Fth = BL//100\n",
        "print(\"100  *\",Fth)\n",
        "BL = BL%100\n",
        "Fi = BL//50\n",
        "print(\"50   *\",Fi)\n",
        "BL = BL%50\n",
        "Si = BL//20\n",
        "print(\"20   *\",Si)\n",
        "BL = BL%20\n",
        "Sv = BL//10\n",
        "print(\"10   *\",Sv)\n",
        "BL = BL%10\n",
        "Ei = BL//5\n",
        "print(\"5    *\",Ei)\n",
        "BL = BL%5\n",
        "Ni = BL//2\n",
        "print(\"2    *\",Ni)\n",
        "BL = BL%2\n",
        "Tn = BL//1\n",
        "print(\"1    *\",Tn)\n"
      ]
    },
    {
      "cell_type": "code",
      "execution_count": null,
      "metadata": {
        "id": "tAIBK8eMRNrn"
      },
      "outputs": [],
      "source": [
        "A,B,C,D,E,F,G,H,I,J=(2000,500,200,100,50,20,10,5,2,1)\n",
        "Amount=int(input(\"Enter Your Amount:\"))\n",
        "print(Amount)\n",
        "Two_Thousand=Amount//A\n",
        "print(\"Two Thousand Rupees Note:\",Two_Thousand)\n",
        "Remain_Amount1=Amount%A\n",
        "Five_Hundred=Remain_Amount1//B\n",
        "print(\"Five Hundred Rupees Note:\",Five_Hundred)\n",
        "Remain_Amount2=Remain_Amount1%B\n",
        "Two_Hundred=Remain_Amount2//C\n",
        "print(\"Two Hundred Rupees Note:\",Two_Hundred)\n",
        "Remain_Amount3=Remain_Amount2%C\n",
        "One_Hundred=Remain_Amount3//D\n",
        "print(\"One Hundred Rupees Note:\",One_Hundred)\n",
        "Remain_Amount4=Remain_Amount3%D\n",
        "Fifty_Rupees=Remain_Amount4//E\n",
        "print(\" Fifty Rupees Note:\",Fifty_Rupees)\n",
        "Remain_Amount5=Remain_Amount4%E\n",
        "Twenty_Rupees=Remain_Amount5//F\n",
        "print(\" Twenty Rupees Note:\",Twenty_Rupees)\n",
        "Remain_Amount6=Remain_Amount5%F\n",
        "Ten_Rupees=Remain_Amount6//G\n",
        "print(\" Ten Rupees Note:\",Ten_Rupees)\n",
        "Remain_Amount7=Remain_Amount6%G\n",
        "Five_Rupees=Remain_Amount7//H\n",
        "print(\" Five Rupees Note:\",Five_Rupees)\n",
        "Remain_Amount8=Remain_Amount7%H\n",
        "Two_Rupees=Remain_Amount8//I\n",
        "print(\" Two Rupees Note:\",Two_Rupees)\n",
        "Remain_Amount9=Remain_Amount8%I\n",
        "One_Rupees=Remain_Amount9//J\n",
        "print(\" One Rupees Note:\",One_Rupees)"
      ]
    },
    {
      "cell_type": "markdown",
      "metadata": {
        "id": "86Y6-FYxB2e7"
      },
      "source": [
        "# **Nov 06 2022**"
      ]
    },
    {
      "cell_type": "code",
      "execution_count": null,
      "metadata": {
        "id": "kkUy_ORqfOWl"
      },
      "outputs": [],
      "source": [
        "cond\n",
        "==\n",
        "<\n",
        "<=\n",
        ">\n",
        ">="
      ]
    },
    {
      "cell_type": "code",
      "execution_count": null,
      "metadata": {
        "colab": {
          "base_uri": "https://localhost:8080/"
        },
        "id": "k3D0GzmvB7F7",
        "outputId": "fe014145-c996-46eb-9c8d-fbbc239b6151"
      },
      "outputs": [
        {
          "name": "stdout",
          "output_type": "stream",
          "text": [
            "give a 98\n",
            "give b 11\n"
          ]
        }
      ],
      "source": [
        "a=int(input(\"give a \"))\n",
        "b=int(input(\"give b \"))"
      ]
    },
    {
      "cell_type": "code",
      "execution_count": null,
      "metadata": {
        "colab": {
          "base_uri": "https://localhost:8080/"
        },
        "id": "7gefVWEDCvTQ",
        "outputId": "428a29f6-cce0-4950-f966-db7cbbd86e78"
      },
      "outputs": [
        {
          "name": "stdout",
          "output_type": "stream",
          "text": [
            "sucess\n"
          ]
        }
      ],
      "source": [
        "if a>b:\n",
        "    print(\"a is greater\")\n",
        "print(\"sucess\")"
      ]
    },
    {
      "cell_type": "code",
      "execution_count": null,
      "metadata": {
        "id": "R6Uy2AU1Ed1i"
      },
      "outputs": [],
      "source": [
        "import time"
      ]
    },
    {
      "cell_type": "code",
      "execution_count": null,
      "metadata": {
        "colab": {
          "base_uri": "https://localhost:8080/"
        },
        "id": "78mlHW_nC4rp",
        "outputId": "625200a2-48f6-4b9c-8ed6-de9214f7f52b"
      },
      "outputs": [
        {
          "name": "stdout",
          "output_type": "stream",
          "text": [
            "b is greater\n"
          ]
        }
      ],
      "source": [
        "time.sleep(2)\n",
        "if a>b:\n",
        "    time.sleep(2)\n",
        "    print(\"a is greater\")\n",
        "    time.sleep(2)\n",
        "else:\n",
        "    time.sleep(2)\n",
        "    print(\"b is greater\")\n",
        "    time.sleep(2)"
      ]
    },
    {
      "cell_type": "code",
      "execution_count": null,
      "metadata": {
        "colab": {
          "base_uri": "https://localhost:8080/",
          "height": 259
        },
        "id": "NXEaATUfFE-x",
        "outputId": "eae1c2e6-9f6d-4a62-8777-b7906714984d"
      },
      "outputs": [
        {
          "name": "stdout",
          "output_type": "stream",
          "text": [
            "equal\n"
          ]
        },
        {
          "ename": "NameError",
          "evalue": "ignored",
          "output_type": "error",
          "traceback": [
            "\u001b[0;31m---------------------------------------------------------------------------\u001b[0m",
            "\u001b[0;31mNameError\u001b[0m                                 Traceback (most recent call last)",
            "\u001b[0;32m<ipython-input-27-5173889acd13>\u001b[0m in \u001b[0;36m<module>\u001b[0;34m\u001b[0m\n\u001b[1;32m      8\u001b[0m     \u001b[0mprint\u001b[0m\u001b[0;34m(\u001b[0m\u001b[0;34m\"equal\"\u001b[0m\u001b[0;34m)\u001b[0m\u001b[0;34m\u001b[0m\u001b[0;34m\u001b[0m\u001b[0m\n\u001b[1;32m      9\u001b[0m     \u001b[0mtime\u001b[0m\u001b[0;34m.\u001b[0m\u001b[0msleep\u001b[0m\u001b[0;34m(\u001b[0m\u001b[0;36m2\u001b[0m\u001b[0;34m)\u001b[0m\u001b[0;34m\u001b[0m\u001b[0;34m\u001b[0m\u001b[0m\n\u001b[0;32m---> 10\u001b[0;31m     \u001b[0mprint\u001b[0m\u001b[0;34m(\u001b[0m\u001b[0mfcfcdf\u001b[0m\u001b[0;34m)\u001b[0m\u001b[0;34m\u001b[0m\u001b[0;34m\u001b[0m\u001b[0m\n\u001b[0m\u001b[1;32m     11\u001b[0m \u001b[0;32melse\u001b[0m\u001b[0;34m:\u001b[0m\u001b[0;34m\u001b[0m\u001b[0;34m\u001b[0m\u001b[0m\n\u001b[1;32m     12\u001b[0m     \u001b[0mtime\u001b[0m\u001b[0;34m.\u001b[0m\u001b[0msleep\u001b[0m\u001b[0;34m(\u001b[0m\u001b[0;36m2\u001b[0m\u001b[0;34m)\u001b[0m\u001b[0;34m\u001b[0m\u001b[0;34m\u001b[0m\u001b[0m\n",
            "\u001b[0;31mNameError\u001b[0m: name 'fcfcdf' is not defined"
          ]
        }
      ],
      "source": [
        "time.sleep(2)\n",
        "if a>b:\n",
        "    time.sleep(2)\n",
        "    print(\"a is greater\")\n",
        "    time.sleep(2)\n",
        "elif a==b:\n",
        "    time.sleep(2)\n",
        "    print(\"equal\")\n",
        "    time.sleep(2)\n",
        "else:\n",
        "    time.sleep(2)\n",
        "    print(\"b is greater\")\n",
        "    time.sleep(2)"
      ]
    },
    {
      "cell_type": "code",
      "execution_count": null,
      "metadata": {
        "colab": {
          "base_uri": "https://localhost:8080/"
        },
        "id": "gwmORyqbGaVD",
        "outputId": "1970dc62-fc49-40a6-c98c-6454bb67f158"
      },
      "outputs": [
        {
          "name": "stdout",
          "output_type": "stream",
          "text": [
            "a is greater\n"
          ]
        }
      ],
      "source": [
        "if a>b:print(\"a is greater\")"
      ]
    },
    {
      "cell_type": "code",
      "execution_count": null,
      "metadata": {
        "colab": {
          "base_uri": "https://localhost:8080/"
        },
        "id": "XCVgLjO2LvWQ",
        "outputId": "c0ff3a6a-05d0-4917-9010-5a8e50b4c97e"
      },
      "outputs": [
        {
          "name": "stdout",
          "output_type": "stream",
          "text": [
            "a is greater\n"
          ]
        }
      ],
      "source": [
        "print(\"a is greater\") if a>b else print(\"b greater\")"
      ]
    },
    {
      "cell_type": "code",
      "execution_count": null,
      "metadata": {
        "colab": {
          "base_uri": "https://localhost:8080/"
        },
        "id": "5iFCjk6fMbwu",
        "outputId": "0c59ca9c-fce2-43ca-9f0c-6ddf939790be"
      },
      "outputs": [
        {
          "name": "stdout",
          "output_type": "stream",
          "text": [
            "equal\n"
          ]
        }
      ],
      "source": [
        "print(\"a is greater\") if a>b else print(\"b greater\") if a<b else print(\"equal\")"
      ]
    },
    {
      "cell_type": "code",
      "execution_count": null,
      "metadata": {
        "colab": {
          "base_uri": "https://localhost:8080/",
          "height": 223
        },
        "id": "IzeLD1IEOhoP",
        "outputId": "6a5d9ed4-a382-42f1-cbf9-e7994b9aa8aa"
      },
      "outputs": [
        {
          "ename": "NameError",
          "evalue": "ignored",
          "output_type": "error",
          "traceback": [
            "\u001b[0;31m---------------------------------------------------------------------------\u001b[0m",
            "\u001b[0;31mNameError\u001b[0m                                 Traceback (most recent call last)",
            "\u001b[0;32m<ipython-input-29-04182f32d90d>\u001b[0m in \u001b[0;36m<module>\u001b[0;34m\u001b[0m\n\u001b[0;32m----> 1\u001b[0;31m \u001b[0;32mif\u001b[0m \u001b[0ma\u001b[0m\u001b[0;34m>\u001b[0m\u001b[0mb\u001b[0m \u001b[0;32mand\u001b[0m \u001b[0ma\u001b[0m\u001b[0;34m>\u001b[0m\u001b[0mc\u001b[0m \u001b[0;32mand\u001b[0m \u001b[0ma\u001b[0m\u001b[0;34m>\u001b[0m\u001b[0md\u001b[0m \u001b[0;32mand\u001b[0m \u001b[0ma\u001b[0m\u001b[0;34m>\u001b[0m\u001b[0me\u001b[0m\u001b[0;34m:\u001b[0m\u001b[0;34m\u001b[0m\u001b[0;34m\u001b[0m\u001b[0m\n\u001b[0m\u001b[1;32m      2\u001b[0m     \u001b[0mprint\u001b[0m\u001b[0;34m(\u001b[0m\u001b[0;34m\"a\"\u001b[0m\u001b[0;34m)\u001b[0m\u001b[0;34m\u001b[0m\u001b[0;34m\u001b[0m\u001b[0m\n\u001b[1;32m      3\u001b[0m     \u001b[0mprint\u001b[0m\u001b[0;34m(\u001b[0m\u001b[0mgfgcf\u001b[0m\u001b[0;34m)\u001b[0m\u001b[0;34m\u001b[0m\u001b[0;34m\u001b[0m\u001b[0m\n\u001b[1;32m      4\u001b[0m \u001b[0mprint\u001b[0m\u001b[0;34m(\u001b[0m\u001b[0;34m\"jjjj\"\u001b[0m\u001b[0;34m)\u001b[0m\u001b[0;34m\u001b[0m\u001b[0;34m\u001b[0m\u001b[0m\n",
            "\u001b[0;31mNameError\u001b[0m: name 'c' is not defined"
          ]
        }
      ],
      "source": [
        "if a>b and a>c and a>d and a>e:\n",
        "    print(\"a\")\n",
        "    print(gfgcf)\n",
        "print(\"jjjj\")"
      ]
    },
    {
      "cell_type": "code",
      "execution_count": null,
      "metadata": {
        "colab": {
          "base_uri": "https://localhost:8080/"
        },
        "id": "nOwj57d2QKSB",
        "outputId": "70a1f2a1-b0e6-467c-ecdd-3fc1e9b8ffb1"
      },
      "outputs": [
        {
          "name": "stdout",
          "output_type": "stream",
          "text": [
            "enter the name to search aaj\n",
            "yes\n"
          ]
        }
      ],
      "source": [
        "name=[\"aaj\",\"indhumathi\",\"durga\"]\n",
        "a=input(\"enter the name to search \")\n",
        "if a in name:\n",
        "    print(\"yes\")\n",
        "else:\n",
        "    print(\"no\")"
      ]
    },
    {
      "cell_type": "code",
      "execution_count": null,
      "metadata": {
        "id": "W_FMimFnQsM9"
      },
      "outputs": [],
      "source": [
        "if a in name:\n",
        "    pass"
      ]
    },
    {
      "cell_type": "code",
      "execution_count": null,
      "metadata": {
        "id": "DRu3FM6WRAVt"
      },
      "outputs": [],
      "source": [
        "#while\n",
        "#1 initi\n",
        "#2 condition veri\n",
        "#3 inc/dec\n",
        "#for"
      ]
    },
    {
      "cell_type": "code",
      "execution_count": null,
      "metadata": {
        "id": "FsmTjUEJUMTv"
      },
      "outputs": [],
      "source": []
    },
    {
      "cell_type": "code",
      "execution_count": null,
      "metadata": {
        "colab": {
          "base_uri": "https://localhost:8080/"
        },
        "id": "M-Ct_89EScYi",
        "outputId": "4a56ff45-c105-47d5-fe86-5a032716fbfc"
      },
      "outputs": [
        {
          "name": "stdout",
          "output_type": "stream",
          "text": [
            "1\n",
            "i  2\n",
            "2\n",
            "i  3\n",
            "3\n",
            "i  4\n",
            "4\n",
            "i  5\n",
            "5\n",
            "i  6\n",
            "6\n",
            "i  7\n",
            "7\n",
            "i  8\n",
            "8\n",
            "i  9\n",
            "9\n",
            "i  10\n"
          ]
        }
      ],
      "source": [
        "\n",
        "time.sleep(2)\n",
        "i=1\n",
        "time.sleep(2)\n",
        "while i<10:\n",
        "    time.sleep(2)\n",
        "    print(i)\n",
        "    time.sleep(2)\n",
        "    i=i+1\n",
        "    time.sleep(2)\n",
        "    print(\"i \",i)"
      ]
    },
    {
      "cell_type": "code",
      "execution_count": null,
      "metadata": {
        "id": "HZ7vCJH6TSRE"
      },
      "outputs": [],
      "source": [
        "name=[\"aaj\",\"indhumathi\",\"durga\",\"prakash\",\"suresh\",\"durga\"]"
      ]
    },
    {
      "cell_type": "code",
      "execution_count": null,
      "metadata": {
        "colab": {
          "base_uri": "https://localhost:8080/"
        },
        "id": "wINZtoWwTYzj",
        "outputId": "54df1554-6e62-4ca4-c916-cd8ae12f918c"
      },
      "outputs": [
        {
          "name": "stdout",
          "output_type": "stream",
          "text": [
            "aaj\n",
            "after 1\n",
            "indhumathi\n",
            "after 2\n",
            "durga\n",
            "after 3\n",
            "suresh\n",
            "after 4\n",
            "durga\n",
            "after 5\n"
          ]
        }
      ],
      "source": [
        "i=0\n",
        "while i<len(name):\n",
        "    print(name[i])\n",
        "    i=i+1\n",
        "    print(\"after\",i)"
      ]
    },
    {
      "cell_type": "code",
      "execution_count": null,
      "metadata": {
        "colab": {
          "base_uri": "https://localhost:8080/"
        },
        "id": "SprQl2xTVNyk",
        "outputId": "019b4054-3398-4a1d-8478-ae3669c12df2"
      },
      "outputs": [
        {
          "name": "stdout",
          "output_type": "stream",
          "text": [
            "enter the name to search durga\n",
            "yes\n",
            "2 durga\n",
            "yes\n",
            "5 durga\n"
          ]
        }
      ],
      "source": [
        "a=input(\"enter the name to search \")\n",
        "i=0\n",
        "while i<len(name):\n",
        "    if a == name[i]:\n",
        "        print(\"yes\")\n",
        "        print(i,name[i])\n",
        "    i=i+1"
      ]
    },
    {
      "cell_type": "code",
      "execution_count": null,
      "metadata": {
        "colab": {
          "base_uri": "https://localhost:8080/"
        },
        "id": "mKh-l-rwYQAe",
        "outputId": "9390ff4f-d5ba-447f-a058-accdc9963d16"
      },
      "outputs": [
        {
          "name": "stdout",
          "output_type": "stream",
          "text": [
            "enter the name to search prakash\n",
            "after  1\n",
            "after  2\n",
            "after  3\n",
            "yes\n",
            "3 prakash\n"
          ]
        }
      ],
      "source": [
        "a=input(\"enter the name to search \")\n",
        "i=0\n",
        "while i<len(name):\n",
        "    if a == name[i]:\n",
        "        print(\"yes\")\n",
        "        print(i,name[i])\n",
        "        break\n",
        "    i=i+1\n",
        "    print(\"after \",i)"
      ]
    },
    {
      "cell_type": "code",
      "execution_count": null,
      "metadata": {
        "colab": {
          "base_uri": "https://localhost:8080/"
        },
        "id": "RriFMDz_YqYi",
        "outputId": "a94df7f3-6af4-4139-f44c-88e4de5bc336"
      },
      "outputs": [
        {
          "name": "stdout",
          "output_type": "stream",
          "text": [
            "1\n",
            "2\n",
            "3\n",
            "4\n"
          ]
        }
      ],
      "source": [
        "\n",
        "i=1\n",
        "while i<10:\n",
        "    #print(i)\n",
        "    if i==5:\n",
        "        break\n",
        "    print(i)\n",
        "    i=i+1\n"
      ]
    },
    {
      "cell_type": "code",
      "execution_count": null,
      "metadata": {
        "colab": {
          "base_uri": "https://localhost:8080/"
        },
        "id": "v-mT5ybpaFrz",
        "outputId": "3b717407-a15b-4d36-8884-02821a05b3fd"
      },
      "outputs": [
        {
          "name": "stdout",
          "output_type": "stream",
          "text": [
            "1\n",
            "2\n",
            "3\n",
            "4\n",
            "5\n"
          ]
        }
      ],
      "source": [
        "\n",
        "i=1\n",
        "while i<10:\n",
        "    print(i)\n",
        "    if i==5:\n",
        "        break\n",
        "    i=i+1\n"
      ]
    },
    {
      "cell_type": "code",
      "execution_count": null,
      "metadata": {
        "colab": {
          "base_uri": "https://localhost:8080/"
        },
        "id": "gtb0CeTTaPDX",
        "outputId": "c480c1c2-5b8e-44a2-cf6c-4eea34b60d99"
      },
      "outputs": [
        {
          "name": "stdout",
          "output_type": "stream",
          "text": [
            "enter the name to search durga\n",
            "aaj\n",
            "indhumathi\n",
            "prakash\n",
            "suresh\n"
          ]
        }
      ],
      "source": [
        "a=input(\"enter the name to search \")\n",
        "\n",
        "i=-1\n",
        "while i<len(name)-1:\n",
        "    i=i+1\n",
        "    if name[i]==a:\n",
        "        continue\n",
        "    print(name[i])"
      ]
    },
    {
      "cell_type": "code",
      "execution_count": null,
      "metadata": {
        "id": "-6T55FEgcgwV"
      },
      "outputs": [],
      "source": [
        "a=input(\"enter the name to search \")\n",
        "i=0\n",
        "while i<len(name):\n",
        "    print(name[i])\n",
        "    if a == name[i]:\n",
        "        print(i,name[i])\n",
        "        continue\n",
        "    i=i+1\n"
      ]
    },
    {
      "cell_type": "markdown",
      "metadata": {
        "id": "VEkWsAjE8zTF"
      },
      "source": [
        "#Nov 12 2022"
      ]
    },
    {
      "cell_type": "code",
      "execution_count": null,
      "metadata": {
        "id": "VNqgs8cB8pPz"
      },
      "outputs": [],
      "source": [
        "name=[\"aaj\",\"bal\",\"dhe\",\"durga\"]"
      ]
    },
    {
      "cell_type": "code",
      "execution_count": null,
      "metadata": {
        "colab": {
          "base_uri": "https://localhost:8080/",
          "height": 312
        },
        "id": "ButnQCgt9fIV",
        "outputId": "102ebd4c-c654-43b9-fadb-62975b48426f"
      },
      "outputs": [
        {
          "name": "stdout",
          "output_type": "stream",
          "text": [
            "aaj\n",
            "bal\n",
            "dhe\n",
            "durga\n"
          ]
        },
        {
          "ename": "IndexError",
          "evalue": "ignored",
          "output_type": "error",
          "traceback": [
            "\u001b[0;31m---------------------------------------------------------------------------\u001b[0m",
            "\u001b[0;31mIndexError\u001b[0m                                Traceback (most recent call last)",
            "\u001b[0;32m<ipython-input-5-0bf0f361e294>\u001b[0m in \u001b[0;36m<module>\u001b[0;34m\u001b[0m\n\u001b[1;32m      1\u001b[0m \u001b[0mi\u001b[0m\u001b[0;34m=\u001b[0m\u001b[0;36m0\u001b[0m\u001b[0;34m\u001b[0m\u001b[0;34m\u001b[0m\u001b[0m\n\u001b[1;32m      2\u001b[0m \u001b[0;32mwhile\u001b[0m \u001b[0mi\u001b[0m\u001b[0;34m<=\u001b[0m\u001b[0mlen\u001b[0m\u001b[0;34m(\u001b[0m\u001b[0mname\u001b[0m\u001b[0;34m)\u001b[0m\u001b[0;34m:\u001b[0m\u001b[0;34m\u001b[0m\u001b[0;34m\u001b[0m\u001b[0m\n\u001b[0;32m----> 3\u001b[0;31m     \u001b[0mprint\u001b[0m\u001b[0;34m(\u001b[0m\u001b[0mname\u001b[0m\u001b[0;34m[\u001b[0m\u001b[0mi\u001b[0m\u001b[0;34m]\u001b[0m\u001b[0;34m)\u001b[0m\u001b[0;34m\u001b[0m\u001b[0;34m\u001b[0m\u001b[0m\n\u001b[0m\u001b[1;32m      4\u001b[0m     \u001b[0mi\u001b[0m\u001b[0;34m=\u001b[0m\u001b[0mi\u001b[0m\u001b[0;34m+\u001b[0m\u001b[0;36m1\u001b[0m\u001b[0;34m\u001b[0m\u001b[0;34m\u001b[0m\u001b[0m\n\u001b[1;32m      5\u001b[0m \u001b[0ma\u001b[0m\u001b[0;34m=\u001b[0m\u001b[0minput\u001b[0m\u001b[0;34m(\u001b[0m\u001b[0;34m\"get a\"\u001b[0m\u001b[0;34m)\u001b[0m\u001b[0;34m\u001b[0m\u001b[0;34m\u001b[0m\u001b[0m\n",
            "\u001b[0;31mIndexError\u001b[0m: list index out of range"
          ]
        }
      ],
      "source": [
        "i=0\n",
        "while i<=len(name):\n",
        "    print(name[i])\n",
        "    i=i+1\n",
        "a=input(\"get a\")\n",
        "print(a)"
      ]
    },
    {
      "cell_type": "code",
      "execution_count": null,
      "metadata": {
        "colab": {
          "base_uri": "https://localhost:8080/"
        },
        "id": "v3pL-YtR-Qaq",
        "outputId": "c62657c2-ef38-41a4-f376-71f53e1598c6"
      },
      "outputs": [
        {
          "name": "stdout",
          "output_type": "stream",
          "text": [
            "aaj\n",
            "bal\n",
            "dhe\n",
            "durga\n",
            "entire list is completed\n",
            "get a99\n",
            "99\n"
          ]
        }
      ],
      "source": [
        "try:\n",
        "    i=0\n",
        "    while i<=len(name):\n",
        "        print(name[i])\n",
        "        i=i+1\n",
        "except :\n",
        "    print(\"entire list is completed\")\n",
        "a=input(\"get a\")\n",
        "print(a)"
      ]
    },
    {
      "cell_type": "code",
      "execution_count": null,
      "metadata": {
        "colab": {
          "base_uri": "https://localhost:8080/",
          "height": 241
        },
        "id": "xtN-PhmmAepj",
        "outputId": "790c2d04-8d0a-4288-96eb-bbd693598013"
      },
      "outputs": [
        {
          "name": "stdout",
          "output_type": "stream",
          "text": [
            "n1 45\n",
            "n2 0\n"
          ]
        },
        {
          "ename": "ZeroDivisionError",
          "evalue": "ignored",
          "output_type": "error",
          "traceback": [
            "\u001b[0;31m---------------------------------------------------------------------------\u001b[0m",
            "\u001b[0;31mZeroDivisionError\u001b[0m                         Traceback (most recent call last)",
            "\u001b[0;32m<ipython-input-8-69566c97d5ad>\u001b[0m in \u001b[0;36m<module>\u001b[0;34m\u001b[0m\n\u001b[1;32m      1\u001b[0m \u001b[0mn1\u001b[0m\u001b[0;34m=\u001b[0m\u001b[0mint\u001b[0m\u001b[0;34m(\u001b[0m\u001b[0minput\u001b[0m\u001b[0;34m(\u001b[0m\u001b[0;34m\"n1 \"\u001b[0m\u001b[0;34m)\u001b[0m\u001b[0;34m)\u001b[0m\u001b[0;34m\u001b[0m\u001b[0;34m\u001b[0m\u001b[0m\n\u001b[1;32m      2\u001b[0m \u001b[0mn2\u001b[0m\u001b[0;34m=\u001b[0m\u001b[0mint\u001b[0m\u001b[0;34m(\u001b[0m\u001b[0minput\u001b[0m\u001b[0;34m(\u001b[0m\u001b[0;34m\"n2 \"\u001b[0m\u001b[0;34m)\u001b[0m\u001b[0;34m)\u001b[0m\u001b[0;34m\u001b[0m\u001b[0;34m\u001b[0m\u001b[0m\n\u001b[0;32m----> 3\u001b[0;31m \u001b[0mprint\u001b[0m\u001b[0;34m(\u001b[0m\u001b[0mn1\u001b[0m\u001b[0;34m/\u001b[0m\u001b[0mn2\u001b[0m\u001b[0;34m)\u001b[0m\u001b[0;34m\u001b[0m\u001b[0;34m\u001b[0m\u001b[0m\n\u001b[0m",
            "\u001b[0;31mZeroDivisionError\u001b[0m: division by zero"
          ]
        }
      ],
      "source": [
        "n1=int(input(\"n1 \"))\n",
        "n2=int(input(\"n2 \"))\n",
        "print(n1/n2)"
      ]
    },
    {
      "cell_type": "code",
      "execution_count": null,
      "metadata": {
        "colab": {
          "base_uri": "https://localhost:8080/"
        },
        "id": "WEN6bVs8_9YI",
        "outputId": "35523989-d073-4697-ffaf-7924e6a16bd6"
      },
      "outputs": [
        {
          "name": "stdout",
          "output_type": "stream",
          "text": [
            "n1 45\n",
            "n2 0\n",
            "enter valid number \n",
            "n1 94\n",
            "n2 0\n",
            "enter valid number \n",
            "n1 0\n",
            "n2 0\n",
            "enter valid number \n",
            "n1 78\n",
            "n2 56\n",
            "1.3928571428571428\n"
          ]
        }
      ],
      "source": [
        "while True:\n",
        "    try:\n",
        "        n1=int(input(\"n1 \"))\n",
        "        n2=int(input(\"n2 \"))\n",
        "        print(n1/n2)\n",
        "        break\n",
        "    except ZeroDivisionError:\n",
        "        print(\"enter valid number \")"
      ]
    },
    {
      "cell_type": "code",
      "execution_count": null,
      "metadata": {
        "colab": {
          "base_uri": "https://localhost:8080/",
          "height": 515
        },
        "id": "xvjY4Fd7DHHW",
        "outputId": "e727e9bb-0b1d-492c-f602-ba3a37243a01"
      },
      "outputs": [
        {
          "name": "stdout",
          "output_type": "stream",
          "text": [
            "n1 2\n",
            "n2 4\n",
            "0.5\n",
            "n1 34\n",
            "n2 56\n",
            "0.6071428571428571\n"
          ]
        },
        {
          "ename": "KeyboardInterrupt",
          "evalue": "ignored",
          "output_type": "error",
          "traceback": [
            "\u001b[0;31m---------------------------------------------------------------------------\u001b[0m",
            "\u001b[0;31mKeyboardInterrupt\u001b[0m                         Traceback (most recent call last)",
            "\u001b[0;32m<ipython-input-10-ae78698e4336>\u001b[0m in \u001b[0;36m<module>\u001b[0;34m\u001b[0m\n\u001b[1;32m      1\u001b[0m \u001b[0;32mwhile\u001b[0m \u001b[0;32mTrue\u001b[0m\u001b[0;34m:\u001b[0m\u001b[0;34m\u001b[0m\u001b[0;34m\u001b[0m\u001b[0m\n\u001b[1;32m      2\u001b[0m     \u001b[0;32mtry\u001b[0m\u001b[0;34m:\u001b[0m\u001b[0;34m\u001b[0m\u001b[0;34m\u001b[0m\u001b[0m\n\u001b[0;32m----> 3\u001b[0;31m         \u001b[0mn1\u001b[0m\u001b[0;34m=\u001b[0m\u001b[0mint\u001b[0m\u001b[0;34m(\u001b[0m\u001b[0minput\u001b[0m\u001b[0;34m(\u001b[0m\u001b[0;34m\"n1 \"\u001b[0m\u001b[0;34m)\u001b[0m\u001b[0;34m)\u001b[0m\u001b[0;34m\u001b[0m\u001b[0;34m\u001b[0m\u001b[0m\n\u001b[0m\u001b[1;32m      4\u001b[0m         \u001b[0mn2\u001b[0m\u001b[0;34m=\u001b[0m\u001b[0mint\u001b[0m\u001b[0;34m(\u001b[0m\u001b[0minput\u001b[0m\u001b[0;34m(\u001b[0m\u001b[0;34m\"n2 \"\u001b[0m\u001b[0;34m)\u001b[0m\u001b[0;34m)\u001b[0m\u001b[0;34m\u001b[0m\u001b[0;34m\u001b[0m\u001b[0m\n\u001b[1;32m      5\u001b[0m         \u001b[0mprint\u001b[0m\u001b[0;34m(\u001b[0m\u001b[0mn1\u001b[0m\u001b[0;34m/\u001b[0m\u001b[0mn2\u001b[0m\u001b[0;34m)\u001b[0m\u001b[0;34m\u001b[0m\u001b[0;34m\u001b[0m\u001b[0m\n",
            "\u001b[0;32m/usr/local/lib/python3.7/dist-packages/ipykernel/kernelbase.py\u001b[0m in \u001b[0;36mraw_input\u001b[0;34m(self, prompt)\u001b[0m\n\u001b[1;32m    861\u001b[0m             \u001b[0mself\u001b[0m\u001b[0;34m.\u001b[0m\u001b[0m_parent_ident\u001b[0m\u001b[0;34m,\u001b[0m\u001b[0;34m\u001b[0m\u001b[0;34m\u001b[0m\u001b[0m\n\u001b[1;32m    862\u001b[0m             \u001b[0mself\u001b[0m\u001b[0;34m.\u001b[0m\u001b[0m_parent_header\u001b[0m\u001b[0;34m,\u001b[0m\u001b[0;34m\u001b[0m\u001b[0;34m\u001b[0m\u001b[0m\n\u001b[0;32m--> 863\u001b[0;31m             \u001b[0mpassword\u001b[0m\u001b[0;34m=\u001b[0m\u001b[0;32mFalse\u001b[0m\u001b[0;34m,\u001b[0m\u001b[0;34m\u001b[0m\u001b[0;34m\u001b[0m\u001b[0m\n\u001b[0m\u001b[1;32m    864\u001b[0m         )\n\u001b[1;32m    865\u001b[0m \u001b[0;34m\u001b[0m\u001b[0m\n",
            "\u001b[0;32m/usr/local/lib/python3.7/dist-packages/ipykernel/kernelbase.py\u001b[0m in \u001b[0;36m_input_request\u001b[0;34m(self, prompt, ident, parent, password)\u001b[0m\n\u001b[1;32m    902\u001b[0m             \u001b[0;32mexcept\u001b[0m \u001b[0mKeyboardInterrupt\u001b[0m\u001b[0;34m:\u001b[0m\u001b[0;34m\u001b[0m\u001b[0;34m\u001b[0m\u001b[0m\n\u001b[1;32m    903\u001b[0m                 \u001b[0;31m# re-raise KeyboardInterrupt, to truncate traceback\u001b[0m\u001b[0;34m\u001b[0m\u001b[0;34m\u001b[0m\u001b[0;34m\u001b[0m\u001b[0m\n\u001b[0;32m--> 904\u001b[0;31m                 \u001b[0;32mraise\u001b[0m \u001b[0mKeyboardInterrupt\u001b[0m\u001b[0;34m(\u001b[0m\u001b[0;34m\"Interrupted by user\"\u001b[0m\u001b[0;34m)\u001b[0m \u001b[0;32mfrom\u001b[0m \u001b[0;32mNone\u001b[0m\u001b[0;34m\u001b[0m\u001b[0;34m\u001b[0m\u001b[0m\n\u001b[0m\u001b[1;32m    905\u001b[0m             \u001b[0;32mexcept\u001b[0m \u001b[0mException\u001b[0m \u001b[0;32mas\u001b[0m \u001b[0me\u001b[0m\u001b[0;34m:\u001b[0m\u001b[0;34m\u001b[0m\u001b[0;34m\u001b[0m\u001b[0m\n\u001b[1;32m    906\u001b[0m                 \u001b[0mself\u001b[0m\u001b[0;34m.\u001b[0m\u001b[0mlog\u001b[0m\u001b[0;34m.\u001b[0m\u001b[0mwarning\u001b[0m\u001b[0;34m(\u001b[0m\u001b[0;34m\"Invalid Message:\"\u001b[0m\u001b[0;34m,\u001b[0m \u001b[0mexc_info\u001b[0m\u001b[0;34m=\u001b[0m\u001b[0;32mTrue\u001b[0m\u001b[0;34m)\u001b[0m\u001b[0;34m\u001b[0m\u001b[0;34m\u001b[0m\u001b[0m\n",
            "\u001b[0;31mKeyboardInterrupt\u001b[0m: Interrupted by user"
          ]
        }
      ],
      "source": [
        "while True:\n",
        "    try:\n",
        "        n1=int(input(\"n1 \"))\n",
        "        n2=int(input(\"n2 \"))\n",
        "        print(n1/n2)\n",
        "    except ZeroDivisionError:\n",
        "        print(\"enter valid number \")"
      ]
    },
    {
      "cell_type": "code",
      "execution_count": null,
      "metadata": {
        "colab": {
          "base_uri": "https://localhost:8080/"
        },
        "id": "BlB0jniPDfRO",
        "outputId": "2713ccbb-7020-4529-e3a9-7f448c3b551d"
      },
      "outputs": [
        {
          "name": "stdout",
          "output_type": "stream",
          "text": [
            "n1 12\n",
            "n2 0\n",
            "enter valid number \n",
            "n1 15\n",
            "n2 0\n",
            "enter valid number \n",
            "n1 64\n",
            "n2 0\n",
            "enter valid number \n"
          ]
        }
      ],
      "source": [
        "i=1\n",
        "while i<=3:\n",
        "    try:\n",
        "        n1=int(input(\"n1 \"))\n",
        "        n2=int(input(\"n2 \"))\n",
        "        print(n1/n2)\n",
        "    except ZeroDivisionError:\n",
        "        print(\"enter valid number \")\n",
        "    i=i+1"
      ]
    },
    {
      "cell_type": "code",
      "execution_count": null,
      "metadata": {
        "colab": {
          "base_uri": "https://localhost:8080/"
        },
        "id": "r3YWSOj7EkE6",
        "outputId": "241e837f-d163-4beb-f903-e93bfc873826"
      },
      "outputs": [
        {
          "name": "stdout",
          "output_type": "stream",
          "text": [
            "age 12\n",
            "not eligible\n",
            "further\n"
          ]
        }
      ],
      "source": [
        "age=int(input(\"age \"))\n",
        "if age>18:\n",
        "    print(\"eligible\")\n",
        "else:\n",
        "    print(\"not eligible\")\n",
        "print(\"further\")"
      ]
    },
    {
      "cell_type": "code",
      "execution_count": null,
      "metadata": {
        "colab": {
          "base_uri": "https://localhost:8080/",
          "height": 241
        },
        "id": "yZkXi3ZRFNFy",
        "outputId": "a9bd16e6-ddfa-49d7-b2e5-29639641b5f2"
      },
      "outputs": [
        {
          "name": "stdout",
          "output_type": "stream",
          "text": [
            "age -9\n"
          ]
        },
        {
          "ename": "Exception",
          "evalue": "ignored",
          "output_type": "error",
          "traceback": [
            "\u001b[0;31m---------------------------------------------------------------------------\u001b[0m",
            "\u001b[0;31mException\u001b[0m                                 Traceback (most recent call last)",
            "\u001b[0;32m<ipython-input-16-a908e4ac866e>\u001b[0m in \u001b[0;36m<module>\u001b[0;34m\u001b[0m\n\u001b[1;32m      3\u001b[0m     \u001b[0mprint\u001b[0m\u001b[0;34m(\u001b[0m\u001b[0;34m\"eligible\"\u001b[0m\u001b[0;34m)\u001b[0m\u001b[0;34m\u001b[0m\u001b[0;34m\u001b[0m\u001b[0m\n\u001b[1;32m      4\u001b[0m \u001b[0;32melse\u001b[0m\u001b[0;34m:\u001b[0m\u001b[0;34m\u001b[0m\u001b[0;34m\u001b[0m\u001b[0m\n\u001b[0;32m----> 5\u001b[0;31m     \u001b[0;32mraise\u001b[0m \u001b[0mException\u001b[0m\u001b[0;34m(\u001b[0m\u001b[0;34m\"not a valid age\"\u001b[0m\u001b[0;34m)\u001b[0m\u001b[0;34m\u001b[0m\u001b[0;34m\u001b[0m\u001b[0m\n\u001b[0m\u001b[1;32m      6\u001b[0m \u001b[0mprint\u001b[0m\u001b[0;34m(\u001b[0m\u001b[0;34m\"further\"\u001b[0m\u001b[0;34m)\u001b[0m\u001b[0;34m\u001b[0m\u001b[0;34m\u001b[0m\u001b[0m\n",
            "\u001b[0;31mException\u001b[0m: not a valid age"
          ]
        }
      ],
      "source": [
        "age=int(input(\"age \"))\n",
        "if age>0:\n",
        "    print(\"eligible\")\n",
        "else:\n",
        "    raise Exception(\"not a valid age\")\n",
        "print(\"further\")"
      ]
    },
    {
      "cell_type": "code",
      "execution_count": null,
      "metadata": {
        "colab": {
          "base_uri": "https://localhost:8080/",
          "height": 133
        },
        "id": "CCIxzZMJHooB",
        "outputId": "dd220466-f75a-4bb2-a04b-a5e5ac81954c"
      },
      "outputs": [
        {
          "ename": "SyntaxError",
          "evalue": "ignored",
          "output_type": "error",
          "traceback": [
            "\u001b[0;36m  File \u001b[0;32m\"<ipython-input-27-2554650a8bc3>\"\u001b[0;36m, line \u001b[0;32m11\u001b[0m\n\u001b[0;31m    \u001b[0m\n\u001b[0m    ^\u001b[0m\n\u001b[0;31mSyntaxError\u001b[0m\u001b[0;31m:\u001b[0m unexpected EOF while parsing\n"
          ]
        }
      ],
      "source": [
        "try:\n",
        "    n1=int(input(\"n1 \"))\n",
        "    n2=int(input(\"n2 \"))\n",
        "    print(n1/n2)\n",
        "except ZeroDivisionError:\n",
        "    print(\"enter valid number \")\n",
        "except ValueError:\n",
        "    pass\n",
        "finally:\n",
        "    print(\"end\")\n",
        "print(\"hi\")\n",
        "    "
      ]
    },
    {
      "cell_type": "code",
      "execution_count": null,
      "metadata": {
        "colab": {
          "base_uri": "https://localhost:8080/"
        },
        "id": "I2JoTG2JJBN-",
        "outputId": "55f8393b-78ed-4994-f97b-9a08fe95e4ff"
      },
      "outputs": [
        {
          "data": {
            "text/plain": [
              "['aaj', 'bal', 'dhe', 'durga']"
            ]
          },
          "execution_count": 29,
          "metadata": {},
          "output_type": "execute_result"
        }
      ],
      "source": [
        "name"
      ]
    },
    {
      "cell_type": "code",
      "execution_count": null,
      "metadata": {
        "colab": {
          "base_uri": "https://localhost:8080/"
        },
        "id": "JHanLpuAKOFH",
        "outputId": "06641aa9-9937-45aa-bbb4-526e6bc09f32"
      },
      "outputs": [
        {
          "name": "stdout",
          "output_type": "stream",
          "text": [
            "aaj\n",
            "bal\n",
            "dhe\n",
            "durga\n"
          ]
        }
      ],
      "source": [
        "for i in name:\n",
        "    print(i)"
      ]
    },
    {
      "cell_type": "code",
      "execution_count": null,
      "metadata": {
        "colab": {
          "base_uri": "https://localhost:8080/"
        },
        "id": "pl6TZoBgKzy8",
        "outputId": "c11e73a4-784c-4fc7-bffc-caa8d3f4f8c9"
      },
      "outputs": [
        {
          "name": "stdout",
          "output_type": "stream",
          "text": [
            "45\n",
            "46\n",
            "47\n",
            "48\n",
            "49\n",
            "50\n",
            "51\n",
            "52\n",
            "53\n",
            "54\n",
            "55\n",
            "56\n",
            "57\n",
            "58\n",
            "59\n",
            "60\n",
            "61\n",
            "62\n",
            "63\n",
            "64\n",
            "65\n",
            "66\n",
            "67\n",
            "68\n",
            "69\n",
            "70\n",
            "71\n",
            "72\n",
            "73\n",
            "74\n",
            "75\n",
            "76\n",
            "77\n"
          ]
        }
      ],
      "source": [
        "for i in range(45,78):\n",
        "    print(i)"
      ]
    },
    {
      "cell_type": "code",
      "execution_count": null,
      "metadata": {
        "id": "kwHkLXIkK7Qq"
      },
      "outputs": [],
      "source": [
        "i=45\n",
        "while i<78:\n",
        "    print(i)\n",
        "    i=i+1"
      ]
    },
    {
      "cell_type": "code",
      "execution_count": null,
      "metadata": {
        "colab": {
          "base_uri": "https://localhost:8080/"
        },
        "id": "CWslKu9RLSjS",
        "outputId": "272f39c2-729d-4013-ae7b-8fa462ac00f0"
      },
      "outputs": [
        {
          "name": "stdout",
          "output_type": "stream",
          "text": [
            "aaj\n",
            "bal\n"
          ]
        }
      ],
      "source": [
        "for i in name:\n",
        "    if i==\"dhe\":\n",
        "        break\n",
        "    print(i)"
      ]
    },
    {
      "cell_type": "code",
      "execution_count": null,
      "metadata": {
        "colab": {
          "base_uri": "https://localhost:8080/"
        },
        "id": "Jpuijg3PLeCY",
        "outputId": "2ae37e13-e297-47c4-ef21-3d1afa96f6c0"
      },
      "outputs": [
        {
          "name": "stdout",
          "output_type": "stream",
          "text": [
            "aaj\n",
            "bal\n",
            "durga\n"
          ]
        }
      ],
      "source": [
        "for i in name:\n",
        "    if i==\"dhe\":\n",
        "        continue\n",
        "    print(i)"
      ]
    },
    {
      "cell_type": "code",
      "execution_count": null,
      "metadata": {
        "colab": {
          "base_uri": "https://localhost:8080/"
        },
        "id": "thB7XfpeL9SO",
        "outputId": "15987c09-fa2a-427c-f7c2-f8290677054d"
      },
      "outputs": [
        {
          "name": "stdout",
          "output_type": "stream",
          "text": [
            "2\n",
            "3\n",
            ".\n",
            "5\n"
          ]
        }
      ],
      "source": [
        "a=23.5\n",
        "for i in str(a):\n",
        "    print(i)"
      ]
    },
    {
      "cell_type": "code",
      "execution_count": null,
      "metadata": {
        "colab": {
          "base_uri": "https://localhost:8080/"
        },
        "id": "HLZYGOP4NUA6",
        "outputId": "9d695185-e9a6-4be1-ca18-15e6e0c7ace4"
      },
      "outputs": [
        {
          "name": "stdout",
          "output_type": "stream",
          "text": [
            "enter 8900\n"
          ]
        },
        {
          "data": {
            "text/plain": [
              "[4, 1, 2, 0, 0, 0, 0, 0, 0, 0]"
            ]
          },
          "execution_count": 2,
          "metadata": {},
          "output_type": "execute_result"
        }
      ],
      "source": [
        "amount=int(input(\"enter \"))\n",
        "data=[]\n",
        "cur=[2000,500,200,100,50,20,10,5,2,1]\n",
        "for i in cur:\n",
        "    data.append(amount//i)\n",
        "    amount=amount%i\n",
        "data"
      ]
    },
    {
      "cell_type": "code",
      "execution_count": null,
      "metadata": {
        "colab": {
          "base_uri": "https://localhost:8080/"
        },
        "id": "Mt-ncz0OPv-2",
        "outputId": "e32f04c5-7eb2-407e-b8c8-b1dae75e886b"
      },
      "outputs": [
        {
          "name": "stdout",
          "output_type": "stream",
          "text": [
            "3 2000\n",
            "2 500\n",
            "2 200\n",
            "1 50\n",
            "1 5\n",
            "1 1\n",
            "completed\n"
          ]
        }
      ],
      "source": [
        "try:\n",
        "    i=-1\n",
        "    while i<len(data):\n",
        "        i=i+1\n",
        "        if data[i]==0:\n",
        "            continue\n",
        "        print(data[i],cur[i])\n",
        "except IndexError:\n",
        "    print(\"completed\")\n"
      ]
    },
    {
      "cell_type": "code",
      "execution_count": null,
      "metadata": {
        "colab": {
          "base_uri": "https://localhost:8080/"
        },
        "id": "MXna8gvIRUyM",
        "outputId": "24de7f53-040a-41e9-a343-3e2bbd700a4d"
      },
      "outputs": [
        {
          "name": "stdout",
          "output_type": "stream",
          "text": [
            "Enter the amount:450\n",
            "200: 2\n",
            "50: 1\n"
          ]
        }
      ],
      "source": [
        "N=int(input(\"Enter the amount:\"))\n",
        "if N>=2000:\n",
        "  Two_thou=N//2000\n",
        "  print('2000:', Two_thou)\n",
        "  N=N%2000\n",
        "if N>=500:\n",
        "  FiTh=N//500\n",
        "  print('500:', FiTh)\n",
        "  N=N%500\n",
        "if N>=200:\n",
        "  t2h=N//200\n",
        "  print('200:', t2h)\n",
        "  N=N%200\n",
        "if N>=100:\n",
        " Oh=N//100\n",
        " print('100:', Oh)\n",
        " N=N%100\n",
        "if N>=50:\n",
        "  Fif=N//50\n",
        "  print('50:',Fif)\n",
        "  N=N%50\n",
        "if N>=20:\n",
        "  Tw=N//20\n",
        "  print('20',Tw)\n",
        "  N=N%20\n",
        "if N>=10:\n",
        "  Te=N//10\n",
        "  print('10:', Te)\n",
        "  N=N%10\n",
        "if N>=1:\n",
        "  One=N//1\n",
        "  print('1:', One)\n"
      ]
    },
    {
      "cell_type": "markdown",
      "metadata": {
        "id": "FG-bhB3hSiGl"
      },
      "source": [
        "function\n",
        "block of code, runs when it is called\n",
        "\n",
        "1 inbuild\n",
        "2 user defined\n",
        "\n",
        "func def\n",
        "func call"
      ]
    },
    {
      "cell_type": "code",
      "execution_count": null,
      "metadata": {
        "id": "zhg5AhKnRgxb"
      },
      "outputs": [],
      "source": []
    },
    {
      "cell_type": "markdown",
      "metadata": {
        "id": "S2dVY7qwDyDO"
      },
      "source": [
        "NOV 13 2022"
      ]
    },
    {
      "cell_type": "code",
      "execution_count": null,
      "metadata": {
        "id": "Gn25MVDBDv0-"
      },
      "outputs": [],
      "source": [
        "# functions\n",
        "def fenc1():\n",
        "  print(\"welcome\")\n",
        "  "
      ]
    },
    {
      "cell_type": "code",
      "execution_count": null,
      "metadata": {
        "colab": {
          "base_uri": "https://localhost:8080/"
        },
        "id": "E2w5si1oEbrZ",
        "outputId": "2d4b509c-2454-4b56-cda9-ee850a35e76c"
      },
      "outputs": [
        {
          "name": "stdout",
          "output_type": "stream",
          "text": [
            "welcome\n"
          ]
        }
      ],
      "source": [
        "fenc1()\n"
      ]
    },
    {
      "cell_type": "code",
      "execution_count": null,
      "metadata": {
        "id": "R3Z1G8DdFCZQ"
      },
      "outputs": [],
      "source": [
        "# functions with arguments\n",
        "def func2(x,y): # step 4 enters into func2,as x = 56 y = 23\n",
        "  x = x+y+78 # step 5 x = 56 + 23 +78 = 157\n",
        "  print(x-y) # step 6 prints 157 - 23 = 134\n",
        "  print(x,y,\"function\") #step 7 prints 157,23,\"function\"\n",
        "\n"
      ]
    },
    {
      "cell_type": "code",
      "execution_count": null,
      "metadata": {
        "colab": {
          "base_uri": "https://localhost:8080/"
        },
        "id": "ldMmD0rhFo7z",
        "outputId": "b3df5286-8464-4644-fe46-b3bdfeb9a581"
      },
      "outputs": [
        {
          "name": "stdout",
          "output_type": "stream",
          "text": [
            "enter the x56\n",
            "enter the y23\n",
            "134\n",
            "157 23 function\n",
            "56 23 normal program\n"
          ]
        }
      ],
      "source": [
        "x = int(input(\"enter the x\")) # step 1 x = 56\n",
        "y = int(input(\"enter the y\")) # step 2 y = 23\n",
        "func2(x,y)   # step 3 = > func2(56,23)\n",
        "print(x,y,\"normal program\")  # step 8 prints 56,23 normal program"
      ]
    },
    {
      "cell_type": "code",
      "execution_count": null,
      "metadata": {
        "colab": {
          "base_uri": "https://localhost:8080/"
        },
        "id": "jHHkNZxDJfxi",
        "outputId": "298e327e-5408-4d52-9b02-57fa741e66f1"
      },
      "outputs": [
        {
          "name": "stdout",
          "output_type": "stream",
          "text": [
            "101\n",
            "157 56 function\n"
          ]
        }
      ],
      "source": [
        "func2(y,x)"
      ]
    },
    {
      "cell_type": "code",
      "execution_count": null,
      "metadata": {
        "colab": {
          "base_uri": "https://localhost:8080/"
        },
        "id": "AbL3GBLxJtis",
        "outputId": "b446dbe8-81cf-49a3-9f7f-0aa4aefe2858"
      },
      "outputs": [
        {
          "name": "stdout",
          "output_type": "stream",
          "text": [
            "80\n",
            "88 8 function\n"
          ]
        }
      ],
      "source": [
        "func2(2,8)"
      ]
    },
    {
      "cell_type": "code",
      "execution_count": null,
      "metadata": {
        "id": "0cvz7yWlKYvM"
      },
      "outputs": [],
      "source": [
        "# functions argument and return\n",
        "def func3(x,y): # step 4 enters func3 as x = 8 y = 5\n",
        "  z = x + y # step 5 creates new variable z = 8 + 5 = 13 \n",
        "  return z # step 6 returns 13\n"
      ]
    },
    {
      "cell_type": "code",
      "execution_count": null,
      "metadata": {
        "colab": {
          "base_uri": "https://localhost:8080/"
        },
        "id": "Huk3C1DsKvtz",
        "outputId": "e3b65357-8922-4bcb-9bed-e53737843243"
      },
      "outputs": [
        {
          "name": "stdout",
          "output_type": "stream",
          "text": [
            "enter the x8\n",
            "enter the y5\n",
            "13 normal program\n"
          ]
        }
      ],
      "source": [
        "x = int(input(\"enter the x\")) # step 1\n",
        "y = int(input(\"enter the y\")) # step 2\n",
        "r = func3(x,y) # step 3 calls func3 with values 8,5 # step 7 r = return value of func3 = 13\n",
        "print(r,\"normal program\") # step 8 prints value or and normal program"
      ]
    },
    {
      "cell_type": "code",
      "execution_count": null,
      "metadata": {
        "colab": {
          "base_uri": "https://localhost:8080/"
        },
        "id": "Uv7mcTYxMfZ0",
        "outputId": "043dc270-2b92-4753-8e75-891bcede1e94"
      },
      "outputs": [
        {
          "name": "stdout",
          "output_type": "stream",
          "text": [
            "86\n",
            "91 5 function\n"
          ]
        }
      ],
      "source": [
        "func2(x,y)"
      ]
    },
    {
      "cell_type": "code",
      "execution_count": null,
      "metadata": {
        "colab": {
          "base_uri": "https://localhost:8080/"
        },
        "id": "nMFe48vjMo7F",
        "outputId": "a2c2f88b-e0c3-4ea7-989f-6d5fa33e228c"
      },
      "outputs": [
        {
          "data": {
            "text/plain": [
              "13"
            ]
          },
          "execution_count": 17,
          "metadata": {},
          "output_type": "execute_result"
        }
      ],
      "source": [
        "func3(x,y)"
      ]
    },
    {
      "cell_type": "code",
      "execution_count": null,
      "metadata": {
        "colab": {
          "base_uri": "https://localhost:8080/",
          "height": 165
        },
        "id": "w5dsrn8KM0Tb",
        "outputId": "7200282c-1a3f-4218-d05c-74deeb363a2c"
      },
      "outputs": [
        {
          "ename": "NameError",
          "evalue": "ignored",
          "output_type": "error",
          "traceback": [
            "\u001b[0;31m---------------------------------------------------------------------------\u001b[0m",
            "\u001b[0;31mNameError\u001b[0m                                 Traceback (most recent call last)",
            "\u001b[0;32m<ipython-input-18-c01ac3f50fdc>\u001b[0m in \u001b[0;36m<module>\u001b[0;34m\u001b[0m\n\u001b[0;32m----> 1\u001b[0;31m \u001b[0mprint\u001b[0m\u001b[0;34m(\u001b[0m\u001b[0mz\u001b[0m\u001b[0;34m)\u001b[0m\u001b[0;34m\u001b[0m\u001b[0;34m\u001b[0m\u001b[0m\n\u001b[0m",
            "\u001b[0;31mNameError\u001b[0m: name 'z' is not defined"
          ]
        }
      ],
      "source": [
        "print(z)"
      ]
    },
    {
      "cell_type": "code",
      "execution_count": null,
      "metadata": {
        "id": "k0SB0U7QNPsM"
      },
      "outputs": [],
      "source": [
        "# functions with arguments and multiple returns\n",
        "def func3(x,y): # step 4\n",
        "  z = x + y # step 5   z = 5+3=8\n",
        "  a = x / y # step 6   a = 5/3=1.66\n",
        "  return z,a # step 7    returns 8,1.66\n",
        "  \n",
        "\n"
      ]
    },
    {
      "cell_type": "code",
      "execution_count": null,
      "metadata": {
        "colab": {
          "base_uri": "https://localhost:8080/"
        },
        "id": "VhAHW3TGNNn9",
        "outputId": "5f2e6fdb-97ca-461d-aaa5-c3a8f8bd31f2"
      },
      "outputs": [
        {
          "name": "stdout",
          "output_type": "stream",
          "text": [
            "enter the x5\n",
            "enter the y3\n",
            "(8, 1.6666666666666667) normal program\n"
          ]
        }
      ],
      "source": [
        "x = int(input(\"enter the x\")) # step 1\n",
        "y = int(input(\"enter the y\")) # step 2\n",
        "r = func3(x,y) # step 3 # step 8    r = (8,1.66)\n",
        "print(r,\"normal program\") # step 9   prints r, normal program"
      ]
    },
    {
      "cell_type": "code",
      "execution_count": null,
      "metadata": {
        "colab": {
          "base_uri": "https://localhost:8080/"
        },
        "id": "gIgZdfmyOUpi",
        "outputId": "fdffe3f5-7c1c-42a7-e2a7-e2c8ea2258b8"
      },
      "outputs": [
        {
          "data": {
            "text/plain": [
              "tuple"
            ]
          },
          "execution_count": 21,
          "metadata": {},
          "output_type": "execute_result"
        }
      ],
      "source": [
        "type(r)"
      ]
    },
    {
      "cell_type": "code",
      "execution_count": null,
      "metadata": {
        "id": "M4XcEbwQPmUu"
      },
      "outputs": [],
      "source": [
        "# functions with default arguments\n",
        "def func4(country=\"India\"):\n",
        "  print(\"i am from \"+country)\n"
      ]
    },
    {
      "cell_type": "code",
      "execution_count": null,
      "metadata": {
        "colab": {
          "base_uri": "https://localhost:8080/"
        },
        "id": "1f0JT49lQWxs",
        "outputId": "8b4cd7da-ac87-4592-ad08-446b9a0fb12d"
      },
      "outputs": [
        {
          "name": "stdout",
          "output_type": "stream",
          "text": [
            "i am from India\n"
          ]
        }
      ],
      "source": [
        "func4()"
      ]
    },
    {
      "cell_type": "code",
      "execution_count": null,
      "metadata": {
        "colab": {
          "base_uri": "https://localhost:8080/"
        },
        "id": "qSxMzmkLQg8a",
        "outputId": "06a88913-77cf-4b1f-8bca-83a4203e5d11"
      },
      "outputs": [
        {
          "name": "stdout",
          "output_type": "stream",
          "text": [
            "i am from afganisthan\n"
          ]
        }
      ],
      "source": [
        "func4(\"afganisthan\")"
      ]
    },
    {
      "cell_type": "code",
      "execution_count": null,
      "metadata": {
        "colab": {
          "base_uri": "https://localhost:8080/"
        },
        "id": "IzKflrl6Q10p",
        "outputId": "b3020dec-177f-45e5-bd43-c360867e4d5a"
      },
      "outputs": [
        {
          "name": "stdout",
          "output_type": "stream",
          "text": [
            "i am from India\n"
          ]
        }
      ],
      "source": [
        "func4()"
      ]
    },
    {
      "cell_type": "code",
      "execution_count": null,
      "metadata": {
        "id": "nwxL1D3RQ7hA"
      },
      "outputs": [],
      "source": [
        "def func5(country):\n",
        "  print(\"i am from \"+country)\n"
      ]
    },
    {
      "cell_type": "code",
      "execution_count": null,
      "metadata": {
        "colab": {
          "base_uri": "https://localhost:8080/",
          "height": 165
        },
        "id": "s9lYz8DCROte",
        "outputId": "dd4a4a9e-3d63-413c-e039-eefcead1b07a"
      },
      "outputs": [
        {
          "ename": "TypeError",
          "evalue": "ignored",
          "output_type": "error",
          "traceback": [
            "\u001b[0;31m---------------------------------------------------------------------------\u001b[0m",
            "\u001b[0;31mTypeError\u001b[0m                                 Traceback (most recent call last)",
            "\u001b[0;32m<ipython-input-30-a6fb33b00698>\u001b[0m in \u001b[0;36m<module>\u001b[0;34m\u001b[0m\n\u001b[0;32m----> 1\u001b[0;31m \u001b[0mfunc5\u001b[0m\u001b[0;34m(\u001b[0m\u001b[0;34m)\u001b[0m\u001b[0;34m\u001b[0m\u001b[0;34m\u001b[0m\u001b[0m\n\u001b[0m",
            "\u001b[0;31mTypeError\u001b[0m: func5() missing 1 required positional argument: 'country'"
          ]
        }
      ],
      "source": [
        "func5()\n"
      ]
    },
    {
      "cell_type": "code",
      "execution_count": null,
      "metadata": {
        "id": "ij-RNBNURlKT"
      },
      "outputs": [],
      "source": [
        "# task\n",
        "# we should get arguments in func by using try,excemption"
      ]
    },
    {
      "cell_type": "code",
      "execution_count": null,
      "metadata": {
        "id": "H9sVTi2OR1Yd"
      },
      "outputs": [],
      "source": [
        "def func6(m1=7,m2=8):\n",
        "  total=m1+m2\n",
        "  print(total+100)\n",
        "  return total"
      ]
    },
    {
      "cell_type": "code",
      "execution_count": null,
      "metadata": {
        "colab": {
          "base_uri": "https://localhost:8080/"
        },
        "id": "f20qgeUiSha6",
        "outputId": "44e6543c-0f24-46af-ad33-08b55004dff4"
      },
      "outputs": [
        {
          "name": "stdout",
          "output_type": "stream",
          "text": [
            "128\n"
          ]
        },
        {
          "data": {
            "text/plain": [
              "28"
            ]
          },
          "execution_count": 36,
          "metadata": {},
          "output_type": "execute_result"
        }
      ],
      "source": [
        "func6(20)"
      ]
    },
    {
      "cell_type": "code",
      "execution_count": null,
      "metadata": {
        "colab": {
          "base_uri": "https://localhost:8080/"
        },
        "id": "WR6-OfKrS6dn",
        "outputId": "ea2aeead-9edd-4d49-c11d-edd7c1f4f64d"
      },
      "outputs": [
        {
          "name": "stdout",
          "output_type": "stream",
          "text": [
            "150\n"
          ]
        },
        {
          "data": {
            "text/plain": [
              "50"
            ]
          },
          "execution_count": 33,
          "metadata": {},
          "output_type": "execute_result"
        }
      ],
      "source": [
        "func6(20,30)"
      ]
    },
    {
      "cell_type": "code",
      "execution_count": null,
      "metadata": {
        "id": "nRHM2V_0ThYX"
      },
      "outputs": [],
      "source": [
        "func6()"
      ]
    },
    {
      "cell_type": "code",
      "execution_count": null,
      "metadata": {
        "colab": {
          "base_uri": "https://localhost:8080/",
          "height": 130
        },
        "id": "EEwRLgHUUA59",
        "outputId": "9d8be433-2750-4d05-ace4-0d4cdcd83110"
      },
      "outputs": [
        {
          "ename": "SyntaxError",
          "evalue": "ignored",
          "output_type": "error",
          "traceback": [
            "\u001b[0;36m  File \u001b[0;32m\"<ipython-input-37-0d1e97e69583>\"\u001b[0;36m, line \u001b[0;32m1\u001b[0m\n\u001b[0;31m    def func7(m1=5,m2):\u001b[0m\n\u001b[0m             ^\u001b[0m\n\u001b[0;31mSyntaxError\u001b[0m\u001b[0;31m:\u001b[0m non-default argument follows default argument\n"
          ]
        }
      ],
      "source": [
        "def func7(m1=5,m2):\n",
        "  print(m1,m2)"
      ]
    },
    {
      "cell_type": "code",
      "execution_count": null,
      "metadata": {
        "id": "2HvqObhJULrY"
      },
      "outputs": [],
      "source": [
        "func7(20)"
      ]
    },
    {
      "cell_type": "code",
      "execution_count": null,
      "metadata": {
        "id": "HFKwXtbfU9Vy"
      },
      "outputs": [],
      "source": [
        "def func8(m1,m2,m3=45):\n",
        "  print(m1,m2,m3)"
      ]
    },
    {
      "cell_type": "code",
      "execution_count": null,
      "metadata": {
        "colab": {
          "base_uri": "https://localhost:8080/"
        },
        "id": "iZut37DgVLIB",
        "outputId": "a514cf8e-43ff-46d5-8ccf-739a33bbf805"
      },
      "outputs": [
        {
          "name": "stdout",
          "output_type": "stream",
          "text": [
            "20 30 45\n"
          ]
        }
      ],
      "source": [
        "func8(20,30)"
      ]
    },
    {
      "cell_type": "code",
      "execution_count": null,
      "metadata": {
        "id": "hM6zp7bRVZNX"
      },
      "outputs": [],
      "source": [
        "def func8(m1,m2=45,m3):\n",
        "  print(m1,m2,m3)"
      ]
    },
    {
      "cell_type": "code",
      "execution_count": null,
      "metadata": {
        "id": "NlTAwkq4VniX"
      },
      "outputs": [],
      "source": [
        "# functions with keyword arguments\n",
        "def func9(m1,m2): # step 4 enters func9 as m1=4,m2=7 # step 102 m1=5,m2=4\n",
        "  print(\"m1\",m1) # step 103 \n",
        "  print(\"m2\",m2) # step 104"
      ]
    },
    {
      "cell_type": "code",
      "execution_count": null,
      "metadata": {
        "colab": {
          "base_uri": "https://localhost:8080/"
        },
        "id": "KForkOqbV7Kw",
        "outputId": "d982f612-4cf8-4763-9505-35b406936a58"
      },
      "outputs": [
        {
          "name": "stdout",
          "output_type": "stream",
          "text": [
            "enter m1 = 7\n",
            "enter m2 = 4\n",
            "m1 4\n",
            "m2 7\n",
            "######&^%^&\n",
            "m1 7\n",
            "m2 4\n"
          ]
        }
      ],
      "source": [
        "m1=int(input(\"enter m1 = \")) # step 1 , m1=7\n",
        "m2=int(input(\"enter m2 = \")) # step 2 , m2=4\n",
        "func9(m2,m1) # step 3  calls func9(4,7)\n",
        "print(\"######&^%^&\")\n",
        "print(\"m1\",m1)\n",
        "print(\"m2\",m2)\n"
      ]
    },
    {
      "cell_type": "code",
      "execution_count": null,
      "metadata": {
        "colab": {
          "base_uri": "https://localhost:8080/"
        },
        "id": "N5182XPDWGK-",
        "outputId": "97bfb720-f454-4e1a-c8be-288482a41da7"
      },
      "outputs": [
        {
          "name": "stdout",
          "output_type": "stream",
          "text": [
            "enter m2 4\n",
            "enter m1 5\n",
            "m1 5\n",
            "m2 4\n",
            "333333#########\n",
            "m1 7\n",
            "m2 4\n"
          ]
        }
      ],
      "source": [
        "func9(m2=int(input(\"enter m2 \")),m1=int(input(\"enter m1 \"))) # step 101 gets values m2,m1 as keyword agruments for func9\n",
        "print(\"333333#########\") # step 105\n",
        "print(\"m1\",m1) # step 106 prints m1 as we declared in the previous cell(step 1)\n",
        "print(\"m2\",m2) # step 107 prints m2 as we declared in the previous cell(step 2)"
      ]
    },
    {
      "cell_type": "code",
      "execution_count": null,
      "metadata": {
        "id": "eGPumFyxaYHS"
      },
      "outputs": [],
      "source": [
        "def func10(m1=6,m2=9):\n",
        "  print(\"m1\",m1)\n",
        "  print(\"m2\",m2)\n"
      ]
    },
    {
      "cell_type": "code",
      "execution_count": null,
      "metadata": {
        "colab": {
          "base_uri": "https://localhost:8080/"
        },
        "id": "ebxMtD-CapIE",
        "outputId": "5c66abfa-f87e-4ddf-c482-d9414d6147a3"
      },
      "outputs": [
        {
          "name": "stdout",
          "output_type": "stream",
          "text": [
            "m1 (2, 3, 4)\n",
            "m2 [100, 200, 300]\n"
          ]
        }
      ],
      "source": [
        "func10(m1=(2,3,4),m2=[100,200,300])"
      ]
    },
    {
      "cell_type": "code",
      "execution_count": null,
      "metadata": {
        "colab": {
          "base_uri": "https://localhost:8080/"
        },
        "id": "LR_vKp9WbAzA",
        "outputId": "cec30e35-05a4-44c8-fb23-56aeeabd3334"
      },
      "outputs": [
        {
          "name": "stdout",
          "output_type": "stream",
          "text": [
            "m1 (2, 3, 4)\n",
            "m2 [100, 200, 300]\n",
            "None\n"
          ]
        }
      ],
      "source": [
        "print(func10(m1=(2,3,4),m2=[100,200,300]))"
      ]
    },
    {
      "cell_type": "code",
      "execution_count": null,
      "metadata": {
        "id": "Lx32tXpGb1oI"
      },
      "outputs": [],
      "source": [
        "def func10(m1=6,m2=9):\n",
        "  print(\"m1\",m1)\n",
        "  print(\"m2\",m2)\n",
        "  return(\"bye\")\n"
      ]
    },
    {
      "cell_type": "code",
      "execution_count": null,
      "metadata": {
        "colab": {
          "base_uri": "https://localhost:8080/"
        },
        "id": "c5S97rPLb-lF",
        "outputId": "deb5819a-56c5-4ac2-dc95-5cc86090f803"
      },
      "outputs": [
        {
          "name": "stdout",
          "output_type": "stream",
          "text": [
            "m1 (2, 3, 4)\n",
            "m2 [100, 200, 300]\n",
            "bye\n"
          ]
        }
      ],
      "source": [
        "print(func10(m1=(2,3,4),m2=[100,200,300]))"
      ]
    },
    {
      "cell_type": "code",
      "execution_count": null,
      "metadata": {
        "colab": {
          "base_uri": "https://localhost:8080/"
        },
        "id": "33G7eXgjcU_F",
        "outputId": "e58a6c58-ed3d-43b1-8ddb-1b05afac219b"
      },
      "outputs": [
        {
          "name": "stdout",
          "output_type": "stream",
          "text": [
            "m1 6\n",
            "m2 9\n"
          ]
        }
      ],
      "source": [
        "a=func10()"
      ]
    },
    {
      "cell_type": "code",
      "execution_count": null,
      "metadata": {
        "colab": {
          "base_uri": "https://localhost:8080/",
          "height": 36
        },
        "id": "kl0h82GfcUya",
        "outputId": "992edf8f-7436-42be-d063-ceeefe667b75"
      },
      "outputs": [
        {
          "data": {
            "application/vnd.google.colaboratory.intrinsic+json": {
              "type": "string"
            },
            "text/plain": [
              "'bye'"
            ]
          },
          "execution_count": 50,
          "metadata": {},
          "output_type": "execute_result"
        }
      ],
      "source": [
        "a"
      ]
    },
    {
      "cell_type": "code",
      "execution_count": null,
      "metadata": {
        "id": "N_J8Zvk-dY6r"
      },
      "outputs": [],
      "source": []
    },
    {
      "cell_type": "markdown",
      "metadata": {
        "id": "41yrDP28GZ_3"
      },
      "source": [
        "#20 Nov 2022"
      ]
    },
    {
      "cell_type": "code",
      "execution_count": null,
      "metadata": {
        "id": "P9dzRZeaGf5i"
      },
      "outputs": [],
      "source": [
        "#variable length arg\n",
        "def func10(*v):\n",
        "    print(v,type(v))"
      ]
    },
    {
      "cell_type": "code",
      "execution_count": null,
      "metadata": {
        "colab": {
          "base_uri": "https://localhost:8080/"
        },
        "id": "yR71hF-YHbCc",
        "outputId": "bc4c7920-91d8-4c99-c59b-1111b0102317"
      },
      "outputs": [
        {
          "name": "stdout",
          "output_type": "stream",
          "text": [
            "(78,) <class 'tuple'>\n"
          ]
        }
      ],
      "source": [
        "func10(78)"
      ]
    },
    {
      "cell_type": "code",
      "execution_count": null,
      "metadata": {
        "colab": {
          "base_uri": "https://localhost:8080/"
        },
        "id": "eIw--y8cHiir",
        "outputId": "850a153b-af46-4ed7-d746-df079597d6ba"
      },
      "outputs": [
        {
          "name": "stdout",
          "output_type": "stream",
          "text": [
            "([45, 78, 89, 12],) <class 'tuple'>\n"
          ]
        }
      ],
      "source": [
        "func10([45,78,89,12])"
      ]
    },
    {
      "cell_type": "code",
      "execution_count": null,
      "metadata": {
        "id": "6tvCvhN5JRgU"
      },
      "outputs": [],
      "source": [
        "#variable length keyword arg\n",
        "def func11(**va):\n",
        "    print(va,type(va))"
      ]
    },
    {
      "cell_type": "code",
      "execution_count": null,
      "metadata": {
        "colab": {
          "base_uri": "https://localhost:8080/",
          "height": 166
        },
        "id": "th9y3TfaJmrk",
        "outputId": "de003b43-fa0b-4e84-9058-59a24e249d48"
      },
      "outputs": [
        {
          "ename": "TypeError",
          "evalue": "ignored",
          "output_type": "error",
          "traceback": [
            "\u001b[0;31m---------------------------------------------------------------------------\u001b[0m",
            "\u001b[0;31mTypeError\u001b[0m                                 Traceback (most recent call last)",
            "\u001b[0;32m<ipython-input-5-f234003b311c>\u001b[0m in \u001b[0;36m<module>\u001b[0;34m\u001b[0m\n\u001b[0;32m----> 1\u001b[0;31m \u001b[0mfunc11\u001b[0m\u001b[0;34m(\u001b[0m\u001b[0;36m45\u001b[0m\u001b[0;34m)\u001b[0m\u001b[0;34m\u001b[0m\u001b[0;34m\u001b[0m\u001b[0m\n\u001b[0m",
            "\u001b[0;31mTypeError\u001b[0m: func11() takes 0 positional arguments but 1 was given"
          ]
        }
      ],
      "source": [
        "func11(45)"
      ]
    },
    {
      "cell_type": "code",
      "execution_count": null,
      "metadata": {
        "colab": {
          "base_uri": "https://localhost:8080/"
        },
        "id": "XxdV3s3mJsXY",
        "outputId": "face93ca-6423-4cd9-eeb7-1c31ccdfda3c"
      },
      "outputs": [
        {
          "name": "stdout",
          "output_type": "stream",
          "text": [
            "{'m': 1, 'n': 34} <class 'dict'>\n"
          ]
        }
      ],
      "source": [
        "func11(m=1,n=34)"
      ]
    },
    {
      "cell_type": "code",
      "execution_count": null,
      "metadata": {
        "id": "wruzfaxCMCiW"
      },
      "outputs": [],
      "source": [
        "def func12(*v,**va):\n",
        "    print(v,va)\n",
        "    print(type(v),type(va))"
      ]
    },
    {
      "cell_type": "code",
      "execution_count": null,
      "metadata": {
        "colab": {
          "base_uri": "https://localhost:8080/"
        },
        "id": "z2Wk7jeQMUdf",
        "outputId": "a21188f2-e056-4ec0-8924-b971b4c20f4c"
      },
      "outputs": [
        {
          "name": "stdout",
          "output_type": "stream",
          "text": [
            "('sample', 78, 'test') {'a': 45}\n",
            "<class 'tuple'> <class 'dict'>\n"
          ]
        }
      ],
      "source": [
        "func12(\"sample\",78,\"test\",a=45)"
      ]
    },
    {
      "cell_type": "code",
      "execution_count": null,
      "metadata": {
        "colab": {
          "base_uri": "https://localhost:8080/"
        },
        "id": "9J6oRXiaM4R8",
        "outputId": "110b3b2c-8878-46f0-8b89-1ceab6849088"
      },
      "outputs": [
        {
          "name": "stdout",
          "output_type": "stream",
          "text": [
            "() {'x': 23}\n",
            "<class 'tuple'> <class 'dict'>\n"
          ]
        }
      ],
      "source": [
        "func12(x=23)"
      ]
    },
    {
      "cell_type": "code",
      "execution_count": null,
      "metadata": {
        "id": "4Kubk-4NNVA8"
      },
      "outputs": [],
      "source": [
        "def func12(*v,x=None,**va):\n",
        "    print(v,x,va)\n",
        "    print(type(v),type(x),type(va))"
      ]
    },
    {
      "cell_type": "code",
      "execution_count": null,
      "metadata": {
        "colab": {
          "base_uri": "https://localhost:8080/"
        },
        "id": "CHYSQzt7Nfer",
        "outputId": "ccd30269-f205-4771-d7c3-b5b958a248fc"
      },
      "outputs": [
        {
          "name": "stdout",
          "output_type": "stream",
          "text": [
            "('sample', 78, 'test') None {'a': 45}\n",
            "<class 'tuple'> <class 'NoneType'> <class 'dict'>\n"
          ]
        }
      ],
      "source": [
        "func12(\"sample\",78,\"test\",a=45)"
      ]
    },
    {
      "cell_type": "code",
      "execution_count": null,
      "metadata": {
        "id": "OIAlOgOhNyZz"
      },
      "outputs": [],
      "source": [
        "def func12(x=None,*v,**va):\n",
        "    print(v,x,va)\n",
        "    print(type(v),type(x),type(va))"
      ]
    },
    {
      "cell_type": "code",
      "execution_count": null,
      "metadata": {
        "colab": {
          "base_uri": "https://localhost:8080/"
        },
        "id": "O-rD9GsKN692",
        "outputId": "cd0aeaf7-75fb-45e0-9a1f-5afa4f296927"
      },
      "outputs": [
        {
          "name": "stdout",
          "output_type": "stream",
          "text": [
            "(78, 'test') sample {'a': 45}\n",
            "<class 'tuple'> <class 'str'> <class 'dict'>\n"
          ]
        }
      ],
      "source": [
        "func12(\"sample\",78,\"test\",a=45)"
      ]
    },
    {
      "cell_type": "code",
      "execution_count": null,
      "metadata": {
        "id": "Wlfzq8CdOEjz"
      },
      "outputs": [],
      "source": [
        "def func12(*v,x=\"aaa\",**va):\n",
        "    print(v,x,va)\n",
        "    print(type(v),type(x),type(va))"
      ]
    },
    {
      "cell_type": "code",
      "execution_count": null,
      "metadata": {
        "id": "Jy4SD2SEOJCn"
      },
      "outputs": [],
      "source": [
        "func12(\"sample\",78,\"test\",a=45)"
      ]
    },
    {
      "cell_type": "code",
      "execution_count": null,
      "metadata": {
        "colab": {
          "base_uri": "https://localhost:8080/"
        },
        "id": "aODjUSLWORPk",
        "outputId": "45f207c5-4b54-4c5a-8593-cd2927141b96"
      },
      "outputs": [
        {
          "name": "stdout",
          "output_type": "stream",
          "text": [
            "None <class 'NoneType'>\n"
          ]
        }
      ],
      "source": [
        "q=None\n",
        "print(q,type(q))"
      ]
    },
    {
      "cell_type": "code",
      "execution_count": null,
      "metadata": {
        "id": "00Rlja2GPi-i"
      },
      "outputs": [],
      "source": [
        "def func13(*a,**b):\n",
        "    print(a,b)"
      ]
    },
    {
      "cell_type": "code",
      "execution_count": null,
      "metadata": {
        "colab": {
          "base_uri": "https://localhost:8080/"
        },
        "id": "KyKodJaNP1xu",
        "outputId": "fd900078-708e-431a-ed85-ddac6f1b7b1e"
      },
      "outputs": [
        {
          "name": "stdout",
          "output_type": "stream",
          "text": [
            "(1, 2, 3, 4, 5, 6, 7) {}\n"
          ]
        }
      ],
      "source": [
        "func13(1,2,3,4,5,6,7)"
      ]
    },
    {
      "cell_type": "code",
      "execution_count": null,
      "metadata": {
        "colab": {
          "base_uri": "https://localhost:8080/",
          "height": 131
        },
        "id": "_2M7QhRrQP36",
        "outputId": "72f034cd-a9e8-419f-a7f6-6a4bb4313105"
      },
      "outputs": [
        {
          "ename": "SyntaxError",
          "evalue": "ignored",
          "output_type": "error",
          "traceback": [
            "\u001b[0;36m  File \u001b[0;32m\"<ipython-input-24-af17699e4caf>\"\u001b[0;36m, line \u001b[0;32m1\u001b[0m\n\u001b[0;31m    def func13(**a,*b):\u001b[0m\n\u001b[0m                   ^\u001b[0m\n\u001b[0;31mSyntaxError\u001b[0m\u001b[0;31m:\u001b[0m invalid syntax\n"
          ]
        }
      ],
      "source": [
        "def func13(**a,*b):\n",
        "    print(a,b)"
      ]
    },
    {
      "cell_type": "code",
      "execution_count": null,
      "metadata": {
        "id": "gQ-xl8OzQzFS"
      },
      "outputs": [],
      "source": [
        "def func14(x):\n",
        "    if x>=0:\n",
        "        print(x)\n",
        "        func14(x-1)\n",
        "    else:\n",
        "        pass"
      ]
    },
    {
      "cell_type": "code",
      "execution_count": null,
      "metadata": {
        "colab": {
          "base_uri": "https://localhost:8080/"
        },
        "id": "jz8MubSLRKNM",
        "outputId": "99720ece-e756-4ab2-da2c-468a86eab2f7"
      },
      "outputs": [
        {
          "name": "stdout",
          "output_type": "stream",
          "text": [
            "8\n",
            "7\n",
            "6\n",
            "5\n",
            "4\n",
            "3\n",
            "2\n",
            "1\n",
            "0\n"
          ]
        }
      ],
      "source": [
        "func14(8)"
      ]
    },
    {
      "cell_type": "code",
      "execution_count": null,
      "metadata": {
        "id": "rV4zAjAzRqhy"
      },
      "outputs": [],
      "source": [
        "#lambda function , single line func, \n",
        "#syntax             lambda arg:exp"
      ]
    },
    {
      "cell_type": "code",
      "execution_count": null,
      "metadata": {
        "id": "yY7EcchwSBol"
      },
      "outputs": [],
      "source": [
        "sample = lambda name : \"hi myself is \"+ name"
      ]
    },
    {
      "cell_type": "code",
      "execution_count": null,
      "metadata": {
        "colab": {
          "base_uri": "https://localhost:8080/"
        },
        "id": "4ofyT3J_SQNV",
        "outputId": "6ae2deda-a7b0-41d9-a851-ec1eeb1ddc3e"
      },
      "outputs": [
        {
          "data": {
            "text/plain": [
              "(<function __main__.<lambda>(name)>, function)"
            ]
          },
          "execution_count": 30,
          "metadata": {},
          "output_type": "execute_result"
        }
      ],
      "source": [
        "sample, type(sample)"
      ]
    },
    {
      "cell_type": "code",
      "execution_count": null,
      "metadata": {
        "colab": {
          "base_uri": "https://localhost:8080/",
          "height": 35
        },
        "id": "HMizfNV9SZ6O",
        "outputId": "64b3b41d-d2be-4dc1-9bcc-853962f9d6a5"
      },
      "outputs": [
        {
          "data": {
            "application/vnd.google.colaboratory.intrinsic+json": {
              "type": "string"
            },
            "text/plain": [
              "'hi myself is sakthivel'"
            ]
          },
          "execution_count": 31,
          "metadata": {},
          "output_type": "execute_result"
        }
      ],
      "source": [
        "sample(\"sakthivel\")"
      ]
    },
    {
      "cell_type": "code",
      "execution_count": null,
      "metadata": {
        "id": "6FCdbhi8S6ph"
      },
      "outputs": [],
      "source": [
        "sample1 = lambda *x:x[0]*x[1]*x[2]"
      ]
    },
    {
      "cell_type": "code",
      "execution_count": null,
      "metadata": {
        "colab": {
          "base_uri": "https://localhost:8080/"
        },
        "id": "eFGI6NsITFE1",
        "outputId": "69e050d9-6ea7-4ffb-e2ff-e94516f4e427"
      },
      "outputs": [
        {
          "data": {
            "text/plain": [
              "148512"
            ]
          },
          "execution_count": 36,
          "metadata": {},
          "output_type": "execute_result"
        }
      ],
      "source": [
        "sample1(34,56,78)"
      ]
    },
    {
      "cell_type": "code",
      "execution_count": null,
      "metadata": {
        "id": "O0nV74oJW25d"
      },
      "outputs": [],
      "source": [
        "#class\n",
        "#template / blueprint of code,\n",
        "#constructor -> object\n"
      ]
    },
    {
      "cell_type": "code",
      "execution_count": null,
      "metadata": {
        "id": "JLXJpD46YKLP"
      },
      "outputs": [],
      "source": [
        "class www:#2 enters\n",
        "    name=\"arun\" #3 var name is connected to object x,=> a property will be created x.name = arun\n",
        "    id=23 #4 "
      ]
    },
    {
      "cell_type": "code",
      "execution_count": null,
      "metadata": {
        "id": "WfGz2hsAYQMg"
      },
      "outputs": [],
      "source": [
        "x=www()#1 object x is created based on sample #5 success"
      ]
    },
    {
      "cell_type": "code",
      "execution_count": null,
      "metadata": {
        "colab": {
          "base_uri": "https://localhost:8080/"
        },
        "id": "yCVKc56tYvsD",
        "outputId": "d1d83ebb-3d45-4caa-d21e-47af8d28bd47"
      },
      "outputs": [
        {
          "data": {
            "text/plain": [
              "('arun', 23)"
            ]
          },
          "execution_count": 44,
          "metadata": {},
          "output_type": "execute_result"
        }
      ],
      "source": [
        "x.name,x.id"
      ]
    },
    {
      "cell_type": "code",
      "execution_count": null,
      "metadata": {
        "colab": {
          "base_uri": "https://localhost:8080/"
        },
        "id": "JfGyjXw0ZhpI",
        "outputId": "b2577885-f206-461f-dcec-2588e7ba7396"
      },
      "outputs": [
        {
          "data": {
            "text/plain": [
              "__main__.www"
            ]
          },
          "execution_count": 45,
          "metadata": {},
          "output_type": "execute_result"
        }
      ],
      "source": [
        "type(x)"
      ]
    },
    {
      "cell_type": "code",
      "execution_count": null,
      "metadata": {
        "colab": {
          "base_uri": "https://localhost:8080/"
        },
        "id": "xhzg7Hb8Zr8d",
        "outputId": "60a118e6-325b-4b31-c6ce-21ebbb6c9b0f"
      },
      "outputs": [
        {
          "data": {
            "text/plain": [
              "type"
            ]
          },
          "execution_count": 46,
          "metadata": {},
          "output_type": "execute_result"
        }
      ],
      "source": [
        "type(sample)"
      ]
    },
    {
      "cell_type": "code",
      "execution_count": null,
      "metadata": {
        "id": "MDTt7au6aRTi"
      },
      "outputs": [],
      "source": [
        "y=www()"
      ]
    },
    {
      "cell_type": "code",
      "execution_count": null,
      "metadata": {
        "colab": {
          "base_uri": "https://localhost:8080/"
        },
        "id": "2RI1q93aa0JK",
        "outputId": "b6974bfd-06b7-4616-bf01-ed581a9d4504"
      },
      "outputs": [
        {
          "data": {
            "text/plain": [
              "('arun', 23)"
            ]
          },
          "execution_count": 50,
          "metadata": {},
          "output_type": "execute_result"
        }
      ],
      "source": [
        "y.name,y.id"
      ]
    },
    {
      "cell_type": "code",
      "execution_count": null,
      "metadata": {
        "colab": {
          "base_uri": "https://localhost:8080/"
        },
        "id": "fbB3hJCfbBX2",
        "outputId": "d65c97e9-a409-44c5-df1d-990c43706a85"
      },
      "outputs": [
        {
          "data": {
            "text/plain": [
              "<__main__.www at 0x7f512178cbd0>"
            ]
          },
          "execution_count": 49,
          "metadata": {},
          "output_type": "execute_result"
        }
      ],
      "source": [
        "x"
      ]
    },
    {
      "cell_type": "code",
      "execution_count": null,
      "metadata": {
        "id": "83FrQDk9cWJZ"
      },
      "outputs": [],
      "source": [
        "x.name=\"ashok\""
      ]
    },
    {
      "cell_type": "code",
      "execution_count": null,
      "metadata": {
        "colab": {
          "base_uri": "https://localhost:8080/"
        },
        "id": "PcDlC9ttcbyc",
        "outputId": "29e7b021-a5e7-4a62-b109-5fe4438a9aa9"
      },
      "outputs": [
        {
          "data": {
            "text/plain": [
              "('ashok', 23, 'arun', 23)"
            ]
          },
          "execution_count": 52,
          "metadata": {},
          "output_type": "execute_result"
        }
      ],
      "source": [
        "x.name,x.id,y.name,y.id"
      ]
    },
    {
      "cell_type": "code",
      "execution_count": null,
      "metadata": {
        "id": "C2HbLm5jcrX4"
      },
      "outputs": [],
      "source": [
        "class emp:#2\n",
        "    def __init__(self,ID,Name,Age):#3 self=e1,ID=23,Name=gowri,Age=67\n",
        "        self.id=ID#4 creates property e1.id=23\n",
        "        self.name=Name#5 creates property e1.name=gowri\n",
        "        self.age=Age #6 creates "
      ]
    },
    {
      "cell_type": "code",
      "execution_count": null,
      "metadata": {
        "id": "IvmL25YkdeZD"
      },
      "outputs": [],
      "source": [
        "e1=emp(23,\"gowri\",67)#1 e1 object based on emp, creation=> enters into __init__(#3) #7 completed\n"
      ]
    },
    {
      "cell_type": "code",
      "execution_count": null,
      "metadata": {
        "colab": {
          "base_uri": "https://localhost:8080/"
        },
        "id": "CAZCLAoIdl92",
        "outputId": "d0a9f5ab-f9ac-4f59-c7e2-5e5ce37ab921"
      },
      "outputs": [
        {
          "data": {
            "text/plain": [
              "23"
            ]
          },
          "execution_count": 55,
          "metadata": {},
          "output_type": "execute_result"
        }
      ],
      "source": [
        "e1.id"
      ]
    },
    {
      "cell_type": "code",
      "execution_count": null,
      "metadata": {
        "id": "1KFJf3ZdfVkF"
      },
      "outputs": [],
      "source": [
        "class emp:\n",
        "    def __init__(self,ID,Name,Age):\n",
        "        self.name=Name\n",
        "        self.age=Age\n",
        "        self.id=ID"
      ]
    },
    {
      "cell_type": "code",
      "execution_count": null,
      "metadata": {
        "id": "qvolvfP-fqjH"
      },
      "outputs": [],
      "source": [
        "e2=emp(Name=\"shankari\",ID=45,Age=80)"
      ]
    },
    {
      "cell_type": "code",
      "execution_count": null,
      "metadata": {
        "colab": {
          "base_uri": "https://localhost:8080/"
        },
        "id": "GqbOS2tqfyzv",
        "outputId": "72334539-ddb5-49d6-ec5d-cae7684005e6"
      },
      "outputs": [
        {
          "data": {
            "text/plain": [
              "(45, 'shankari', 80)"
            ]
          },
          "execution_count": 62,
          "metadata": {},
          "output_type": "execute_result"
        }
      ],
      "source": [
        "e2.id,e2.name,e2.age"
      ]
    },
    {
      "cell_type": "code",
      "execution_count": null,
      "metadata": {
        "id": "NGyzHeZag-ry"
      },
      "outputs": [],
      "source": [
        "e3=emp(56,\"don\",77)"
      ]
    },
    {
      "cell_type": "code",
      "execution_count": null,
      "metadata": {
        "colab": {
          "base_uri": "https://localhost:8080/"
        },
        "id": "hJqutFlYhHlv",
        "outputId": "96ac07a6-7982-4801-bdb1-2d4200d4727c"
      },
      "outputs": [
        {
          "data": {
            "text/plain": [
              "(56, 'don', 77)"
            ]
          },
          "execution_count": 66,
          "metadata": {},
          "output_type": "execute_result"
        }
      ],
      "source": [
        "e3.id,e3.name,e3.age"
      ]
    },
    {
      "cell_type": "code",
      "execution_count": null,
      "metadata": {
        "colab": {
          "base_uri": "https://localhost:8080/"
        },
        "id": "G8QCkOMQhZXm",
        "outputId": "450d0671-b5da-4284-dd6e-9f90f8ad853e"
      },
      "outputs": [
        {
          "data": {
            "text/plain": [
              "(<__main__.emp at 0x7f51216ad410>, <__main__.emp at 0x7f512173a550>)"
            ]
          },
          "execution_count": 67,
          "metadata": {},
          "output_type": "execute_result"
        }
      ],
      "source": [
        "e2,e3"
      ]
    },
    {
      "cell_type": "markdown",
      "metadata": {
        "id": "k9zezOTwBXHA"
      },
      "source": [
        "# **26 NOV 2022**"
      ]
    },
    {
      "cell_type": "code",
      "execution_count": null,
      "metadata": {
        "id": "30Du9BZ7BbIN"
      },
      "outputs": [],
      "source": [
        "class emp:\n",
        "  def __init__(self,ID,Name,Age): # self refers the object\n",
        "    self.id=ID\n",
        "    self.name=Name\n",
        "    self.age=Age\n",
        "  def display(self):\n",
        "    print(\"ID\",self.id,\"\\nName\", self.name,\"\\nAge\", self.age)"
      ]
    },
    {
      "cell_type": "code",
      "execution_count": null,
      "metadata": {
        "id": "-bzQFVyNCOIb"
      },
      "outputs": [],
      "source": [
        "e1=emp(23,\"Sabari\",56) "
      ]
    },
    {
      "cell_type": "markdown",
      "metadata": {
        "id": "fK-wv9KJFzeZ"
      },
      "source": []
    },
    {
      "cell_type": "code",
      "execution_count": null,
      "metadata": {
        "colab": {
          "base_uri": "https://localhost:8080/"
        },
        "id": "6V5KgfVFChxo",
        "outputId": "ec1e0c9b-f635-470a-e012-d5143e0198ca"
      },
      "outputs": [
        {
          "name": "stdout",
          "output_type": "stream",
          "text": [
            "ID 23 \n",
            "Name Sabari \n",
            "Age 56\n"
          ]
        }
      ],
      "source": [
        "e1.display()"
      ]
    },
    {
      "cell_type": "code",
      "execution_count": null,
      "metadata": {
        "id": "KD0ZsKk-ED0_"
      },
      "outputs": [],
      "source": [
        "e2=emp(38,\"Sabari\",35) "
      ]
    },
    {
      "cell_type": "code",
      "execution_count": null,
      "metadata": {
        "colab": {
          "base_uri": "https://localhost:8080/"
        },
        "id": "OqRg-FOnEq9t",
        "outputId": "2e39a8f1-571c-48be-a283-1a4301c478cf"
      },
      "outputs": [
        {
          "name": "stdout",
          "output_type": "stream",
          "text": [
            "ID 38 \n",
            "Name Sabari \n",
            "Age 35\n"
          ]
        }
      ],
      "source": [
        "e2.display()"
      ]
    },
    {
      "cell_type": "code",
      "execution_count": null,
      "metadata": {
        "colab": {
          "base_uri": "https://localhost:8080/"
        },
        "id": "uTaRtvtJEtk5",
        "outputId": "e35282a6-edbd-419a-c364-4d8003106c3b"
      },
      "outputs": [
        {
          "data": {
            "text/plain": [
              "<__main__.emp at 0x7fbbe47d6b90>"
            ]
          },
          "execution_count": 8,
          "metadata": {},
          "output_type": "execute_result"
        }
      ],
      "source": [
        "e1"
      ]
    },
    {
      "cell_type": "code",
      "execution_count": null,
      "metadata": {
        "id": "i4MkGiCIFpFR"
      },
      "outputs": [],
      "source": [
        "class emp:\n",
        "  def __init__(V,ID,Name,Age): # V refers the object\n",
        "    V.id=ID\n",
        "    V.name=Name\n",
        "    V.age=Age\n",
        "  def display(self):\n",
        "    print(\"ID\",self.id,\"\\nName\", self.name,\"\\nAge\", self.age)"
      ]
    },
    {
      "cell_type": "code",
      "execution_count": null,
      "metadata": {
        "id": "paj2_5I7GM53"
      },
      "outputs": [],
      "source": [
        "e3 = emp(45,\"madhan\",29)"
      ]
    },
    {
      "cell_type": "code",
      "execution_count": null,
      "metadata": {
        "colab": {
          "base_uri": "https://localhost:8080/"
        },
        "id": "To0oyxJpGWsa",
        "outputId": "d10c903d-1383-4687-80cf-34314424bce5"
      },
      "outputs": [
        {
          "data": {
            "text/plain": [
              "<__main__.emp at 0x7fbbe47ea110>"
            ]
          },
          "execution_count": 11,
          "metadata": {},
          "output_type": "execute_result"
        }
      ],
      "source": [
        "e3"
      ]
    },
    {
      "cell_type": "code",
      "execution_count": null,
      "metadata": {
        "colab": {
          "base_uri": "https://localhost:8080/"
        },
        "id": "DjGtwryGGcFG",
        "outputId": "dbf7a4d2-ceae-44e0-d873-72f927cec6b6"
      },
      "outputs": [
        {
          "name": "stdout",
          "output_type": "stream",
          "text": [
            "ID 45 \n",
            "Name madhan \n",
            "Age 29\n"
          ]
        }
      ],
      "source": [
        "e3.display()"
      ]
    },
    {
      "cell_type": "code",
      "execution_count": null,
      "metadata": {
        "id": "ywigj1yyGeiY"
      },
      "outputs": [],
      "source": [
        "class emp:\n",
        "  def __init__(V,ID,Name,Age): # V refers the object\n",
        "    V.id=ID\n",
        "    V.name=Name\n",
        "    V.age=Age\n",
        "  def display(B):\n",
        "    print(\"ID\",B.id,\"\\nName\", B.name,\"\\nAge\", B.age, \"\\n\",B) # here, also B refers object so its equalent to (B=e4), so it's display like e4"
      ]
    },
    {
      "cell_type": "code",
      "execution_count": null,
      "metadata": {
        "id": "eRS-aj7hHLV2"
      },
      "outputs": [],
      "source": [
        "e4=emp(58,\"K7\",28)"
      ]
    },
    {
      "cell_type": "code",
      "execution_count": null,
      "metadata": {
        "colab": {
          "base_uri": "https://localhost:8080/"
        },
        "id": "PwLKZZDmHQmd",
        "outputId": "1ac808c4-12a2-4fc1-b82a-9de3e8deab18"
      },
      "outputs": [
        {
          "name": "stdout",
          "output_type": "stream",
          "text": [
            "ID 58 \n",
            "Name K7 \n",
            "Age 28 \n",
            " <__main__.emp object at 0x7fbbe4758310>\n"
          ]
        }
      ],
      "source": [
        "e4.display()"
      ]
    },
    {
      "cell_type": "code",
      "execution_count": null,
      "metadata": {
        "colab": {
          "base_uri": "https://localhost:8080/"
        },
        "id": "Jq4GV1J4HwMA",
        "outputId": "f7c63a72-a98f-4be6-cfa1-1727dbf84a98"
      },
      "outputs": [
        {
          "data": {
            "text/plain": [
              "<__main__.emp at 0x7fbbe4758310>"
            ]
          },
          "execution_count": 27,
          "metadata": {},
          "output_type": "execute_result"
        }
      ],
      "source": [
        "e4"
      ]
    },
    {
      "cell_type": "code",
      "execution_count": null,
      "metadata": {
        "id": "uGBOhHKLIexT"
      },
      "outputs": [],
      "source": [
        "class guvi(emp):\n",
        "  pass\n"
      ]
    },
    {
      "cell_type": "code",
      "execution_count": null,
      "metadata": {
        "id": "ZScKwB9VJngQ"
      },
      "outputs": [],
      "source": [
        "g_e1=guvi(12,\"Mahesh\",25)"
      ]
    },
    {
      "cell_type": "code",
      "execution_count": null,
      "metadata": {
        "colab": {
          "base_uri": "https://localhost:8080/"
        },
        "id": "wFfnvUjtJ21_",
        "outputId": "5d107c6b-c4a1-4257-cb5d-3ac127157ed7"
      },
      "outputs": [
        {
          "name": "stdout",
          "output_type": "stream",
          "text": [
            "ID 12 \n",
            "Name Mahesh \n",
            "Age 25 \n",
            " <__main__.guvi object at 0x7fbbe4768bd0>\n"
          ]
        }
      ],
      "source": [
        "g_e1.display()"
      ]
    },
    {
      "cell_type": "code",
      "execution_count": null,
      "metadata": {
        "id": "DLCwM5yRJ_ux"
      },
      "outputs": [],
      "source": [
        "class guvi(emp): # guvi is a child class, it's derives from emp class\n",
        "  def display(self):\n",
        "    self.id=\"G\"+str(self.id)\n",
        "    print(\"ID\",self.id,\"\\nName\", self.name,\"\\nAge\", self.age, \"\\n\",self)\n",
        "  def updatename(self):\n",
        "    x=input(\"Enter the new name\")\n",
        "    self.name=x"
      ]
    },
    {
      "cell_type": "code",
      "execution_count": null,
      "metadata": {
        "id": "ma6k0TUjLa1X"
      },
      "outputs": [],
      "source": [
        "g_e2=guvi(85,\"Yusuf\",23)"
      ]
    },
    {
      "cell_type": "code",
      "execution_count": null,
      "metadata": {
        "colab": {
          "base_uri": "https://localhost:8080/"
        },
        "id": "3Cm_9-8VLl5a",
        "outputId": "002e0849-2c9f-42ae-a2ef-cde092595818"
      },
      "outputs": [
        {
          "name": "stdout",
          "output_type": "stream",
          "text": [
            "ID G85 \n",
            "Name Yusuf \n",
            "Age 23 \n",
            " <__main__.guvi object at 0x7fbbe4709050>\n"
          ]
        }
      ],
      "source": [
        "g_e2.display()"
      ]
    },
    {
      "cell_type": "code",
      "execution_count": null,
      "metadata": {
        "colab": {
          "base_uri": "https://localhost:8080/"
        },
        "id": "XiARbsJqLuz6",
        "outputId": "fdf66871-9ad2-49ea-d98c-08ab9b811eca"
      },
      "outputs": [
        {
          "name": "stdout",
          "output_type": "stream",
          "text": [
            "Enter the new nameASHOK\n"
          ]
        }
      ],
      "source": [
        "g_e2.updatename()"
      ]
    },
    {
      "cell_type": "code",
      "execution_count": null,
      "metadata": {
        "colab": {
          "base_uri": "https://localhost:8080/"
        },
        "id": "UiA0qTUlM5QM",
        "outputId": "195a9c67-7cd7-4c24-d546-b26319ba8ea6"
      },
      "outputs": [
        {
          "name": "stdout",
          "output_type": "stream",
          "text": [
            "ID GG85 \n",
            "Name ASHOK \n",
            "Age 23 \n",
            " <__main__.guvi object at 0x7fbbe4709050>\n"
          ]
        }
      ],
      "source": [
        "g_e2.display()"
      ]
    },
    {
      "cell_type": "code",
      "execution_count": null,
      "metadata": {
        "id": "SdvAD9vwNCsj"
      },
      "outputs": [],
      "source": [
        "class node: #S2  -> Enters\n",
        "  def __init__(self,data): #S3 -> Self = N1.Headvalue, data = aaj\n",
        "    self.Datavalue=data #S4  -> N1.Headvalue.Datavalue = aaj\n",
        "    self.Nextvalue=None #S5 -> N1.Headvalue.Nextvalue = None\n",
        "class linkedlist:\n",
        "  def __init__(self):\n",
        "    self.Headvalue=None\n"
      ]
    },
    {
      "cell_type": "code",
      "execution_count": null,
      "metadata": {
        "id": "7xzDdTzBYkte"
      },
      "outputs": [],
      "source": [
        "N1=linkedlist()"
      ]
    },
    {
      "cell_type": "code",
      "execution_count": null,
      "metadata": {
        "colab": {
          "base_uri": "https://localhost:8080/"
        },
        "id": "iko2jF7HY38R",
        "outputId": "cf3511b4-ea7e-4b81-bd23-c038639874bd"
      },
      "outputs": [
        {
          "data": {
            "text/plain": [
              "(<__main__.linkedlist at 0x7fbbe4755710>, None)"
            ]
          },
          "execution_count": 44,
          "metadata": {},
          "output_type": "execute_result"
        }
      ],
      "source": [
        "N1,N1.Headvalue"
      ]
    },
    {
      "cell_type": "code",
      "execution_count": null,
      "metadata": {
        "id": "5LQ0SxCPY90p"
      },
      "outputs": [],
      "source": [
        "N1.Headvalue = node(\"aaj\") #S1 -> it creates an obj N1.Headvalue | # S6 => Successfully created"
      ]
    },
    {
      "cell_type": "code",
      "execution_count": null,
      "metadata": {
        "colab": {
          "base_uri": "https://localhost:8080/"
        },
        "id": "_1yVp5uMZPwT",
        "outputId": "0113a542-9a26-4426-8ff1-416d951da3cc"
      },
      "outputs": [
        {
          "data": {
            "text/plain": [
              "<__main__.node at 0x7fbbe4755b50>"
            ]
          },
          "execution_count": 46,
          "metadata": {},
          "output_type": "execute_result"
        }
      ],
      "source": [
        "N1.Headvalue"
      ]
    },
    {
      "cell_type": "code",
      "execution_count": null,
      "metadata": {
        "colab": {
          "base_uri": "https://localhost:8080/",
          "height": 36
        },
        "id": "ahQoaPaBZWaZ",
        "outputId": "00069629-3311-4132-df30-18540fc1b0af"
      },
      "outputs": [
        {
          "data": {
            "application/vnd.google.colaboratory.intrinsic+json": {
              "type": "string"
            },
            "text/plain": [
              "'aaj'"
            ]
          },
          "execution_count": 47,
          "metadata": {},
          "output_type": "execute_result"
        }
      ],
      "source": [
        "N1.Headvalue.Datavalue"
      ]
    },
    {
      "cell_type": "markdown",
      "metadata": {
        "id": "b5XtVHuHeeZb"
      },
      "source": [
        "# **27 NOV 2022**"
      ]
    },
    {
      "cell_type": "code",
      "execution_count": null,
      "metadata": {
        "id": "AJv1kYO8ejfY"
      },
      "outputs": [],
      "source": []
    },
    {
      "cell_type": "code",
      "execution_count": null,
      "metadata": {
        "id": "Cu0jEBQuQZUM"
      },
      "outputs": [],
      "source": []
    },
    {
      "cell_type": "code",
      "execution_count": null,
      "metadata": {
        "id": "NIhgK-taQaOB"
      },
      "outputs": [],
      "source": [
        "class node:\n",
        "  def __init__(self,data): \n",
        "    self.Datavalue=data \n",
        "    self.Nextvalue=None \n",
        "class linkedlist:\n",
        "  def __init__(self):\n",
        "    self.Headvalue=None\n"
      ]
    },
    {
      "cell_type": "code",
      "execution_count": null,
      "metadata": {
        "id": "whx4PPrZQqMb"
      },
      "outputs": [],
      "source": [
        "N1=linkedlist()\n"
      ]
    },
    {
      "cell_type": "code",
      "execution_count": null,
      "metadata": {
        "colab": {
          "base_uri": "https://localhost:8080/"
        },
        "id": "QQ5rE2-HROeO",
        "outputId": "c60a22a5-5b4e-4a9f-a70a-c8054f069538"
      },
      "outputs": [
        {
          "data": {
            "text/plain": [
              "(<__main__.linkedlist at 0x7f4d68cc7a90>, None)"
            ]
          },
          "execution_count": 4,
          "metadata": {},
          "output_type": "execute_result"
        }
      ],
      "source": [
        "N1,N1.Headvalue\n"
      ]
    },
    {
      "cell_type": "code",
      "execution_count": null,
      "metadata": {
        "id": "XhyXG5e9RaSu"
      },
      "outputs": [],
      "source": [
        "N1.Headvalue=node(\"aaj\")"
      ]
    },
    {
      "cell_type": "code",
      "execution_count": null,
      "metadata": {
        "colab": {
          "base_uri": "https://localhost:8080/"
        },
        "id": "As5A0u_ARvDP",
        "outputId": "f1141e61-481f-4208-8822-790e8ddf3901"
      },
      "outputs": [
        {
          "data": {
            "text/plain": [
              "('aaj', <__main__.node at 0x7f4d69757f10>)"
            ]
          },
          "execution_count": 7,
          "metadata": {},
          "output_type": "execute_result"
        }
      ],
      "source": [
        "N1.Headvalue.Datavalue,N1.Headvalue"
      ]
    },
    {
      "cell_type": "code",
      "execution_count": null,
      "metadata": {
        "id": "coLAy0sYS5ZX"
      },
      "outputs": [],
      "source": [
        "N2=node(\"mahesh\")\n",
        "N3=node(\"yusuf\")\n",
        "N4=node(\"madhan\")\n"
      ]
    },
    {
      "cell_type": "code",
      "execution_count": null,
      "metadata": {
        "id": "8lb7yDpKTJrF"
      },
      "outputs": [],
      "source": [
        "N1.Headvalue.Nextvalue=N2\n",
        "N2.Nextvalue=N3\n",
        "N3.Nextvalue=N4"
      ]
    },
    {
      "cell_type": "code",
      "execution_count": null,
      "metadata": {
        "colab": {
          "base_uri": "https://localhost:8080/",
          "height": 36
        },
        "id": "07IcTzVZTwMN",
        "outputId": "b6166143-eae9-4841-c119-f57167637ae0"
      },
      "outputs": [
        {
          "data": {
            "application/vnd.google.colaboratory.intrinsic+json": {
              "type": "string"
            },
            "text/plain": [
              "'yusuf'"
            ]
          },
          "execution_count": 12,
          "metadata": {},
          "output_type": "execute_result"
        }
      ],
      "source": [
        "N1.Headvalue.Nextvalue.Nextvalue.Datavalue"
      ]
    },
    {
      "cell_type": "code",
      "execution_count": null,
      "metadata": {
        "colab": {
          "base_uri": "https://localhost:8080/"
        },
        "id": "QIZkv8TyUFVV",
        "outputId": "7d49c5c6-4633-4b43-c45f-0dbfe5feed99"
      },
      "outputs": [
        {
          "data": {
            "text/plain": [
              "<__main__.node at 0x7f4d68d00cd0>"
            ]
          },
          "execution_count": 11,
          "metadata": {},
          "output_type": "execute_result"
        }
      ],
      "source": [
        "N3"
      ]
    },
    {
      "cell_type": "code",
      "execution_count": null,
      "metadata": {
        "id": "B1y8eB3zUfPg"
      },
      "outputs": [],
      "source": [
        "class node:\n",
        "  def __init__(self,data): \n",
        "    self.Datavalue=data \n",
        "    self.Nextvalue=None \n",
        "class linkedlist:\n",
        "  def __init__(self):\n",
        "    self.Headvalue=None\n",
        "  def display(self): #2 self= N1\n",
        "    temp=self.Headvalue #3 creating temp, temp=N1.Headvalue=>object\n",
        "    while temp is not None: #4 #7 #10 #13 #16 \n",
        "      print(temp.Datavalue) #5 #8 #11 #14 \n",
        "      temp=temp.Nextvalue #6 #9 #12 #15\n",
        "#4 it checks temp is none ,enters\n",
        "#5 prints N1.Headvalue.Datavalue=> aaj\n",
        "#6 modifies temp =temp.Nextvalue=> N1.Headvalue.Nextvalue=>N2=>object\n",
        "#7 it checks temp is none ,enters\n",
        "#8 prints N1.Headvalue.Nextvalue.Datavalue=>N2.Datavalue=> mahesh\n",
        "#9 modifies temp =temp.Nextvalue=> N1.Headvalue.Nextvalue.Nextvalue=>N2.Nextvalue=>N3=>object\n",
        "#10 it checks temp is none ,enters\n",
        "#11 prints N1.Headvalue.Nextvalue.Nextvalue.Datavalue=>N2.Nextvalue.Datavalue=>N3.Datavalue => yusuf\n",
        "#12 modifies temp =temp.Nextvalue=> N1.Headvalue.Nextvalue.Nextvalue.Nextvalue=>N2.Nextvalue.Nextvalue=>N3.Nextvalue=>N4=>object\n",
        "#13 it checks temp is none ,enters\n",
        "#14 prints N1.Headvalue.Nextvalue.Nextvalue.Nextvalue.Datavalue=>N2.Nextvalue.Nextvalue.Datavalue=>N3.Nextvalue.Datavalue => N4.datavue=>madhan\n",
        "#15 modifies temp =temp.Nextvalue=> N1.Headvalue.Nextvalue.Nextvalue.Nextvalue.Nextvalue=>N2.Nextvalue.Nextvalue.Nextvalue=>N3.Nextvalue.Nextvalue=>N4.Nextvalue=>None\n",
        "#16 it checks temp is none false (breaks)\n",
        "\n",
        "N1=linkedlist()\n",
        "N1.Headvalue=node(\"aaj\")\n",
        "N2=node(\"mahesh\")\n",
        "N3=node(\"yusuf\")\n",
        "N4=node(\"madhan\")\n",
        "\n",
        "N1.Headvalue.Nextvalue=N2\n",
        "N2.Nextvalue=N3\n",
        "N3.Nextvalue=N4\n",
        "\n"
      ]
    },
    {
      "cell_type": "code",
      "execution_count": null,
      "metadata": {
        "colab": {
          "base_uri": "https://localhost:8080/"
        },
        "id": "9C75luzmWDj3",
        "outputId": "9dd42fc2-b1b8-40a7-cf6b-86e8509deb19"
      },
      "outputs": [
        {
          "name": "stdout",
          "output_type": "stream",
          "text": [
            "aaj\n",
            "mahesh\n",
            "yusuf\n",
            "madhan\n"
          ]
        }
      ],
      "source": [
        "N1.display() #1 #17 success"
      ]
    },
    {
      "cell_type": "code",
      "execution_count": null,
      "metadata": {
        "id": "nTONNP0AdjN8"
      },
      "outputs": [],
      "source": [
        "class node: #4 enters\n",
        "  def __init__(self,data): #5 self = tempnode,data = \"indhu\"\n",
        "    self.Datavalue=data #6 creates property tempnode.Datavalue=\"indhu\"\n",
        "    self.Nextvalue=None #7 tempnode.Nextvalue=None\n",
        "class linkedlist:\n",
        "  def __init__(self): \n",
        "    self.Headvalue=None\n",
        "  def display(self):\n",
        "    temp=self.Headvalue \n",
        "    while temp is not None: \n",
        "      print(temp.Datavalue)  \n",
        "      temp=temp.Nextvalue\n",
        "  def inbetween(self,middlenode,newdata): #2 self=N1,middlenode=N1.Headvalue.Nextvalue.Nextvalue=>N3,newdata=\"indhu\"\n",
        "    tempnode=node(newdata) #3 creates a new object tempnode from node class #8 success\n",
        "    tempnode.Nextvalue=middlenode.Nextvalue #9 modifies tempnode.Nextvalue=middlenode.Nextvalue=N1.Headvalue.Nextvalue.Nextvalue.Nextvalue=>N4\n",
        "    middlenode.Nextvalue=tempnode #10 N1.Headvalue.Nextvalue.Nextvalue.Nextvalue=>N3.Nextvalue=>tempnode\n",
        "\n",
        "\n",
        "N1=linkedlist()\n",
        "N1.Headvalue=node(\"aaj\")\n",
        "N2=node(\"mahesh\")\n",
        "N3=node(\"yusuf\")\n",
        "N4=node(\"madhan\")\n",
        "\n",
        "\n",
        "N1.Headvalue.Nextvalue=N2\n",
        "N2.Nextvalue=N3\n",
        "N3.Nextvalue=N4\n"
      ]
    },
    {
      "cell_type": "code",
      "execution_count": null,
      "metadata": {
        "colab": {
          "base_uri": "https://localhost:8080/"
        },
        "id": "3ANOQZaLdzjB",
        "outputId": "04931086-e44d-4a90-bd2b-8437b83f70de"
      },
      "outputs": [
        {
          "name": "stdout",
          "output_type": "stream",
          "text": [
            "**************************Before insert*****************************\n",
            "aaj\n",
            "mahesh\n",
            "yusuf\n",
            "indhu\n",
            "madhan\n",
            "**************************After  insert*****************************\n",
            "aaj\n",
            "mahesh\n",
            "yusuf\n",
            "indhu\n",
            "indhu\n",
            "madhan\n"
          ]
        }
      ],
      "source": [
        "print(\"**************************Before insert*****************************\")\n",
        "N1.display()\n",
        "print(\"**************************After  insert*****************************\")\n",
        "N1.inbetween(N1.Headvalue.Nextvalue.Nextvalue,\"indhu\") #1 #11 success\n",
        "N1.display()"
      ]
    },
    {
      "cell_type": "code",
      "execution_count": null,
      "metadata": {
        "colab": {
          "base_uri": "https://localhost:8080/"
        },
        "id": "NTUR473GdjCS",
        "outputId": "bcc1cabe-24d0-4757-ebfa-315328622e8b"
      },
      "outputs": [
        {
          "name": "stdout",
          "output_type": "stream",
          "text": [
            "madhan\n",
            "m,a,d,h,a,n\n",
            "m*a*d*h*a*n\n"
          ]
        }
      ],
      "source": [
        "str=input()\n",
        "\n",
        "print(\",\".join(str))\n",
        "print(\"*\".join(str))\n"
      ]
    },
    {
      "cell_type": "code",
      "execution_count": null,
      "metadata": {
        "colab": {
          "base_uri": "https://localhost:8080/"
        },
        "id": "tKDYexOJll_P",
        "outputId": "80a6df23-fa03-46f3-f090-60f042faafde"
      },
      "outputs": [
        {
          "data": {
            "text/plain": [
              "['__add__',\n",
              " '__class__',\n",
              " '__contains__',\n",
              " '__delattr__',\n",
              " '__dir__',\n",
              " '__doc__',\n",
              " '__eq__',\n",
              " '__format__',\n",
              " '__ge__',\n",
              " '__getattribute__',\n",
              " '__getitem__',\n",
              " '__getnewargs__',\n",
              " '__gt__',\n",
              " '__hash__',\n",
              " '__init__',\n",
              " '__init_subclass__',\n",
              " '__iter__',\n",
              " '__le__',\n",
              " '__len__',\n",
              " '__lt__',\n",
              " '__mod__',\n",
              " '__mul__',\n",
              " '__ne__',\n",
              " '__new__',\n",
              " '__reduce__',\n",
              " '__reduce_ex__',\n",
              " '__repr__',\n",
              " '__rmod__',\n",
              " '__rmul__',\n",
              " '__setattr__',\n",
              " '__sizeof__',\n",
              " '__str__',\n",
              " '__subclasshook__',\n",
              " 'capitalize',\n",
              " 'casefold',\n",
              " 'center',\n",
              " 'count',\n",
              " 'encode',\n",
              " 'endswith',\n",
              " 'expandtabs',\n",
              " 'find',\n",
              " 'format',\n",
              " 'format_map',\n",
              " 'index',\n",
              " 'isalnum',\n",
              " 'isalpha',\n",
              " 'isascii',\n",
              " 'isdecimal',\n",
              " 'isdigit',\n",
              " 'isidentifier',\n",
              " 'islower',\n",
              " 'isnumeric',\n",
              " 'isprintable',\n",
              " 'isspace',\n",
              " 'istitle',\n",
              " 'isupper',\n",
              " 'join',\n",
              " 'ljust',\n",
              " 'lower',\n",
              " 'lstrip',\n",
              " 'maketrans',\n",
              " 'partition',\n",
              " 'replace',\n",
              " 'rfind',\n",
              " 'rindex',\n",
              " 'rjust',\n",
              " 'rpartition',\n",
              " 'rsplit',\n",
              " 'rstrip',\n",
              " 'split',\n",
              " 'splitlines',\n",
              " 'startswith',\n",
              " 'strip',\n",
              " 'swapcase',\n",
              " 'title',\n",
              " 'translate',\n",
              " 'upper',\n",
              " 'zfill']"
            ]
          },
          "execution_count": 28,
          "metadata": {},
          "output_type": "execute_result"
        }
      ],
      "source": [
        "dir(str)"
      ]
    },
    {
      "cell_type": "code",
      "execution_count": null,
      "metadata": {
        "colab": {
          "base_uri": "https://localhost:8080/"
        },
        "id": "__SGaF72h73j",
        "outputId": "82d536f3-fd80-4019-faa5-3bed9ad9662c"
      },
      "outputs": [
        {
          "name": "stdout",
          "output_type": "stream",
          "text": [
            "Enter first number: 3\n",
            "Enter second number: 5\n",
            "8\n"
          ]
        }
      ],
      "source": [
        "def solveMeFirst(a,b):\n",
        "\n",
        "   return a+b\n",
        "\n",
        "num1 = int(input(\"Enter first number: \"))\n",
        "num2 = int(input(\"Enter second number: \"))\n",
        "res = solveMeFirst(num1,num2)\n",
        "print(res)\n"
      ]
    },
    {
      "cell_type": "code",
      "execution_count": null,
      "metadata": {
        "colab": {
          "background_save": true
        },
        "id": "i7nD3MK5idvD"
      },
      "outputs": [],
      "source": [
        "def totalgain():\n",
        "  "
      ]
    },
    {
      "cell_type": "markdown",
      "source": [
        "# **03 DEC 2022**"
      ],
      "metadata": {
        "id": "lkSwAGEWHLvd"
      }
    },
    {
      "cell_type": "code",
      "source": [
        "class node: #4 enters\n",
        "  def __init__(self,data): #5 self = tempnode , data = newdata => Rabin \n",
        "    self.Datavalue=data #6 creates prop, tempnode.Datavalue = Rabin\n",
        "    self.Nextvalue=None #7 creates prop,tempnode.Nextvalue = None\n",
        "class linkedlist:\n",
        "  def __init__(self): \n",
        "    self.Headvalue=None\n",
        "  def display(self):\n",
        "    temp=self.Headvalue \n",
        "    while temp is not None: \n",
        "      print(temp.Datavalue)  \n",
        "      temp=temp.Nextvalue\n",
        "  def inbetween(self,middlenode,newdata): \n",
        "    tempnode=node(newdata) \n",
        "    tempnode.Nextvalue=middlenode.Nextvalue\n",
        "    middlenode.Nextvalue=tempnode \n",
        "  def beg(self,newdata): #2 self => (N1), Newdata = \"Rabin\" \n",
        "    tempnode = node(newdata) #3 It creates tempnode based on the class node, | #8 successfully tempnode is create \n",
        "    tempnode.Nextvalue = self.Headvalue #9 tempnode.Nextvalue = N1.Headvalue\n",
        "    self.Headvalue = tempnode #10 N1.Headvalue = tempnode\n",
        "\n",
        "\n",
        "N1=linkedlist()\n",
        "N1.Headvalue=node(\"aaj\")\n",
        "N2=node(\"mahesh\")\n",
        "N3=node(\"yusuf\")\n",
        "N4=node(\"madhan\")\n",
        "\n",
        "\n",
        "N1.Headvalue.Nextvalue=N2\n",
        "N2.Nextvalue=N3\n",
        "N3.Nextvalue=N4\n"
      ],
      "metadata": {
        "id": "ASVi6P1fHVQa"
      },
      "execution_count": null,
      "outputs": []
    },
    {
      "cell_type": "code",
      "source": [
        "print(\"**************************Before insert*****************************\")\n",
        "N1.display()\n",
        "print(\"**************************After  insert*****************************\")\n",
        "N1.inbetween(N1.Headvalue.Nextvalue.Nextvalue,\"indhu\") \n",
        "N1.display()\n",
        "print(\"**************************After insert beg*****************************\")\n",
        "N1.beg(\"Rabin\") #1 | # 11 Sucess\n",
        "N1.display()"
      ],
      "metadata": {
        "colab": {
          "base_uri": "https://localhost:8080/"
        },
        "id": "8bWkt8hcIE49",
        "outputId": "f8d16178-9791-4a1e-d71c-07d30f7c8839"
      },
      "execution_count": null,
      "outputs": [
        {
          "output_type": "stream",
          "name": "stdout",
          "text": [
            "**************************Before insert*****************************\n",
            "aaj\n",
            "mahesh\n",
            "yusuf\n",
            "madhan\n",
            "**************************After  insert*****************************\n",
            "aaj\n",
            "mahesh\n",
            "yusuf\n",
            "indhu\n",
            "madhan\n",
            "**************************After insert beg*****************************\n",
            "Rabin\n",
            "aaj\n",
            "mahesh\n",
            "yusuf\n",
            "indhu\n",
            "madhan\n"
          ]
        }
      ]
    },
    {
      "cell_type": "code",
      "source": [
        "N1"
      ],
      "metadata": {
        "colab": {
          "base_uri": "https://localhost:8080/"
        },
        "id": "LAVuvTt1Iuyr",
        "outputId": "b40ad771-1bd5-46db-93b7-6771e5f54e00"
      },
      "execution_count": null,
      "outputs": [
        {
          "output_type": "execute_result",
          "data": {
            "text/plain": [
              "<__main__.linkedlist at 0x7fe858ce7130>"
            ]
          },
          "metadata": {},
          "execution_count": 5
        }
      ]
    },
    {
      "cell_type": "code",
      "source": [
        "N1.Headvalue.Nextvalue"
      ],
      "metadata": {
        "colab": {
          "base_uri": "https://localhost:8080/"
        },
        "id": "o5BjY5vOPRov",
        "outputId": "aa141733-50af-4965-ebd0-7d9446e72b43"
      },
      "execution_count": null,
      "outputs": [
        {
          "output_type": "execute_result",
          "data": {
            "text/plain": [
              "<__main__.node at 0x7fe858ce7e50>"
            ]
          },
          "metadata": {},
          "execution_count": 7
        }
      ]
    },
    {
      "cell_type": "code",
      "source": [
        "class node: \n",
        "  def __init__(self,data): \n",
        "    self.Datavalue=data \n",
        "    self.Nextvalue=None \n",
        "class linkedlist:\n",
        "  def __init__(self): \n",
        "    self.Headvalue=None\n",
        "  def display(self):\n",
        "    temp=self.Headvalue \n",
        "    while temp is not None: \n",
        "      print(temp.Datavalue)  \n",
        "      temp=temp.Nextvalue\n",
        "  def inbetween(self,middlenode,newdata): \n",
        "    tempnode=node(newdata) \n",
        "    tempnode.Nextvalue=middlenode.Nextvalue\n",
        "    middlenode.Nextvalue=tempnode \n",
        "  def beg(self,newdata):\n",
        "    tempnode = node(newdata) \n",
        "    tempnode.Nextvalue = self.Headvalue \n",
        "    self.Headvalue = tempnode \n",
        "  def remove(self,removevalue):\n",
        "    tempvalue = self.Headvalue\n",
        "    while tempvalue is not None:\n",
        "      if tempvalue.Datavalue == removevalue: \n",
        "        break\n",
        "      previousnode = tempvalue\n",
        "      tempvalue = tempvalue.Nextvalue\n",
        "    if (tempvalue==None): # aaj remove (why?)\n",
        "      print(\"No such Data\")\n",
        "      return\n",
        "    previousnode.Nextvalue = tempvalue.Nextvalue\n",
        "\n",
        "\n",
        "N1=linkedlist()\n",
        "N1.Headvalue=node(\"aaj\")\n",
        "N2=node(\"mahesh\")\n",
        "N3=node(\"yusuf\")\n",
        "N4=node(\"madhan\")\n",
        "\n",
        "\n",
        "N1.Headvalue.Nextvalue=N2\n",
        "N2.Nextvalue=N3\n",
        "N3.Nextvalue=N4\n"
      ],
      "metadata": {
        "id": "ceexyMkjPhu7"
      },
      "execution_count": null,
      "outputs": []
    },
    {
      "cell_type": "code",
      "source": [
        "print(\"**************************Before insert*****************************\")\n",
        "N1.display()\n",
        "print(\"**************************After  insert*****************************\")\n",
        "N1.inbetween(N1.Headvalue.Nextvalue.Nextvalue,\"indhu\") \n",
        "N1.display()\n",
        "print(\"**************************After insert beg*****************************\")\n",
        "N1.beg(\"Rabin\") \n",
        "N1.display()\n",
        "print(\"**************************After del Yusuf*****************************\")\n",
        "N1.remove(\"Rabin\")\n",
        "N1.display()"
      ],
      "metadata": {
        "colab": {
          "base_uri": "https://localhost:8080/",
          "height": 669
        },
        "id": "Befv98ifPqW6",
        "outputId": "ac94e840-c5f1-4bc3-d19f-f0faca065be1"
      },
      "execution_count": null,
      "outputs": [
        {
          "output_type": "stream",
          "name": "stdout",
          "text": [
            "**************************Before insert*****************************\n",
            "aaj\n",
            "mahesh\n",
            "yusuf\n",
            "madhan\n",
            "**************************After  insert*****************************\n",
            "aaj\n",
            "mahesh\n",
            "yusuf\n",
            "indhu\n",
            "madhan\n",
            "**************************After insert beg*****************************\n",
            "Rabin\n",
            "aaj\n",
            "mahesh\n",
            "yusuf\n",
            "indhu\n",
            "madhan\n",
            "**************************After del Yusuf*****************************\n"
          ]
        },
        {
          "output_type": "error",
          "ename": "UnboundLocalError",
          "evalue": "ignored",
          "traceback": [
            "\u001b[0;31m---------------------------------------------------------------------------\u001b[0m",
            "\u001b[0;31mUnboundLocalError\u001b[0m                         Traceback (most recent call last)",
            "\u001b[0;32m<ipython-input-20-579246982b07>\u001b[0m in \u001b[0;36m<module>\u001b[0;34m\u001b[0m\n\u001b[1;32m      8\u001b[0m \u001b[0mN1\u001b[0m\u001b[0;34m.\u001b[0m\u001b[0mdisplay\u001b[0m\u001b[0;34m(\u001b[0m\u001b[0;34m)\u001b[0m\u001b[0;34m\u001b[0m\u001b[0;34m\u001b[0m\u001b[0m\n\u001b[1;32m      9\u001b[0m \u001b[0mprint\u001b[0m\u001b[0;34m(\u001b[0m\u001b[0;34m\"**************************After del Yusuf*****************************\"\u001b[0m\u001b[0;34m)\u001b[0m\u001b[0;34m\u001b[0m\u001b[0;34m\u001b[0m\u001b[0m\n\u001b[0;32m---> 10\u001b[0;31m \u001b[0mN1\u001b[0m\u001b[0;34m.\u001b[0m\u001b[0mremove\u001b[0m\u001b[0;34m(\u001b[0m\u001b[0;34m\"Rabin\"\u001b[0m\u001b[0;34m)\u001b[0m\u001b[0;34m\u001b[0m\u001b[0;34m\u001b[0m\u001b[0m\n\u001b[0m\u001b[1;32m     11\u001b[0m \u001b[0mN1\u001b[0m\u001b[0;34m.\u001b[0m\u001b[0mdisplay\u001b[0m\u001b[0;34m(\u001b[0m\u001b[0;34m)\u001b[0m\u001b[0;34m\u001b[0m\u001b[0;34m\u001b[0m\u001b[0m\n",
            "\u001b[0;32m<ipython-input-19-c0d91e11eb2f>\u001b[0m in \u001b[0;36mremove\u001b[0;34m(self, removevalue)\u001b[0m\n\u001b[1;32m     29\u001b[0m       \u001b[0mprint\u001b[0m\u001b[0;34m(\u001b[0m\u001b[0;34m\"No such Data\"\u001b[0m\u001b[0;34m)\u001b[0m\u001b[0;34m\u001b[0m\u001b[0;34m\u001b[0m\u001b[0m\n\u001b[1;32m     30\u001b[0m       \u001b[0;32mreturn\u001b[0m\u001b[0;34m\u001b[0m\u001b[0;34m\u001b[0m\u001b[0m\n\u001b[0;32m---> 31\u001b[0;31m     \u001b[0mpreviousnode\u001b[0m\u001b[0;34m.\u001b[0m\u001b[0mNextvalue\u001b[0m \u001b[0;34m=\u001b[0m \u001b[0mtempvalue\u001b[0m\u001b[0;34m.\u001b[0m\u001b[0mNextvalue\u001b[0m\u001b[0;34m\u001b[0m\u001b[0;34m\u001b[0m\u001b[0m\n\u001b[0m\u001b[1;32m     32\u001b[0m \u001b[0;34m\u001b[0m\u001b[0m\n\u001b[1;32m     33\u001b[0m \u001b[0;34m\u001b[0m\u001b[0m\n",
            "\u001b[0;31mUnboundLocalError\u001b[0m: local variable 'previousnode' referenced before assignment"
          ]
        }
      ]
    },
    {
      "cell_type": "code",
      "source": [],
      "metadata": {
        "id": "tifTCEFgUSfl"
      },
      "execution_count": null,
      "outputs": []
    },
    {
      "cell_type": "markdown",
      "source": [
        "# **04 DEC 2022**"
      ],
      "metadata": {
        "id": "fo9MJRZwKRYi"
      }
    },
    {
      "cell_type": "code",
      "source": [],
      "metadata": {
        "id": "7DRoUD5Dc78b"
      },
      "execution_count": null,
      "outputs": []
    },
    {
      "cell_type": "code",
      "source": [
        "#1 CLASS FOR LIB\n",
        "#1 CLASS FOR CUST\n",
        "# LIB CLASS -> BOOKS AVAILABILITY, | LENDING A BOOK, | ADDING A BOOK\n",
        "# CUST CLASS -> REQ BOOK | RETURN BOOK\n"
      ],
      "metadata": {
        "id": "ig5VuKShOfS1"
      },
      "execution_count": null,
      "outputs": []
    },
    {
      "cell_type": "code",
      "source": [
        "class library:\n",
        "  def __init__(self,data):\n",
        "    self.bookList = data\n",
        "  def showBooks(self): #6\n",
        "    for i in self.bookList: #7 \n",
        "      print(i) #8 [Step 7,8 runs until loop finished]\n",
        "  def lendBook(self,bookName): #A10 [self => Lib_A]|[bookName  => gets from requestedBook]\n",
        "    if bookName in self.bookList:#A11 [we are verifying, above mentioned book is available]\n",
        "      self.bookList.remove(bookName) #A12 [removing the bookName from bookList]\n",
        "      print(\"Thank you, your req is fulfilled\") #A13\n",
        "    else:\n",
        "      print(\"Book is not available\")\n",
        "\n",
        "  \n",
        "\n",
        "class customer:\n",
        "  def reqBook(self): #A3 [ enters into reqbook fn] | [Here, self =>  customer_Mathi]\n",
        "    print(\"Enter the book name\") #A4\n",
        "    self.book = input() #A5 [ create self.book => customer_Mathi.book(this is property of  customer_Mathi)] | [It gets input from the user]\n",
        "    return self.book #A6 [return book name]\n",
        "  "
      ],
      "metadata": {
        "id": "4WPN4_TiO0r1"
      },
      "execution_count": null,
      "outputs": []
    },
    {
      "cell_type": "code",
      "source": [
        " # our perspective lib is our cust\n",
        "lib_A = library([\"b1\",\"b2\",\"b3\",\"b4\",\"b5\",\"b6\",\"b7\",\"b4\",\"b4\",\"b7\"]) # PREDEFINED STEPS\n",
        "customer_Mathi = customer()"
      ],
      "metadata": {
        "id": "MavnFP9lP5IF"
      },
      "execution_count": null,
      "outputs": []
    },
    {
      "cell_type": "code",
      "source": [
        "while True:\n",
        "  print(\"select the options from below\") #1 \n",
        "  print(\"\\n1-show list of books\\n2-lend a book\\n3-return a book\") #2 | \n",
        "  option = int(input()) #3 \n",
        "  if option ==1: #4\n",
        "    lib_A.showBooks() #5\n",
        "  elif option ==2: #A1 \n",
        "    requestedBook = customer_Mathi.reqBook() #A2 [creating a variable called requestedBook which will access from customer class  that will run req book] | #A7 [book name is  stored in requestedBook]\n",
        "    lib_A.lendBook(requestedBook) #A8 [it calls lendBook from lib class based on requestedBook]\n",
        "  "
      ],
      "metadata": {
        "colab": {
          "base_uri": "https://localhost:8080/",
          "height": 1000
        },
        "id": "JmKrWptQRLjt",
        "outputId": "f8fb66e8-752d-4943-b57d-3cecf967064c"
      },
      "execution_count": null,
      "outputs": [
        {
          "output_type": "stream",
          "name": "stdout",
          "text": [
            "select the options from below\n",
            "\n",
            "1-show list of books\n",
            "2-lend a book\n",
            "3-return a book\n",
            "1\n",
            "b1\n",
            "b2\n",
            "b3\n",
            "b4\n",
            "b5\n",
            "b6\n",
            "b7\n",
            "b4\n",
            "b4\n",
            "b7\n",
            "select the options from below\n",
            "\n",
            "1-show list of books\n",
            "2-lend a book\n",
            "3-return a book\n",
            "2\n",
            "Enter the book name\n",
            "b4\n",
            "Thank you, your req is fulfilled\n",
            "select the options from below\n",
            "\n",
            "1-show list of books\n",
            "2-lend a book\n",
            "3-return a book\n",
            "1\n",
            "b1\n",
            "b2\n",
            "b3\n",
            "b5\n",
            "b6\n",
            "b7\n",
            "b4\n",
            "b4\n",
            "b7\n",
            "select the options from below\n",
            "\n",
            "1-show list of books\n",
            "2-lend a book\n",
            "3-return a book\n"
          ]
        },
        {
          "output_type": "error",
          "ename": "KeyboardInterrupt",
          "evalue": "ignored",
          "traceback": [
            "\u001b[0;31m---------------------------------------------------------------------------\u001b[0m",
            "\u001b[0;31mKeyboardInterrupt\u001b[0m                         Traceback (most recent call last)",
            "\u001b[0;32m<ipython-input-11-3c4cf019259e>\u001b[0m in \u001b[0;36m<module>\u001b[0;34m\u001b[0m\n\u001b[1;32m      2\u001b[0m   \u001b[0mprint\u001b[0m\u001b[0;34m(\u001b[0m\u001b[0;34m\"select the options from below\"\u001b[0m\u001b[0;34m)\u001b[0m \u001b[0;31m#1\u001b[0m\u001b[0;34m\u001b[0m\u001b[0;34m\u001b[0m\u001b[0m\n\u001b[1;32m      3\u001b[0m   \u001b[0mprint\u001b[0m\u001b[0;34m(\u001b[0m\u001b[0;34m\"\\n1-show list of books\\n2-lend a book\\n3-return a book\"\u001b[0m\u001b[0;34m)\u001b[0m \u001b[0;31m#2 |\u001b[0m\u001b[0;34m\u001b[0m\u001b[0;34m\u001b[0m\u001b[0m\n\u001b[0;32m----> 4\u001b[0;31m   \u001b[0moption\u001b[0m \u001b[0;34m=\u001b[0m \u001b[0mint\u001b[0m\u001b[0;34m(\u001b[0m\u001b[0minput\u001b[0m\u001b[0;34m(\u001b[0m\u001b[0;34m)\u001b[0m\u001b[0;34m)\u001b[0m \u001b[0;31m#3\u001b[0m\u001b[0;34m\u001b[0m\u001b[0;34m\u001b[0m\u001b[0m\n\u001b[0m\u001b[1;32m      5\u001b[0m   \u001b[0;32mif\u001b[0m \u001b[0moption\u001b[0m \u001b[0;34m==\u001b[0m\u001b[0;36m1\u001b[0m\u001b[0;34m:\u001b[0m \u001b[0;31m#4\u001b[0m\u001b[0;34m\u001b[0m\u001b[0;34m\u001b[0m\u001b[0m\n\u001b[1;32m      6\u001b[0m     \u001b[0mlib_A\u001b[0m\u001b[0;34m.\u001b[0m\u001b[0mshowBooks\u001b[0m\u001b[0;34m(\u001b[0m\u001b[0;34m)\u001b[0m \u001b[0;31m#5\u001b[0m\u001b[0;34m\u001b[0m\u001b[0;34m\u001b[0m\u001b[0m\n",
            "\u001b[0;32m/usr/local/lib/python3.8/dist-packages/ipykernel/kernelbase.py\u001b[0m in \u001b[0;36mraw_input\u001b[0;34m(self, prompt)\u001b[0m\n\u001b[1;32m    858\u001b[0m                 \u001b[0;34m\"raw_input was called, but this frontend does not support input requests.\"\u001b[0m\u001b[0;34m\u001b[0m\u001b[0;34m\u001b[0m\u001b[0m\n\u001b[1;32m    859\u001b[0m             )\n\u001b[0;32m--> 860\u001b[0;31m         return self._input_request(str(prompt),\n\u001b[0m\u001b[1;32m    861\u001b[0m             \u001b[0mself\u001b[0m\u001b[0;34m.\u001b[0m\u001b[0m_parent_ident\u001b[0m\u001b[0;34m,\u001b[0m\u001b[0;34m\u001b[0m\u001b[0;34m\u001b[0m\u001b[0m\n\u001b[1;32m    862\u001b[0m             \u001b[0mself\u001b[0m\u001b[0;34m.\u001b[0m\u001b[0m_parent_header\u001b[0m\u001b[0;34m,\u001b[0m\u001b[0;34m\u001b[0m\u001b[0;34m\u001b[0m\u001b[0m\n",
            "\u001b[0;32m/usr/local/lib/python3.8/dist-packages/ipykernel/kernelbase.py\u001b[0m in \u001b[0;36m_input_request\u001b[0;34m(self, prompt, ident, parent, password)\u001b[0m\n\u001b[1;32m    902\u001b[0m             \u001b[0;32mexcept\u001b[0m \u001b[0mKeyboardInterrupt\u001b[0m\u001b[0;34m:\u001b[0m\u001b[0;34m\u001b[0m\u001b[0;34m\u001b[0m\u001b[0m\n\u001b[1;32m    903\u001b[0m                 \u001b[0;31m# re-raise KeyboardInterrupt, to truncate traceback\u001b[0m\u001b[0;34m\u001b[0m\u001b[0;34m\u001b[0m\u001b[0;34m\u001b[0m\u001b[0m\n\u001b[0;32m--> 904\u001b[0;31m                 \u001b[0;32mraise\u001b[0m \u001b[0mKeyboardInterrupt\u001b[0m\u001b[0;34m(\u001b[0m\u001b[0;34m\"Interrupted by user\"\u001b[0m\u001b[0;34m)\u001b[0m \u001b[0;32mfrom\u001b[0m \u001b[0;32mNone\u001b[0m\u001b[0;34m\u001b[0m\u001b[0;34m\u001b[0m\u001b[0m\n\u001b[0m\u001b[1;32m    905\u001b[0m             \u001b[0;32mexcept\u001b[0m \u001b[0mException\u001b[0m \u001b[0;32mas\u001b[0m \u001b[0me\u001b[0m\u001b[0;34m:\u001b[0m\u001b[0;34m\u001b[0m\u001b[0;34m\u001b[0m\u001b[0m\n\u001b[1;32m    906\u001b[0m                 \u001b[0mself\u001b[0m\u001b[0;34m.\u001b[0m\u001b[0mlog\u001b[0m\u001b[0;34m.\u001b[0m\u001b[0mwarning\u001b[0m\u001b[0;34m(\u001b[0m\u001b[0;34m\"Invalid Message:\"\u001b[0m\u001b[0;34m,\u001b[0m \u001b[0mexc_info\u001b[0m\u001b[0;34m=\u001b[0m\u001b[0;32mTrue\u001b[0m\u001b[0;34m)\u001b[0m\u001b[0;34m\u001b[0m\u001b[0;34m\u001b[0m\u001b[0m\n",
            "\u001b[0;31mKeyboardInterrupt\u001b[0m: Interrupted by user"
          ]
        }
      ]
    },
    {
      "cell_type": "code",
      "source": [
        "#Task1:\n",
        "#1. -> tracking that book lended by the customer from the library [book customer kitta kedachathaanu confirm pannanum]\n",
        "#2. -> get the book from customer & add the same to the lib bookList\n",
        "            # return the book which is already borrowed [vaanguna book ah thiruppi kodukkuratha vaangi namma booklist la vaikkanum]"
      ],
      "metadata": {
        "id": "xEAhw9O0l0hy"
      },
      "execution_count": null,
      "outputs": []
    },
    {
      "cell_type": "code",
      "source": [
        "#Task2:\n",
        "# customer hotel ulla vanthu just saapudra vara mattumm program\n",
        "\n",
        "# step 1 write program to defined the menulist in hotel [everything should be predefined]\n",
        "#2 Customer enters to Hotel\n",
        "#3 customer request menu card\n",
        "#4 food availibility shown to the customer - request MenuList(from #1)\n",
        "#------------- #1 & 4 ----------- clarity irunthaa mattum #5 pogalam\n",
        "#5 order food from MenuList\n",
        "#6 requesting Data from customer & updating same to the Hotel\n",
        "#7 internally, Hotel should update data count\n",
        "#------------- #6 & 7 ----------- clarity irunthaa mattum #8 pogalam\n",
        "#8 Hotel requesting the customer for further order\n",
        "#9 Again step 6,7,8 runs until the customer order is completed\n",
        "#------------- #9 ----------- clarity irunthaa mattum #10 pogalam\n",
        "#10 customer ends the order \n",
        "#11 Hotel should calculate data, based on the order.\n",
        "\n"
      ],
      "metadata": {
        "id": "gmNcvbtIhs_y"
      },
      "execution_count": null,
      "outputs": []
    },
    {
      "cell_type": "code",
      "source": [
        "!sudo apt-get update -y\n",
        "!sudo apt-get install python3.10\n"
      ],
      "metadata": {
        "colab": {
          "base_uri": "https://localhost:8080/"
        },
        "id": "Iw48c7I9pL_p",
        "outputId": "4dc2c7f0-3fc0-45cd-c17b-d916b318db77"
      },
      "execution_count": null,
      "outputs": [
        {
          "output_type": "stream",
          "name": "stdout",
          "text": [
            "\r0% [Working]\r            \rGet:1 https://cloud.r-project.org/bin/linux/ubuntu bionic-cran40/ InRelease [3,626 B]\n",
            "\r0% [Connecting to archive.ubuntu.com (91.189.91.38)] [Waiting for headers] [1 I\r0% [Connecting to archive.ubuntu.com (91.189.91.38)] [Waiting for headers] [Wai\r0% [1 InRelease gpgv 3,626 B] [Waiting for headers] [Waiting for headers] [Wait\r                                                                               \rHit:2 http://archive.ubuntu.com/ubuntu bionic InRelease\n",
            "\r0% [1 InRelease gpgv 3,626 B] [Waiting for headers] [Waiting for headers] [Wait\r                                                                               \rGet:3 http://archive.ubuntu.com/ubuntu bionic-updates InRelease [88.7 kB]\n",
            "\r0% [1 InRelease gpgv 3,626 B] [3 InRelease 14.2 kB/88.7 kB 16%] [Waiting for he\r                                                                               \rHit:4 http://ppa.launchpad.net/c2d4u.team/c2d4u4.0+/ubuntu bionic InRelease\n",
            "\r0% [1 InRelease gpgv 3,626 B] [3 InRelease 15.6 kB/88.7 kB 18%] [Waiting for he\r                                                                               \rGet:5 http://security.ubuntu.com/ubuntu bionic-security InRelease [88.7 kB]\n",
            "\r0% [1 InRelease gpgv 3,626 B] [3 InRelease 15.6 kB/88.7 kB 18%] [5 InRelease 14\r                                                                               \rIgn:6 https://developer.download.nvidia.com/compute/machine-learning/repos/ubuntu1804/x86_64  InRelease\n",
            "\r0% [1 InRelease gpgv 3,626 B] [3 InRelease 15.6 kB/88.7 kB 18%] [5 InRelease 14\r                                                                               \rHit:7 https://developer.download.nvidia.com/compute/cuda/repos/ubuntu1804/x86_64  InRelease\n",
            "Hit:8 https://developer.download.nvidia.com/compute/machine-learning/repos/ubuntu1804/x86_64  Release\n",
            "Get:9 http://archive.ubuntu.com/ubuntu bionic-backports InRelease [83.3 kB]\n",
            "Hit:10 http://ppa.launchpad.net/cran/libgit2/ubuntu bionic InRelease\n",
            "Hit:11 http://ppa.launchpad.net/deadsnakes/ppa/ubuntu bionic InRelease\n",
            "Get:12 http://ppa.launchpad.net/graphics-drivers/ppa/ubuntu bionic InRelease [21.3 kB]\n",
            "Get:14 http://archive.ubuntu.com/ubuntu bionic-updates/restricted amd64 Packages [1,348 kB]\n",
            "Get:15 http://archive.ubuntu.com/ubuntu bionic-updates/multiverse amd64 Packages [30.0 kB]\n",
            "Get:16 http://archive.ubuntu.com/ubuntu bionic-updates/main amd64 Packages [3,519 kB]\n",
            "Get:17 http://security.ubuntu.com/ubuntu bionic-security/multiverse amd64 Packages [22.9 kB]\n",
            "Get:18 http://security.ubuntu.com/ubuntu bionic-security/restricted amd64 Packages [1,307 kB]\n",
            "Get:19 http://ppa.launchpad.net/graphics-drivers/ppa/ubuntu bionic/main amd64 Packages [40.8 kB]\n",
            "Fetched 6,552 kB in 2s (3,189 kB/s)\n",
            "Reading package lists... Done\n",
            "Reading package lists... Done\n",
            "Building dependency tree       \n",
            "Reading state information... Done\n",
            "The following package was automatically installed and is no longer required:\n",
            "  libnvidia-common-460\n",
            "Use 'sudo apt autoremove' to remove it.\n",
            "The following additional packages will be installed:\n",
            "  libpython3.10-minimal libpython3.10-stdlib python3.10-minimal\n",
            "Suggested packages:\n",
            "  python3.10-venv binfmt-support\n",
            "The following NEW packages will be installed:\n",
            "  libpython3.10-minimal libpython3.10-stdlib python3.10 python3.10-minimal\n",
            "0 upgraded, 4 newly installed, 0 to remove and 7 not upgraded.\n",
            "Need to get 5,098 kB of archives.\n",
            "After this operation, 19.5 MB of additional disk space will be used.\n",
            "Get:1 http://ppa.launchpad.net/deadsnakes/ppa/ubuntu bionic/main amd64 libpython3.10-minimal amd64 3.10.8-1+bionic1 [823 kB]\n",
            "Get:2 http://ppa.launchpad.net/deadsnakes/ppa/ubuntu bionic/main amd64 python3.10-minimal amd64 3.10.8-1+bionic1 [1,970 kB]\n",
            "Get:3 http://ppa.launchpad.net/deadsnakes/ppa/ubuntu bionic/main amd64 libpython3.10-stdlib amd64 3.10.8-1+bionic1 [1,759 kB]\n",
            "Get:4 http://ppa.launchpad.net/deadsnakes/ppa/ubuntu bionic/main amd64 python3.10 amd64 3.10.8-1+bionic1 [545 kB]\n",
            "Fetched 5,098 kB in 3s (1,738 kB/s)\n",
            "debconf: unable to initialize frontend: Dialog\n",
            "debconf: (No usable dialog-like program is installed, so the dialog based frontend cannot be used. at /usr/share/perl5/Debconf/FrontEnd/Dialog.pm line 76, <> line 4.)\n",
            "debconf: falling back to frontend: Readline\n",
            "debconf: unable to initialize frontend: Readline\n",
            "debconf: (This frontend requires a controlling tty.)\n",
            "debconf: falling back to frontend: Teletype\n",
            "dpkg-preconfigure: unable to re-open stdin: \n",
            "Selecting previously unselected package libpython3.10-minimal:amd64.\n",
            "(Reading database ... 124015 files and directories currently installed.)\n",
            "Preparing to unpack .../libpython3.10-minimal_3.10.8-1+bionic1_amd64.deb ...\n",
            "Unpacking libpython3.10-minimal:amd64 (3.10.8-1+bionic1) ...\n",
            "Selecting previously unselected package python3.10-minimal.\n",
            "Preparing to unpack .../python3.10-minimal_3.10.8-1+bionic1_amd64.deb ...\n",
            "Unpacking python3.10-minimal (3.10.8-1+bionic1) ...\n",
            "Selecting previously unselected package libpython3.10-stdlib:amd64.\n",
            "Preparing to unpack .../libpython3.10-stdlib_3.10.8-1+bionic1_amd64.deb ...\n",
            "Unpacking libpython3.10-stdlib:amd64 (3.10.8-1+bionic1) ...\n",
            "Selecting previously unselected package python3.10.\n",
            "Preparing to unpack .../python3.10_3.10.8-1+bionic1_amd64.deb ...\n",
            "Unpacking python3.10 (3.10.8-1+bionic1) ...\n",
            "Setting up libpython3.10-minimal:amd64 (3.10.8-1+bionic1) ...\n",
            "Setting up libpython3.10-stdlib:amd64 (3.10.8-1+bionic1) ...\n",
            "Setting up python3.10-minimal (3.10.8-1+bionic1) ...\n",
            "Setting up python3.10 (3.10.8-1+bionic1) ...\n",
            "Processing triggers for man-db (2.8.3-2ubuntu0.1) ...\n",
            "Processing triggers for mime-support (3.60ubuntu1) ...\n"
          ]
        }
      ]
    },
    {
      "cell_type": "code",
      "source": [
        "fruit = \"apple\"\n",
        "\n",
        "match fruit:\n",
        "   case 'apple':\n",
        "     print(10)\n",
        "   case 'orange':\n",
        "     print(5)\n",
        "   case 'guava':\n",
        "     print(7)\n",
        "   case 'banana':\n",
        "     print(2)"
      ],
      "metadata": {
        "colab": {
          "base_uri": "https://localhost:8080/",
          "height": 131
        },
        "id": "d0VsEFR_ooFI",
        "outputId": "6ef633f4-ffde-4335-d44a-7158ff420cc4"
      },
      "execution_count": null,
      "outputs": [
        {
          "output_type": "error",
          "ename": "SyntaxError",
          "evalue": "ignored",
          "traceback": [
            "\u001b[0;36m  File \u001b[0;32m\"<ipython-input-15-c162e23e00d3>\"\u001b[0;36m, line \u001b[0;32m2\u001b[0m\n\u001b[0;31m    match fruit:\u001b[0m\n\u001b[0m          ^\u001b[0m\n\u001b[0;31mSyntaxError\u001b[0m\u001b[0;31m:\u001b[0m invalid syntax\n"
          ]
        }
      ]
    },
    {
      "cell_type": "markdown",
      "source": [
        "# **next class**"
      ],
      "metadata": {
        "id": "iN9aXihhqNba"
      }
    },
    {
      "cell_type": "code",
      "source": [],
      "metadata": {
        "id": "yPMOBXQFqQz8"
      },
      "execution_count": null,
      "outputs": []
    }
  ],
  "metadata": {
    "colab": {
      "collapsed_sections": [
        "vCnbFtLJeutN",
        "6PKvmSUC3AGV",
        "86Y6-FYxB2e7",
        "VEkWsAjE8zTF",
        "41yrDP28GZ_3",
        "k9zezOTwBXHA",
        "b5XtVHuHeeZb"
      ],
      "provenance": [],
      "include_colab_link": true
    },
    "gpuClass": "standard",
    "kernelspec": {
      "display_name": "Python 3",
      "name": "python3"
    },
    "language_info": {
      "name": "python"
    }
  },
  "nbformat": 4,
  "nbformat_minor": 0
}